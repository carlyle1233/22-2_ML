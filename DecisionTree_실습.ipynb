{
  "nbformat": 4,
  "nbformat_minor": 0,
  "metadata": {
    "colab": {
      "provenance": [],
      "authorship_tag": "ABX9TyORugRbWPFtPaQQTwM8UPns",
      "include_colab_link": true
    },
    "kernelspec": {
      "name": "python3",
      "display_name": "Python 3"
    },
    "language_info": {
      "name": "python"
    }
  },
  "cells": [
    {
      "cell_type": "markdown",
      "metadata": {
        "id": "view-in-github",
        "colab_type": "text"
      },
      "source": [
        "<a href=\"https://colab.research.google.com/github/carlyle1233/22-2_ML/blob/main/DecisionTree_%EC%8B%A4%EC%8A%B5.ipynb\" target=\"_parent\"><img src=\"https://colab.research.google.com/assets/colab-badge.svg\" alt=\"Open In Colab\"/></a>"
      ]
    },
    {
      "cell_type": "markdown",
      "source": [
        "# 1. Data import and Data split: preprocessing"
      ],
      "metadata": {
        "id": "SQ6B7EcI9hIo"
      }
    },
    {
      "cell_type": "code",
      "execution_count": 1,
      "metadata": {
        "colab": {
          "base_uri": "https://localhost:8080/"
        },
        "id": "GkpVUM-q9duc",
        "outputId": "7dbab86a-c060-4a5e-ff3a-31bd91bd6aff"
      },
      "outputs": [
        {
          "output_type": "stream",
          "name": "stdout",
          "text": [
            "Mounted at /content/drive\n"
          ]
        }
      ],
      "source": [
        "from google.colab import drive \n",
        "drive.mount('/content/drive')"
      ]
    },
    {
      "cell_type": "code",
      "source": [
        "import warnings \n",
        "warnings.filterwarnings('ignore')\n",
        "\n",
        "import pandas as pd\n",
        "import seaborn as sns \n",
        "import numpy as np\n",
        "import matplotlib.pyplot as plt \n",
        "from sklearn.model_selection import train_test_split\n",
        "from sklearn.model_selection import GridSearchCV\n",
        "from sklearn.tree import DecisionTreeClassifier\n",
        "from sklearn.model_selection import RandomizedSearchCV\n",
        "from scipy.stats import randint\n",
        "from sklearn.metrics import confusion_matrix, f1_score, classification_report \n",
        "from sklearn.tree import export_graphviz "
      ],
      "metadata": {
        "id": "RZuL7ZAB9mWe"
      },
      "execution_count": 78,
      "outputs": []
    },
    {
      "cell_type": "code",
      "source": [
        "data=pd.read_csv('/content/drive/MyDrive/Colab Notebooks/MachineLearning/data/Fvote.csv', encoding='utf-8')"
      ],
      "metadata": {
        "id": "kyZrIUwX9mTv"
      },
      "execution_count": 29,
      "outputs": []
    },
    {
      "cell_type": "code",
      "source": [
        "data.columns"
      ],
      "metadata": {
        "colab": {
          "base_uri": "https://localhost:8080/"
        },
        "id": "QQ2Fq72P_KJP",
        "outputId": "7862554c-bb75-4e87-bb1b-7fc86cb43ef9"
      },
      "execution_count": 30,
      "outputs": [
        {
          "output_type": "execute_result",
          "data": {
            "text/plain": [
              "Index(['Unnamed: 0', 'gender_female', 'gender_male', 'region_Chungcheung',\n",
              "       'region_Honam', 'region_Others', 'region_Sudo', 'region_Youngnam',\n",
              "       'edu', 'income', 'age', 'score_gov', 'score_progress',\n",
              "       'score_intention', 'vote', 'parties'],\n",
              "      dtype='object')"
            ]
          },
          "metadata": {},
          "execution_count": 30
        }
      ]
    },
    {
      "cell_type": "code",
      "source": [
        "data"
      ],
      "metadata": {
        "colab": {
          "base_uri": "https://localhost:8080/",
          "height": 505
        },
        "id": "RWq9OQtV_ovH",
        "outputId": "91eb5f91-ac41-4084-be4b-160c7704bcae"
      },
      "execution_count": 31,
      "outputs": [
        {
          "output_type": "execute_result",
          "data": {
            "text/plain": [
              "     Unnamed: 0  gender_female  gender_male  region_Chungcheung  region_Honam  \\\n",
              "0             0              0            1                   0             0   \n",
              "1             1              0            1                   0             0   \n",
              "2             2              0            1                   0             1   \n",
              "3             3              1            0                   0             0   \n",
              "4             4              0            1                   0             0   \n",
              "..          ...            ...          ...                 ...           ...   \n",
              "206         206              0            1                   0             0   \n",
              "207         207              0            1                   0             0   \n",
              "208         208              0            1                   1             0   \n",
              "209         209              0            1                   0             0   \n",
              "210         210              1            0                   0             0   \n",
              "\n",
              "     region_Others  region_Sudo  region_Youngnam  edu    income       age  \\\n",
              "0                0            0                1  1.0  0.666667  0.666667   \n",
              "1                1            0                0  0.5  0.666667  0.666667   \n",
              "2                0            0                0  0.0  0.333333  1.000000   \n",
              "3                0            1                0  0.5  0.000000  0.666667   \n",
              "4                0            1                0  0.0  0.333333  1.000000   \n",
              "..             ...          ...              ...  ...       ...       ...   \n",
              "206              0            0                1  0.0  1.000000  1.000000   \n",
              "207              0            1                0  0.5  0.000000  0.333333   \n",
              "208              0            0                0  0.5  0.000000  0.333333   \n",
              "209              0            1                0  0.5  0.666667  1.000000   \n",
              "210              0            1                0  0.5  0.333333  0.333333   \n",
              "\n",
              "     score_gov  score_progress  score_intention  vote  parties  \n",
              "0         0.25            0.25             0.75     1        2  \n",
              "1         0.25            0.75             0.50     0        3  \n",
              "2         0.00            0.50             0.45     1        4  \n",
              "3         1.00            0.75             0.40     1        1  \n",
              "4         0.75            0.50             0.35     1        1  \n",
              "..         ...             ...              ...   ...      ...  \n",
              "206       0.50            0.50             0.20     1        2  \n",
              "207       0.50            0.75             0.40     1        4  \n",
              "208       0.50            0.50             0.40     1        2  \n",
              "209       0.50            0.25             0.75     1        4  \n",
              "210       0.50            0.50             0.70     1        2  \n",
              "\n",
              "[211 rows x 16 columns]"
            ],
            "text/html": [
              "\n",
              "  <div id=\"df-76076fa7-aaf0-46fa-a1b7-265746755eea\">\n",
              "    <div class=\"colab-df-container\">\n",
              "      <div>\n",
              "<style scoped>\n",
              "    .dataframe tbody tr th:only-of-type {\n",
              "        vertical-align: middle;\n",
              "    }\n",
              "\n",
              "    .dataframe tbody tr th {\n",
              "        vertical-align: top;\n",
              "    }\n",
              "\n",
              "    .dataframe thead th {\n",
              "        text-align: right;\n",
              "    }\n",
              "</style>\n",
              "<table border=\"1\" class=\"dataframe\">\n",
              "  <thead>\n",
              "    <tr style=\"text-align: right;\">\n",
              "      <th></th>\n",
              "      <th>Unnamed: 0</th>\n",
              "      <th>gender_female</th>\n",
              "      <th>gender_male</th>\n",
              "      <th>region_Chungcheung</th>\n",
              "      <th>region_Honam</th>\n",
              "      <th>region_Others</th>\n",
              "      <th>region_Sudo</th>\n",
              "      <th>region_Youngnam</th>\n",
              "      <th>edu</th>\n",
              "      <th>income</th>\n",
              "      <th>age</th>\n",
              "      <th>score_gov</th>\n",
              "      <th>score_progress</th>\n",
              "      <th>score_intention</th>\n",
              "      <th>vote</th>\n",
              "      <th>parties</th>\n",
              "    </tr>\n",
              "  </thead>\n",
              "  <tbody>\n",
              "    <tr>\n",
              "      <th>0</th>\n",
              "      <td>0</td>\n",
              "      <td>0</td>\n",
              "      <td>1</td>\n",
              "      <td>0</td>\n",
              "      <td>0</td>\n",
              "      <td>0</td>\n",
              "      <td>0</td>\n",
              "      <td>1</td>\n",
              "      <td>1.0</td>\n",
              "      <td>0.666667</td>\n",
              "      <td>0.666667</td>\n",
              "      <td>0.25</td>\n",
              "      <td>0.25</td>\n",
              "      <td>0.75</td>\n",
              "      <td>1</td>\n",
              "      <td>2</td>\n",
              "    </tr>\n",
              "    <tr>\n",
              "      <th>1</th>\n",
              "      <td>1</td>\n",
              "      <td>0</td>\n",
              "      <td>1</td>\n",
              "      <td>0</td>\n",
              "      <td>0</td>\n",
              "      <td>1</td>\n",
              "      <td>0</td>\n",
              "      <td>0</td>\n",
              "      <td>0.5</td>\n",
              "      <td>0.666667</td>\n",
              "      <td>0.666667</td>\n",
              "      <td>0.25</td>\n",
              "      <td>0.75</td>\n",
              "      <td>0.50</td>\n",
              "      <td>0</td>\n",
              "      <td>3</td>\n",
              "    </tr>\n",
              "    <tr>\n",
              "      <th>2</th>\n",
              "      <td>2</td>\n",
              "      <td>0</td>\n",
              "      <td>1</td>\n",
              "      <td>0</td>\n",
              "      <td>1</td>\n",
              "      <td>0</td>\n",
              "      <td>0</td>\n",
              "      <td>0</td>\n",
              "      <td>0.0</td>\n",
              "      <td>0.333333</td>\n",
              "      <td>1.000000</td>\n",
              "      <td>0.00</td>\n",
              "      <td>0.50</td>\n",
              "      <td>0.45</td>\n",
              "      <td>1</td>\n",
              "      <td>4</td>\n",
              "    </tr>\n",
              "    <tr>\n",
              "      <th>3</th>\n",
              "      <td>3</td>\n",
              "      <td>1</td>\n",
              "      <td>0</td>\n",
              "      <td>0</td>\n",
              "      <td>0</td>\n",
              "      <td>0</td>\n",
              "      <td>1</td>\n",
              "      <td>0</td>\n",
              "      <td>0.5</td>\n",
              "      <td>0.000000</td>\n",
              "      <td>0.666667</td>\n",
              "      <td>1.00</td>\n",
              "      <td>0.75</td>\n",
              "      <td>0.40</td>\n",
              "      <td>1</td>\n",
              "      <td>1</td>\n",
              "    </tr>\n",
              "    <tr>\n",
              "      <th>4</th>\n",
              "      <td>4</td>\n",
              "      <td>0</td>\n",
              "      <td>1</td>\n",
              "      <td>0</td>\n",
              "      <td>0</td>\n",
              "      <td>0</td>\n",
              "      <td>1</td>\n",
              "      <td>0</td>\n",
              "      <td>0.0</td>\n",
              "      <td>0.333333</td>\n",
              "      <td>1.000000</td>\n",
              "      <td>0.75</td>\n",
              "      <td>0.50</td>\n",
              "      <td>0.35</td>\n",
              "      <td>1</td>\n",
              "      <td>1</td>\n",
              "    </tr>\n",
              "    <tr>\n",
              "      <th>...</th>\n",
              "      <td>...</td>\n",
              "      <td>...</td>\n",
              "      <td>...</td>\n",
              "      <td>...</td>\n",
              "      <td>...</td>\n",
              "      <td>...</td>\n",
              "      <td>...</td>\n",
              "      <td>...</td>\n",
              "      <td>...</td>\n",
              "      <td>...</td>\n",
              "      <td>...</td>\n",
              "      <td>...</td>\n",
              "      <td>...</td>\n",
              "      <td>...</td>\n",
              "      <td>...</td>\n",
              "      <td>...</td>\n",
              "    </tr>\n",
              "    <tr>\n",
              "      <th>206</th>\n",
              "      <td>206</td>\n",
              "      <td>0</td>\n",
              "      <td>1</td>\n",
              "      <td>0</td>\n",
              "      <td>0</td>\n",
              "      <td>0</td>\n",
              "      <td>0</td>\n",
              "      <td>1</td>\n",
              "      <td>0.0</td>\n",
              "      <td>1.000000</td>\n",
              "      <td>1.000000</td>\n",
              "      <td>0.50</td>\n",
              "      <td>0.50</td>\n",
              "      <td>0.20</td>\n",
              "      <td>1</td>\n",
              "      <td>2</td>\n",
              "    </tr>\n",
              "    <tr>\n",
              "      <th>207</th>\n",
              "      <td>207</td>\n",
              "      <td>0</td>\n",
              "      <td>1</td>\n",
              "      <td>0</td>\n",
              "      <td>0</td>\n",
              "      <td>0</td>\n",
              "      <td>1</td>\n",
              "      <td>0</td>\n",
              "      <td>0.5</td>\n",
              "      <td>0.000000</td>\n",
              "      <td>0.333333</td>\n",
              "      <td>0.50</td>\n",
              "      <td>0.75</td>\n",
              "      <td>0.40</td>\n",
              "      <td>1</td>\n",
              "      <td>4</td>\n",
              "    </tr>\n",
              "    <tr>\n",
              "      <th>208</th>\n",
              "      <td>208</td>\n",
              "      <td>0</td>\n",
              "      <td>1</td>\n",
              "      <td>1</td>\n",
              "      <td>0</td>\n",
              "      <td>0</td>\n",
              "      <td>0</td>\n",
              "      <td>0</td>\n",
              "      <td>0.5</td>\n",
              "      <td>0.000000</td>\n",
              "      <td>0.333333</td>\n",
              "      <td>0.50</td>\n",
              "      <td>0.50</td>\n",
              "      <td>0.40</td>\n",
              "      <td>1</td>\n",
              "      <td>2</td>\n",
              "    </tr>\n",
              "    <tr>\n",
              "      <th>209</th>\n",
              "      <td>209</td>\n",
              "      <td>0</td>\n",
              "      <td>1</td>\n",
              "      <td>0</td>\n",
              "      <td>0</td>\n",
              "      <td>0</td>\n",
              "      <td>1</td>\n",
              "      <td>0</td>\n",
              "      <td>0.5</td>\n",
              "      <td>0.666667</td>\n",
              "      <td>1.000000</td>\n",
              "      <td>0.50</td>\n",
              "      <td>0.25</td>\n",
              "      <td>0.75</td>\n",
              "      <td>1</td>\n",
              "      <td>4</td>\n",
              "    </tr>\n",
              "    <tr>\n",
              "      <th>210</th>\n",
              "      <td>210</td>\n",
              "      <td>1</td>\n",
              "      <td>0</td>\n",
              "      <td>0</td>\n",
              "      <td>0</td>\n",
              "      <td>0</td>\n",
              "      <td>1</td>\n",
              "      <td>0</td>\n",
              "      <td>0.5</td>\n",
              "      <td>0.333333</td>\n",
              "      <td>0.333333</td>\n",
              "      <td>0.50</td>\n",
              "      <td>0.50</td>\n",
              "      <td>0.70</td>\n",
              "      <td>1</td>\n",
              "      <td>2</td>\n",
              "    </tr>\n",
              "  </tbody>\n",
              "</table>\n",
              "<p>211 rows × 16 columns</p>\n",
              "</div>\n",
              "      <button class=\"colab-df-convert\" onclick=\"convertToInteractive('df-76076fa7-aaf0-46fa-a1b7-265746755eea')\"\n",
              "              title=\"Convert this dataframe to an interactive table.\"\n",
              "              style=\"display:none;\">\n",
              "        \n",
              "  <svg xmlns=\"http://www.w3.org/2000/svg\" height=\"24px\"viewBox=\"0 0 24 24\"\n",
              "       width=\"24px\">\n",
              "    <path d=\"M0 0h24v24H0V0z\" fill=\"none\"/>\n",
              "    <path d=\"M18.56 5.44l.94 2.06.94-2.06 2.06-.94-2.06-.94-.94-2.06-.94 2.06-2.06.94zm-11 1L8.5 8.5l.94-2.06 2.06-.94-2.06-.94L8.5 2.5l-.94 2.06-2.06.94zm10 10l.94 2.06.94-2.06 2.06-.94-2.06-.94-.94-2.06-.94 2.06-2.06.94z\"/><path d=\"M17.41 7.96l-1.37-1.37c-.4-.4-.92-.59-1.43-.59-.52 0-1.04.2-1.43.59L10.3 9.45l-7.72 7.72c-.78.78-.78 2.05 0 2.83L4 21.41c.39.39.9.59 1.41.59.51 0 1.02-.2 1.41-.59l7.78-7.78 2.81-2.81c.8-.78.8-2.07 0-2.86zM5.41 20L4 18.59l7.72-7.72 1.47 1.35L5.41 20z\"/>\n",
              "  </svg>\n",
              "      </button>\n",
              "      \n",
              "  <style>\n",
              "    .colab-df-container {\n",
              "      display:flex;\n",
              "      flex-wrap:wrap;\n",
              "      gap: 12px;\n",
              "    }\n",
              "\n",
              "    .colab-df-convert {\n",
              "      background-color: #E8F0FE;\n",
              "      border: none;\n",
              "      border-radius: 50%;\n",
              "      cursor: pointer;\n",
              "      display: none;\n",
              "      fill: #1967D2;\n",
              "      height: 32px;\n",
              "      padding: 0 0 0 0;\n",
              "      width: 32px;\n",
              "    }\n",
              "\n",
              "    .colab-df-convert:hover {\n",
              "      background-color: #E2EBFA;\n",
              "      box-shadow: 0px 1px 2px rgba(60, 64, 67, 0.3), 0px 1px 3px 1px rgba(60, 64, 67, 0.15);\n",
              "      fill: #174EA6;\n",
              "    }\n",
              "\n",
              "    [theme=dark] .colab-df-convert {\n",
              "      background-color: #3B4455;\n",
              "      fill: #D2E3FC;\n",
              "    }\n",
              "\n",
              "    [theme=dark] .colab-df-convert:hover {\n",
              "      background-color: #434B5C;\n",
              "      box-shadow: 0px 1px 3px 1px rgba(0, 0, 0, 0.15);\n",
              "      filter: drop-shadow(0px 1px 2px rgba(0, 0, 0, 0.3));\n",
              "      fill: #FFFFFF;\n",
              "    }\n",
              "  </style>\n",
              "\n",
              "      <script>\n",
              "        const buttonEl =\n",
              "          document.querySelector('#df-76076fa7-aaf0-46fa-a1b7-265746755eea button.colab-df-convert');\n",
              "        buttonEl.style.display =\n",
              "          google.colab.kernel.accessAllowed ? 'block' : 'none';\n",
              "\n",
              "        async function convertToInteractive(key) {\n",
              "          const element = document.querySelector('#df-76076fa7-aaf0-46fa-a1b7-265746755eea');\n",
              "          const dataTable =\n",
              "            await google.colab.kernel.invokeFunction('convertToInteractive',\n",
              "                                                     [key], {});\n",
              "          if (!dataTable) return;\n",
              "\n",
              "          const docLinkHtml = 'Like what you see? Visit the ' +\n",
              "            '<a target=\"_blank\" href=https://colab.research.google.com/notebooks/data_table.ipynb>data table notebook</a>'\n",
              "            + ' to learn more about interactive tables.';\n",
              "          element.innerHTML = '';\n",
              "          dataTable['output_type'] = 'display_data';\n",
              "          await google.colab.output.renderOutput(dataTable, element);\n",
              "          const docLink = document.createElement('div');\n",
              "          docLink.innerHTML = docLinkHtml;\n",
              "          element.appendChild(docLink);\n",
              "        }\n",
              "      </script>\n",
              "    </div>\n",
              "  </div>\n",
              "  "
            ]
          },
          "metadata": {},
          "execution_count": 31
        }
      ]
    },
    {
      "cell_type": "code",
      "source": [
        "X=data[['gender_female', 'gender_male', 'region_Chungcheung',\n",
        "       'region_Honam', 'region_Others', 'region_Sudo', 'region_Youngnam',\n",
        "       'edu', 'income', 'age', 'score_gov', 'score_progress',\n",
        "       'score_intention']]\n",
        "y=data['vote']"
      ],
      "metadata": {
        "id": "uu7KRfND_MaE"
      },
      "execution_count": 34,
      "outputs": []
    },
    {
      "cell_type": "code",
      "source": [
        "X_train, X_test, y_train, y_test=train_test_split(X,y,random_state=42)"
      ],
      "metadata": {
        "id": "PRlyDdWc_TBV"
      },
      "execution_count": 41,
      "outputs": []
    },
    {
      "cell_type": "markdown",
      "source": [
        "#2. Grid Search"
      ],
      "metadata": {
        "id": "IG4VPQjt_7hU"
      }
    },
    {
      "cell_type": "markdown",
      "source": [
        "\n",
        "\n",
        "*   estimator: classifier, regressor, pipeline등 가능 \n",
        "\n",
        "*   param_grid: 튜닝을 위해 파라미터, 사용될 파라미터를 dictionary 형태로 만들어서 넣는다. \n",
        "\n",
        "*   scoring: 예측 성능을 측정할 평가 방법을 넣는다. 보통 accuracy로 지정해 정확도로 성능 평가를 한다. \n",
        "*   cv: 교차 검증에서 몇개로 분할되는지 지정한다. \n",
        "\n",
        "\n",
        "**Decision Tree의 구조** \n",
        "\n",
        "\n",
        "*   root node: 시작점 \n",
        "*   leaf node: 결정된 클래스 값 \n",
        "*   decision node/ internal node: 데이터 세트의 feature가 결합해 만들어진 분류를 위한 규칙조건 \n",
        "\n",
        "![스크린샷 2022-11-28 오후 8.42.42.png](data:image/png;base64,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)\n",
        "\n",
        "**Decision Tree Classifer의 파라미터**\n",
        "\n",
        "\n",
        "\n",
        "*   min_samples_leaf\n",
        "\n",
        ":leaf node가 되기 위해 필요한 최소한 샘플 데이터 수 \n",
        ":불균형 데이터의 경우 특정 클래스의 데이터가 극도로 작을 수 있으므로 작게 설정 필요 \n",
        "\n",
        "*   항목 추가\n",
        "*   항목 추가\n",
        "\n",
        "\n",
        "*   항목 추가\n",
        "\n",
        "\n"
      ],
      "metadata": {
        "id": "sB6MRsRjBWFs"
      }
    },
    {
      "cell_type": "code",
      "source": [
        "param_grid={'max_depth': range(2,20,2),'min_samples_leaf': range(1,50,2)}\n"
      ],
      "metadata": {
        "id": "j-JjLKRa_7WM"
      },
      "execution_count": 53,
      "outputs": []
    },
    {
      "cell_type": "code",
      "source": [
        "\n",
        "grid_search=GridSearchCV(DecisionTreeClassifier(), param_grid, cv=5, return_train_score=True)\n",
        "grid_search.fit(X_train, y_train)"
      ],
      "metadata": {
        "colab": {
          "base_uri": "https://localhost:8080/"
        },
        "id": "7-HyrKYkBCc7",
        "outputId": "800c54f8-b8a6-459b-cb48-bb7306c20cd1"
      },
      "execution_count": 55,
      "outputs": [
        {
          "output_type": "execute_result",
          "data": {
            "text/plain": [
              "GridSearchCV(cv=5, estimator=DecisionTreeClassifier(),\n",
              "             param_grid={'max_depth': range(2, 20, 2),\n",
              "                         'min_samples_leaf': range(1, 50, 2)},\n",
              "             return_train_score=True)"
            ]
          },
          "metadata": {},
          "execution_count": 55
        }
      ]
    },
    {
      "cell_type": "code",
      "source": [
        "print(\"Best Parameter: {}\".format(grid_search.best_params_))\n",
        "print(\"Best Cross-validity score: {:.3f}\".format(grid_search.best_score_))\n",
        "print(\"Test set score {:.3f}\".format(grid_search.score(X_test, y_test)))\n"
      ],
      "metadata": {
        "colab": {
          "base_uri": "https://localhost:8080/"
        },
        "id": "xNVwvuXG_-gq",
        "outputId": "6518af84-8873-49f4-d663-d0163870b601"
      },
      "execution_count": 56,
      "outputs": [
        {
          "output_type": "stream",
          "name": "stdout",
          "text": [
            "Best Parameter: {'max_depth': 4, 'min_samples_leaf': 3}\n",
            "Best Cross-validity score: 0.716\n",
            "Test set score 0.774\n"
          ]
        }
      ]
    },
    {
      "cell_type": "code",
      "source": [
        "result_grid=pd.DataFrame(grid_search.cv_results_)\n",
        "result_grid"
      ],
      "metadata": {
        "colab": {
          "base_uri": "https://localhost:8080/",
          "height": 835
        },
        "id": "Jerz8vrh_-eW",
        "outputId": "dc9d9c4f-d473-4c24-b982-911489f8b47a"
      },
      "execution_count": 58,
      "outputs": [
        {
          "output_type": "execute_result",
          "data": {
            "text/plain": [
              "     mean_fit_time  std_fit_time  mean_score_time  std_score_time  \\\n",
              "0         0.003706      0.001987         0.002300        0.000639   \n",
              "1         0.002527      0.000434         0.001671        0.000109   \n",
              "2         0.002254      0.000050         0.001684        0.000105   \n",
              "3         0.002481      0.000364         0.001668        0.000108   \n",
              "4         0.002185      0.000051         0.001627        0.000117   \n",
              "..             ...           ...              ...             ...   \n",
              "220       0.002459      0.000076         0.001749        0.000048   \n",
              "221       0.002446      0.000036         0.001791        0.000090   \n",
              "222       0.002499      0.000092         0.001941        0.000111   \n",
              "223       0.002795      0.000203         0.002187        0.000384   \n",
              "224       0.002645      0.000181         0.001892        0.000119   \n",
              "\n",
              "    param_max_depth param_min_samples_leaf  \\\n",
              "0                 2                      1   \n",
              "1                 2                      3   \n",
              "2                 2                      5   \n",
              "3                 2                      7   \n",
              "4                 2                      9   \n",
              "..              ...                    ...   \n",
              "220              18                     41   \n",
              "221              18                     43   \n",
              "222              18                     45   \n",
              "223              18                     47   \n",
              "224              18                     49   \n",
              "\n",
              "                                        params  split0_test_score  \\\n",
              "0      {'max_depth': 2, 'min_samples_leaf': 1}             0.6875   \n",
              "1      {'max_depth': 2, 'min_samples_leaf': 3}             0.6875   \n",
              "2      {'max_depth': 2, 'min_samples_leaf': 5}             0.6875   \n",
              "3      {'max_depth': 2, 'min_samples_leaf': 7}             0.6875   \n",
              "4      {'max_depth': 2, 'min_samples_leaf': 9}             0.6875   \n",
              "..                                         ...                ...   \n",
              "220  {'max_depth': 18, 'min_samples_leaf': 41}             0.6875   \n",
              "221  {'max_depth': 18, 'min_samples_leaf': 43}             0.6875   \n",
              "222  {'max_depth': 18, 'min_samples_leaf': 45}             0.6875   \n",
              "223  {'max_depth': 18, 'min_samples_leaf': 47}             0.6875   \n",
              "224  {'max_depth': 18, 'min_samples_leaf': 49}             0.6875   \n",
              "\n",
              "     split1_test_score  split2_test_score  ...  mean_test_score  \\\n",
              "0               0.6250            0.59375  ...         0.607056   \n",
              "1               0.6875            0.59375  ...         0.619556   \n",
              "2               0.6875            0.59375  ...         0.671169   \n",
              "3               0.6875            0.59375  ...         0.671169   \n",
              "4               0.6875            0.59375  ...         0.671169   \n",
              "..                 ...                ...  ...              ...   \n",
              "220             0.6875            0.68750  ...         0.696371   \n",
              "221             0.6875            0.68750  ...         0.696371   \n",
              "222             0.6875            0.68750  ...         0.696371   \n",
              "223             0.6875            0.68750  ...         0.696371   \n",
              "224             0.6875            0.68750  ...         0.696371   \n",
              "\n",
              "     std_test_score  rank_test_score  split0_train_score  split1_train_score  \\\n",
              "0          0.068698              215            0.698413            0.706349   \n",
              "1          0.076111              209            0.698413            0.698413   \n",
              "2          0.049419              122            0.698413            0.698413   \n",
              "3          0.049419              122            0.698413            0.698413   \n",
              "4          0.049419              122            0.698413            0.698413   \n",
              "..              ...              ...                 ...                 ...   \n",
              "220        0.010865                2            0.698413            0.698413   \n",
              "221        0.010865                2            0.698413            0.698413   \n",
              "222        0.010865                2            0.698413            0.698413   \n",
              "223        0.010865                2            0.698413            0.698413   \n",
              "224        0.010865                2            0.698413            0.698413   \n",
              "\n",
              "     split2_train_score  split3_train_score  split4_train_score  \\\n",
              "0              0.698413            0.708661            0.692913   \n",
              "1              0.698413            0.708661            0.692913   \n",
              "2              0.698413            0.708661            0.732283   \n",
              "3              0.698413            0.708661            0.732283   \n",
              "4              0.698413            0.708661            0.732283   \n",
              "..                  ...                 ...                 ...   \n",
              "220            0.698413            0.692913            0.692913   \n",
              "221            0.698413            0.692913            0.692913   \n",
              "222            0.698413            0.692913            0.692913   \n",
              "223            0.698413            0.692913            0.692913   \n",
              "224            0.698413            0.692913            0.692913   \n",
              "\n",
              "     mean_train_score  std_train_score  \n",
              "0            0.700950         0.005763  \n",
              "1            0.699363         0.005114  \n",
              "2            0.707237         0.013137  \n",
              "3            0.707237         0.013137  \n",
              "4            0.707237         0.013137  \n",
              "..                ...              ...  \n",
              "220          0.696213         0.002694  \n",
              "221          0.696213         0.002694  \n",
              "222          0.696213         0.002694  \n",
              "223          0.696213         0.002694  \n",
              "224          0.696213         0.002694  \n",
              "\n",
              "[225 rows x 22 columns]"
            ],
            "text/html": [
              "\n",
              "  <div id=\"df-64255718-18af-48e6-be2d-42fe0a495ce9\">\n",
              "    <div class=\"colab-df-container\">\n",
              "      <div>\n",
              "<style scoped>\n",
              "    .dataframe tbody tr th:only-of-type {\n",
              "        vertical-align: middle;\n",
              "    }\n",
              "\n",
              "    .dataframe tbody tr th {\n",
              "        vertical-align: top;\n",
              "    }\n",
              "\n",
              "    .dataframe thead th {\n",
              "        text-align: right;\n",
              "    }\n",
              "</style>\n",
              "<table border=\"1\" class=\"dataframe\">\n",
              "  <thead>\n",
              "    <tr style=\"text-align: right;\">\n",
              "      <th></th>\n",
              "      <th>mean_fit_time</th>\n",
              "      <th>std_fit_time</th>\n",
              "      <th>mean_score_time</th>\n",
              "      <th>std_score_time</th>\n",
              "      <th>param_max_depth</th>\n",
              "      <th>param_min_samples_leaf</th>\n",
              "      <th>params</th>\n",
              "      <th>split0_test_score</th>\n",
              "      <th>split1_test_score</th>\n",
              "      <th>split2_test_score</th>\n",
              "      <th>...</th>\n",
              "      <th>mean_test_score</th>\n",
              "      <th>std_test_score</th>\n",
              "      <th>rank_test_score</th>\n",
              "      <th>split0_train_score</th>\n",
              "      <th>split1_train_score</th>\n",
              "      <th>split2_train_score</th>\n",
              "      <th>split3_train_score</th>\n",
              "      <th>split4_train_score</th>\n",
              "      <th>mean_train_score</th>\n",
              "      <th>std_train_score</th>\n",
              "    </tr>\n",
              "  </thead>\n",
              "  <tbody>\n",
              "    <tr>\n",
              "      <th>0</th>\n",
              "      <td>0.003706</td>\n",
              "      <td>0.001987</td>\n",
              "      <td>0.002300</td>\n",
              "      <td>0.000639</td>\n",
              "      <td>2</td>\n",
              "      <td>1</td>\n",
              "      <td>{'max_depth': 2, 'min_samples_leaf': 1}</td>\n",
              "      <td>0.6875</td>\n",
              "      <td>0.6250</td>\n",
              "      <td>0.59375</td>\n",
              "      <td>...</td>\n",
              "      <td>0.607056</td>\n",
              "      <td>0.068698</td>\n",
              "      <td>215</td>\n",
              "      <td>0.698413</td>\n",
              "      <td>0.706349</td>\n",
              "      <td>0.698413</td>\n",
              "      <td>0.708661</td>\n",
              "      <td>0.692913</td>\n",
              "      <td>0.700950</td>\n",
              "      <td>0.005763</td>\n",
              "    </tr>\n",
              "    <tr>\n",
              "      <th>1</th>\n",
              "      <td>0.002527</td>\n",
              "      <td>0.000434</td>\n",
              "      <td>0.001671</td>\n",
              "      <td>0.000109</td>\n",
              "      <td>2</td>\n",
              "      <td>3</td>\n",
              "      <td>{'max_depth': 2, 'min_samples_leaf': 3}</td>\n",
              "      <td>0.6875</td>\n",
              "      <td>0.6875</td>\n",
              "      <td>0.59375</td>\n",
              "      <td>...</td>\n",
              "      <td>0.619556</td>\n",
              "      <td>0.076111</td>\n",
              "      <td>209</td>\n",
              "      <td>0.698413</td>\n",
              "      <td>0.698413</td>\n",
              "      <td>0.698413</td>\n",
              "      <td>0.708661</td>\n",
              "      <td>0.692913</td>\n",
              "      <td>0.699363</td>\n",
              "      <td>0.005114</td>\n",
              "    </tr>\n",
              "    <tr>\n",
              "      <th>2</th>\n",
              "      <td>0.002254</td>\n",
              "      <td>0.000050</td>\n",
              "      <td>0.001684</td>\n",
              "      <td>0.000105</td>\n",
              "      <td>2</td>\n",
              "      <td>5</td>\n",
              "      <td>{'max_depth': 2, 'min_samples_leaf': 5}</td>\n",
              "      <td>0.6875</td>\n",
              "      <td>0.6875</td>\n",
              "      <td>0.59375</td>\n",
              "      <td>...</td>\n",
              "      <td>0.671169</td>\n",
              "      <td>0.049419</td>\n",
              "      <td>122</td>\n",
              "      <td>0.698413</td>\n",
              "      <td>0.698413</td>\n",
              "      <td>0.698413</td>\n",
              "      <td>0.708661</td>\n",
              "      <td>0.732283</td>\n",
              "      <td>0.707237</td>\n",
              "      <td>0.013137</td>\n",
              "    </tr>\n",
              "    <tr>\n",
              "      <th>3</th>\n",
              "      <td>0.002481</td>\n",
              "      <td>0.000364</td>\n",
              "      <td>0.001668</td>\n",
              "      <td>0.000108</td>\n",
              "      <td>2</td>\n",
              "      <td>7</td>\n",
              "      <td>{'max_depth': 2, 'min_samples_leaf': 7}</td>\n",
              "      <td>0.6875</td>\n",
              "      <td>0.6875</td>\n",
              "      <td>0.59375</td>\n",
              "      <td>...</td>\n",
              "      <td>0.671169</td>\n",
              "      <td>0.049419</td>\n",
              "      <td>122</td>\n",
              "      <td>0.698413</td>\n",
              "      <td>0.698413</td>\n",
              "      <td>0.698413</td>\n",
              "      <td>0.708661</td>\n",
              "      <td>0.732283</td>\n",
              "      <td>0.707237</td>\n",
              "      <td>0.013137</td>\n",
              "    </tr>\n",
              "    <tr>\n",
              "      <th>4</th>\n",
              "      <td>0.002185</td>\n",
              "      <td>0.000051</td>\n",
              "      <td>0.001627</td>\n",
              "      <td>0.000117</td>\n",
              "      <td>2</td>\n",
              "      <td>9</td>\n",
              "      <td>{'max_depth': 2, 'min_samples_leaf': 9}</td>\n",
              "      <td>0.6875</td>\n",
              "      <td>0.6875</td>\n",
              "      <td>0.59375</td>\n",
              "      <td>...</td>\n",
              "      <td>0.671169</td>\n",
              "      <td>0.049419</td>\n",
              "      <td>122</td>\n",
              "      <td>0.698413</td>\n",
              "      <td>0.698413</td>\n",
              "      <td>0.698413</td>\n",
              "      <td>0.708661</td>\n",
              "      <td>0.732283</td>\n",
              "      <td>0.707237</td>\n",
              "      <td>0.013137</td>\n",
              "    </tr>\n",
              "    <tr>\n",
              "      <th>...</th>\n",
              "      <td>...</td>\n",
              "      <td>...</td>\n",
              "      <td>...</td>\n",
              "      <td>...</td>\n",
              "      <td>...</td>\n",
              "      <td>...</td>\n",
              "      <td>...</td>\n",
              "      <td>...</td>\n",
              "      <td>...</td>\n",
              "      <td>...</td>\n",
              "      <td>...</td>\n",
              "      <td>...</td>\n",
              "      <td>...</td>\n",
              "      <td>...</td>\n",
              "      <td>...</td>\n",
              "      <td>...</td>\n",
              "      <td>...</td>\n",
              "      <td>...</td>\n",
              "      <td>...</td>\n",
              "      <td>...</td>\n",
              "      <td>...</td>\n",
              "    </tr>\n",
              "    <tr>\n",
              "      <th>220</th>\n",
              "      <td>0.002459</td>\n",
              "      <td>0.000076</td>\n",
              "      <td>0.001749</td>\n",
              "      <td>0.000048</td>\n",
              "      <td>18</td>\n",
              "      <td>41</td>\n",
              "      <td>{'max_depth': 18, 'min_samples_leaf': 41}</td>\n",
              "      <td>0.6875</td>\n",
              "      <td>0.6875</td>\n",
              "      <td>0.68750</td>\n",
              "      <td>...</td>\n",
              "      <td>0.696371</td>\n",
              "      <td>0.010865</td>\n",
              "      <td>2</td>\n",
              "      <td>0.698413</td>\n",
              "      <td>0.698413</td>\n",
              "      <td>0.698413</td>\n",
              "      <td>0.692913</td>\n",
              "      <td>0.692913</td>\n",
              "      <td>0.696213</td>\n",
              "      <td>0.002694</td>\n",
              "    </tr>\n",
              "    <tr>\n",
              "      <th>221</th>\n",
              "      <td>0.002446</td>\n",
              "      <td>0.000036</td>\n",
              "      <td>0.001791</td>\n",
              "      <td>0.000090</td>\n",
              "      <td>18</td>\n",
              "      <td>43</td>\n",
              "      <td>{'max_depth': 18, 'min_samples_leaf': 43}</td>\n",
              "      <td>0.6875</td>\n",
              "      <td>0.6875</td>\n",
              "      <td>0.68750</td>\n",
              "      <td>...</td>\n",
              "      <td>0.696371</td>\n",
              "      <td>0.010865</td>\n",
              "      <td>2</td>\n",
              "      <td>0.698413</td>\n",
              "      <td>0.698413</td>\n",
              "      <td>0.698413</td>\n",
              "      <td>0.692913</td>\n",
              "      <td>0.692913</td>\n",
              "      <td>0.696213</td>\n",
              "      <td>0.002694</td>\n",
              "    </tr>\n",
              "    <tr>\n",
              "      <th>222</th>\n",
              "      <td>0.002499</td>\n",
              "      <td>0.000092</td>\n",
              "      <td>0.001941</td>\n",
              "      <td>0.000111</td>\n",
              "      <td>18</td>\n",
              "      <td>45</td>\n",
              "      <td>{'max_depth': 18, 'min_samples_leaf': 45}</td>\n",
              "      <td>0.6875</td>\n",
              "      <td>0.6875</td>\n",
              "      <td>0.68750</td>\n",
              "      <td>...</td>\n",
              "      <td>0.696371</td>\n",
              "      <td>0.010865</td>\n",
              "      <td>2</td>\n",
              "      <td>0.698413</td>\n",
              "      <td>0.698413</td>\n",
              "      <td>0.698413</td>\n",
              "      <td>0.692913</td>\n",
              "      <td>0.692913</td>\n",
              "      <td>0.696213</td>\n",
              "      <td>0.002694</td>\n",
              "    </tr>\n",
              "    <tr>\n",
              "      <th>223</th>\n",
              "      <td>0.002795</td>\n",
              "      <td>0.000203</td>\n",
              "      <td>0.002187</td>\n",
              "      <td>0.000384</td>\n",
              "      <td>18</td>\n",
              "      <td>47</td>\n",
              "      <td>{'max_depth': 18, 'min_samples_leaf': 47}</td>\n",
              "      <td>0.6875</td>\n",
              "      <td>0.6875</td>\n",
              "      <td>0.68750</td>\n",
              "      <td>...</td>\n",
              "      <td>0.696371</td>\n",
              "      <td>0.010865</td>\n",
              "      <td>2</td>\n",
              "      <td>0.698413</td>\n",
              "      <td>0.698413</td>\n",
              "      <td>0.698413</td>\n",
              "      <td>0.692913</td>\n",
              "      <td>0.692913</td>\n",
              "      <td>0.696213</td>\n",
              "      <td>0.002694</td>\n",
              "    </tr>\n",
              "    <tr>\n",
              "      <th>224</th>\n",
              "      <td>0.002645</td>\n",
              "      <td>0.000181</td>\n",
              "      <td>0.001892</td>\n",
              "      <td>0.000119</td>\n",
              "      <td>18</td>\n",
              "      <td>49</td>\n",
              "      <td>{'max_depth': 18, 'min_samples_leaf': 49}</td>\n",
              "      <td>0.6875</td>\n",
              "      <td>0.6875</td>\n",
              "      <td>0.68750</td>\n",
              "      <td>...</td>\n",
              "      <td>0.696371</td>\n",
              "      <td>0.010865</td>\n",
              "      <td>2</td>\n",
              "      <td>0.698413</td>\n",
              "      <td>0.698413</td>\n",
              "      <td>0.698413</td>\n",
              "      <td>0.692913</td>\n",
              "      <td>0.692913</td>\n",
              "      <td>0.696213</td>\n",
              "      <td>0.002694</td>\n",
              "    </tr>\n",
              "  </tbody>\n",
              "</table>\n",
              "<p>225 rows × 22 columns</p>\n",
              "</div>\n",
              "      <button class=\"colab-df-convert\" onclick=\"convertToInteractive('df-64255718-18af-48e6-be2d-42fe0a495ce9')\"\n",
              "              title=\"Convert this dataframe to an interactive table.\"\n",
              "              style=\"display:none;\">\n",
              "        \n",
              "  <svg xmlns=\"http://www.w3.org/2000/svg\" height=\"24px\"viewBox=\"0 0 24 24\"\n",
              "       width=\"24px\">\n",
              "    <path d=\"M0 0h24v24H0V0z\" fill=\"none\"/>\n",
              "    <path d=\"M18.56 5.44l.94 2.06.94-2.06 2.06-.94-2.06-.94-.94-2.06-.94 2.06-2.06.94zm-11 1L8.5 8.5l.94-2.06 2.06-.94-2.06-.94L8.5 2.5l-.94 2.06-2.06.94zm10 10l.94 2.06.94-2.06 2.06-.94-2.06-.94-.94-2.06-.94 2.06-2.06.94z\"/><path d=\"M17.41 7.96l-1.37-1.37c-.4-.4-.92-.59-1.43-.59-.52 0-1.04.2-1.43.59L10.3 9.45l-7.72 7.72c-.78.78-.78 2.05 0 2.83L4 21.41c.39.39.9.59 1.41.59.51 0 1.02-.2 1.41-.59l7.78-7.78 2.81-2.81c.8-.78.8-2.07 0-2.86zM5.41 20L4 18.59l7.72-7.72 1.47 1.35L5.41 20z\"/>\n",
              "  </svg>\n",
              "      </button>\n",
              "      \n",
              "  <style>\n",
              "    .colab-df-container {\n",
              "      display:flex;\n",
              "      flex-wrap:wrap;\n",
              "      gap: 12px;\n",
              "    }\n",
              "\n",
              "    .colab-df-convert {\n",
              "      background-color: #E8F0FE;\n",
              "      border: none;\n",
              "      border-radius: 50%;\n",
              "      cursor: pointer;\n",
              "      display: none;\n",
              "      fill: #1967D2;\n",
              "      height: 32px;\n",
              "      padding: 0 0 0 0;\n",
              "      width: 32px;\n",
              "    }\n",
              "\n",
              "    .colab-df-convert:hover {\n",
              "      background-color: #E2EBFA;\n",
              "      box-shadow: 0px 1px 2px rgba(60, 64, 67, 0.3), 0px 1px 3px 1px rgba(60, 64, 67, 0.15);\n",
              "      fill: #174EA6;\n",
              "    }\n",
              "\n",
              "    [theme=dark] .colab-df-convert {\n",
              "      background-color: #3B4455;\n",
              "      fill: #D2E3FC;\n",
              "    }\n",
              "\n",
              "    [theme=dark] .colab-df-convert:hover {\n",
              "      background-color: #434B5C;\n",
              "      box-shadow: 0px 1px 3px 1px rgba(0, 0, 0, 0.15);\n",
              "      filter: drop-shadow(0px 1px 2px rgba(0, 0, 0, 0.3));\n",
              "      fill: #FFFFFF;\n",
              "    }\n",
              "  </style>\n",
              "\n",
              "      <script>\n",
              "        const buttonEl =\n",
              "          document.querySelector('#df-64255718-18af-48e6-be2d-42fe0a495ce9 button.colab-df-convert');\n",
              "        buttonEl.style.display =\n",
              "          google.colab.kernel.accessAllowed ? 'block' : 'none';\n",
              "\n",
              "        async function convertToInteractive(key) {\n",
              "          const element = document.querySelector('#df-64255718-18af-48e6-be2d-42fe0a495ce9');\n",
              "          const dataTable =\n",
              "            await google.colab.kernel.invokeFunction('convertToInteractive',\n",
              "                                                     [key], {});\n",
              "          if (!dataTable) return;\n",
              "\n",
              "          const docLinkHtml = 'Like what you see? Visit the ' +\n",
              "            '<a target=\"_blank\" href=https://colab.research.google.com/notebooks/data_table.ipynb>data table notebook</a>'\n",
              "            + ' to learn more about interactive tables.';\n",
              "          element.innerHTML = '';\n",
              "          dataTable['output_type'] = 'display_data';\n",
              "          await google.colab.output.renderOutput(dataTable, element);\n",
              "          const docLink = document.createElement('div');\n",
              "          docLink.innerHTML = docLinkHtml;\n",
              "          element.appendChild(docLink);\n",
              "        }\n",
              "      </script>\n",
              "    </div>\n",
              "  </div>\n",
              "  "
            ]
          },
          "metadata": {},
          "execution_count": 58
        }
      ]
    },
    {
      "cell_type": "code",
      "source": [
        "plt.plot(result_grid['param_max_depth'], result_grid['mean_train_score'], label='Train')\n",
        "plt.plot(result_grid['param_max_depth'], result_grid['mean_test_score'], label='Test')\n",
        "plt.legend()"
      ],
      "metadata": {
        "colab": {
          "base_uri": "https://localhost:8080/",
          "height": 283
        },
        "id": "3Df9YD5c_-bu",
        "outputId": "7c9270c6-2454-44b4-f0ef-b2dbf3173d38"
      },
      "execution_count": 60,
      "outputs": [
        {
          "output_type": "execute_result",
          "data": {
            "text/plain": [
              "<matplotlib.legend.Legend at 0x7f23bf827e90>"
            ]
          },
          "metadata": {},
          "execution_count": 60
        },
        {
          "output_type": "display_data",
          "data": {
            "text/plain": [
              "<Figure size 432x288 with 1 Axes>"
            ],
            "image/png": "[encoded data removed]"
          },
          "metadata": {
            "needs_background": "light"
          }
        }
      ]
    },
    {
      "cell_type": "code",
      "source": [
        "plt.plot(result_grid['param_min_samples_leaf'], result_grid['mean_train_score'], label='Train')\n",
        "plt.plot(result_grid['param_min_samples_leaf'], result_grid['mean_test_score'], label='Test')\n",
        "plt.legend()"
      ],
      "metadata": {
        "colab": {
          "base_uri": "https://localhost:8080/",
          "height": 283
        },
        "id": "R6NpScgx_-ZH",
        "outputId": "f9e21582-856c-4abb-f95a-467b0144a30a"
      },
      "execution_count": 61,
      "outputs": [
        {
          "output_type": "execute_result",
          "data": {
            "text/plain": [
              "<matplotlib.legend.Legend at 0x7f23bf7dbc10>"
            ]
          },
          "metadata": {},
          "execution_count": 61
        },
        {
          "output_type": "display_data",
          "data": {
            "text/plain": [
              "<Figure size 432x288 with 1 Axes>"
            ],
            "image/png": "[encoded data removed]"
          },
          "metadata": {
            "needs_background": "light"
          }
        }
      ]
    },
    {
      "cell_type": "markdown",
      "source": [
        "#3. Random Search"
      ],
      "metadata": {
        "id": "XnM0M6GT_-6U"
      }
    },
    {
      "cell_type": "code",
      "source": [
        "param_distribs={'max_depth': randint(low=1, high=20),\n",
        "                'min_samples_leaf':randint(low=1, high=50)}\n",
        "\n",
        "random_search=RandomizedSearchCV(DecisionTreeClassifier(), \n",
        "                                 param_distributions=param_distribs, cv=5, return_train_score=True)"
      ],
      "metadata": {
        "id": "qOooDnJ2AA9X"
      },
      "execution_count": 62,
      "outputs": []
    },
    {
      "cell_type": "code",
      "source": [
        "random_search.fit(X_train, y_train)"
      ],
      "metadata": {
        "colab": {
          "base_uri": "https://localhost:8080/"
        },
        "id": "axnfYalrJ003",
        "outputId": "1463b451-949c-4e28-cd47-7291e2827e52"
      },
      "execution_count": 63,
      "outputs": [
        {
          "output_type": "execute_result",
          "data": {
            "text/plain": [
              "RandomizedSearchCV(cv=5, estimator=DecisionTreeClassifier(),\n",
              "                   param_distributions={'max_depth': <scipy.stats._distn_infrastructure.rv_frozen object at 0x7f23bf757e10>,\n",
              "                                        'min_samples_leaf': <scipy.stats._distn_infrastructure.rv_frozen object at 0x7f23bf757dd0>},\n",
              "                   return_train_score=True)"
            ]
          },
          "metadata": {},
          "execution_count": 63
        }
      ]
    },
    {
      "cell_type": "code",
      "source": [
        "print(\"Best Parameter: {}\".format(random_search.best_params_))\n",
        "print(\"Best Cross-validity score: {:.3f}\".format(random_search.best_score_))\n",
        "print(\"Test set score {:.3f}\".format(random_search.score(X_test, y_test)))\n"
      ],
      "metadata": {
        "colab": {
          "base_uri": "https://localhost:8080/"
        },
        "id": "BZtzjSJNABjA",
        "outputId": "306f6973-3148-4a17-8575-6c49d8bd1e76"
      },
      "execution_count": 64,
      "outputs": [
        {
          "output_type": "stream",
          "name": "stdout",
          "text": [
            "Best Parameter: {'max_depth': 5, 'min_samples_leaf': 39}\n",
            "Best Cross-validity score: 0.696\n",
            "Test set score 0.755\n"
          ]
        }
      ]
    },
    {
      "cell_type": "code",
      "source": [
        "result_random=random_search.cv_results_\n",
        "pd.DataFrame(result_random)"
      ],
      "metadata": {
        "colab": {
          "base_uri": "https://localhost:8080/",
          "height": 803
        },
        "id": "_SkNgLVPABfo",
        "outputId": "9c7c0d88-ff42-4815-e9a2-acc23487e2f2"
      },
      "execution_count": 66,
      "outputs": [
        {
          "output_type": "execute_result",
          "data": {
            "text/plain": [
              "   mean_fit_time  std_fit_time  mean_score_time  std_score_time  \\\n",
              "0       0.004156      0.000256         0.004915        0.003862   \n",
              "1       0.003726      0.000253         0.003126        0.000833   \n",
              "2       0.005774      0.003328         0.003681        0.001230   \n",
              "3       0.003747      0.000051         0.002765        0.000052   \n",
              "4       0.003772      0.000122         0.002780        0.000267   \n",
              "5       0.003697      0.000144         0.002928        0.000315   \n",
              "6       0.004421      0.001287         0.005969        0.004414   \n",
              "7       0.004058      0.000242         0.002947        0.000152   \n",
              "8       0.004229      0.000767         0.002799        0.000247   \n",
              "9       0.004040      0.000334         0.002899        0.000062   \n",
              "\n",
              "  param_max_depth param_min_samples_leaf  \\\n",
              "0               7                     24   \n",
              "1               5                     39   \n",
              "2              19                     23   \n",
              "3               1                     48   \n",
              "4               5                      9   \n",
              "5               1                     10   \n",
              "6              16                     37   \n",
              "7              13                     31   \n",
              "8              15                     48   \n",
              "9              10                     39   \n",
              "\n",
              "                                      params  split0_test_score  \\\n",
              "0   {'max_depth': 7, 'min_samples_leaf': 24}            0.65625   \n",
              "1   {'max_depth': 5, 'min_samples_leaf': 39}            0.68750   \n",
              "2  {'max_depth': 19, 'min_samples_leaf': 23}            0.65625   \n",
              "3   {'max_depth': 1, 'min_samples_leaf': 48}            0.68750   \n",
              "4    {'max_depth': 5, 'min_samples_leaf': 9}            0.68750   \n",
              "5   {'max_depth': 1, 'min_samples_leaf': 10}            0.68750   \n",
              "6  {'max_depth': 16, 'min_samples_leaf': 37}            0.68750   \n",
              "7  {'max_depth': 13, 'min_samples_leaf': 31}            0.68750   \n",
              "8  {'max_depth': 15, 'min_samples_leaf': 48}            0.68750   \n",
              "9  {'max_depth': 10, 'min_samples_leaf': 39}            0.68750   \n",
              "\n",
              "   split1_test_score  split2_test_score  ...  mean_test_score  std_test_score  \\\n",
              "0             0.6875             0.6875  ...         0.638508        0.063460   \n",
              "1             0.6875             0.6875  ...         0.696371        0.010865   \n",
              "2             0.6875             0.6875  ...         0.638508        0.063460   \n",
              "3             0.6875             0.6875  ...         0.696371        0.010865   \n",
              "4             0.7500             0.5000  ...         0.658468        0.083727   \n",
              "5             0.6875             0.6875  ...         0.696371        0.010865   \n",
              "6             0.6875             0.6875  ...         0.696371        0.010865   \n",
              "7             0.6875             0.6875  ...         0.696371        0.010865   \n",
              "8             0.6875             0.6875  ...         0.696371        0.010865   \n",
              "9             0.6875             0.6875  ...         0.696371        0.010865   \n",
              "\n",
              "   rank_test_score  split0_train_score  split1_train_score  \\\n",
              "0                9            0.698413            0.698413   \n",
              "1                1            0.698413            0.698413   \n",
              "2                9            0.698413            0.698413   \n",
              "3                1            0.698413            0.698413   \n",
              "4                8            0.753968            0.738095   \n",
              "5                1            0.698413            0.698413   \n",
              "6                1            0.698413            0.698413   \n",
              "7                1            0.698413            0.698413   \n",
              "8                1            0.698413            0.698413   \n",
              "9                1            0.698413            0.698413   \n",
              "\n",
              "   split2_train_score  split3_train_score  split4_train_score  \\\n",
              "0            0.698413            0.708661            0.732283   \n",
              "1            0.698413            0.692913            0.692913   \n",
              "2            0.698413            0.708661            0.732283   \n",
              "3            0.698413            0.692913            0.692913   \n",
              "4            0.746032            0.771654            0.755906   \n",
              "5            0.698413            0.692913            0.692913   \n",
              "6            0.698413            0.692913            0.692913   \n",
              "7            0.698413            0.692913            0.692913   \n",
              "8            0.698413            0.692913            0.692913   \n",
              "9            0.698413            0.692913            0.692913   \n",
              "\n",
              "   mean_train_score  std_train_score  \n",
              "0          0.707237         0.013137  \n",
              "1          0.696213         0.002694  \n",
              "2          0.707237         0.013137  \n",
              "3          0.696213         0.002694  \n",
              "4          0.753131         0.011207  \n",
              "5          0.696213         0.002694  \n",
              "6          0.696213         0.002694  \n",
              "7          0.696213         0.002694  \n",
              "8          0.696213         0.002694  \n",
              "9          0.696213         0.002694  \n",
              "\n",
              "[10 rows x 22 columns]"
            ],
            "text/html": [
              "\n",
              "  <div id=\"df-8025314d-691a-408c-8cce-1ebbd46b9626\">\n",
              "    <div class=\"colab-df-container\">\n",
              "      <div>\n",
              "<style scoped>\n",
              "    .dataframe tbody tr th:only-of-type {\n",
              "        vertical-align: middle;\n",
              "    }\n",
              "\n",
              "    .dataframe tbody tr th {\n",
              "        vertical-align: top;\n",
              "    }\n",
              "\n",
              "    .dataframe thead th {\n",
              "        text-align: right;\n",
              "    }\n",
              "</style>\n",
              "<table border=\"1\" class=\"dataframe\">\n",
              "  <thead>\n",
              "    <tr style=\"text-align: right;\">\n",
              "      <th></th>\n",
              "      <th>mean_fit_time</th>\n",
              "      <th>std_fit_time</th>\n",
              "      <th>mean_score_time</th>\n",
              "      <th>std_score_time</th>\n",
              "      <th>param_max_depth</th>\n",
              "      <th>param_min_samples_leaf</th>\n",
              "      <th>params</th>\n",
              "      <th>split0_test_score</th>\n",
              "      <th>split1_test_score</th>\n",
              "      <th>split2_test_score</th>\n",
              "      <th>...</th>\n",
              "      <th>mean_test_score</th>\n",
              "      <th>std_test_score</th>\n",
              "      <th>rank_test_score</th>\n",
              "      <th>split0_train_score</th>\n",
              "      <th>split1_train_score</th>\n",
              "      <th>split2_train_score</th>\n",
              "      <th>split3_train_score</th>\n",
              "      <th>split4_train_score</th>\n",
              "      <th>mean_train_score</th>\n",
              "      <th>std_train_score</th>\n",
              "    </tr>\n",
              "  </thead>\n",
              "  <tbody>\n",
              "    <tr>\n",
              "      <th>0</th>\n",
              "      <td>0.004156</td>\n",
              "      <td>0.000256</td>\n",
              "      <td>0.004915</td>\n",
              "      <td>0.003862</td>\n",
              "      <td>7</td>\n",
              "      <td>24</td>\n",
              "      <td>{'max_depth': 7, 'min_samples_leaf': 24}</td>\n",
              "      <td>0.65625</td>\n",
              "      <td>0.6875</td>\n",
              "      <td>0.6875</td>\n",
              "      <td>...</td>\n",
              "      <td>0.638508</td>\n",
              "      <td>0.063460</td>\n",
              "      <td>9</td>\n",
              "      <td>0.698413</td>\n",
              "      <td>0.698413</td>\n",
              "      <td>0.698413</td>\n",
              "      <td>0.708661</td>\n",
              "      <td>0.732283</td>\n",
              "      <td>0.707237</td>\n",
              "      <td>0.013137</td>\n",
              "    </tr>\n",
              "    <tr>\n",
              "      <th>1</th>\n",
              "      <td>0.003726</td>\n",
              "      <td>0.000253</td>\n",
              "      <td>0.003126</td>\n",
              "      <td>0.000833</td>\n",
              "      <td>5</td>\n",
              "      <td>39</td>\n",
              "      <td>{'max_depth': 5, 'min_samples_leaf': 39}</td>\n",
              "      <td>0.68750</td>\n",
              "      <td>0.6875</td>\n",
              "      <td>0.6875</td>\n",
              "      <td>...</td>\n",
              "      <td>0.696371</td>\n",
              "      <td>0.010865</td>\n",
              "      <td>1</td>\n",
              "      <td>0.698413</td>\n",
              "      <td>0.698413</td>\n",
              "      <td>0.698413</td>\n",
              "      <td>0.692913</td>\n",
              "      <td>0.692913</td>\n",
              "      <td>0.696213</td>\n",
              "      <td>0.002694</td>\n",
              "    </tr>\n",
              "    <tr>\n",
              "      <th>2</th>\n",
              "      <td>0.005774</td>\n",
              "      <td>0.003328</td>\n",
              "      <td>0.003681</td>\n",
              "      <td>0.001230</td>\n",
              "      <td>19</td>\n",
              "      <td>23</td>\n",
              "      <td>{'max_depth': 19, 'min_samples_leaf': 23}</td>\n",
              "      <td>0.65625</td>\n",
              "      <td>0.6875</td>\n",
              "      <td>0.6875</td>\n",
              "      <td>...</td>\n",
              "      <td>0.638508</td>\n",
              "      <td>0.063460</td>\n",
              "      <td>9</td>\n",
              "      <td>0.698413</td>\n",
              "      <td>0.698413</td>\n",
              "      <td>0.698413</td>\n",
              "      <td>0.708661</td>\n",
              "      <td>0.732283</td>\n",
              "      <td>0.707237</td>\n",
              "      <td>0.013137</td>\n",
              "    </tr>\n",
              "    <tr>\n",
              "      <th>3</th>\n",
              "      <td>0.003747</td>\n",
              "      <td>0.000051</td>\n",
              "      <td>0.002765</td>\n",
              "      <td>0.000052</td>\n",
              "      <td>1</td>\n",
              "      <td>48</td>\n",
              "      <td>{'max_depth': 1, 'min_samples_leaf': 48}</td>\n",
              "      <td>0.68750</td>\n",
              "      <td>0.6875</td>\n",
              "      <td>0.6875</td>\n",
              "      <td>...</td>\n",
              "      <td>0.696371</td>\n",
              "      <td>0.010865</td>\n",
              "      <td>1</td>\n",
              "      <td>0.698413</td>\n",
              "      <td>0.698413</td>\n",
              "      <td>0.698413</td>\n",
              "      <td>0.692913</td>\n",
              "      <td>0.692913</td>\n",
              "      <td>0.696213</td>\n",
              "      <td>0.002694</td>\n",
              "    </tr>\n",
              "    <tr>\n",
              "      <th>4</th>\n",
              "      <td>0.003772</td>\n",
              "      <td>0.000122</td>\n",
              "      <td>0.002780</td>\n",
              "      <td>0.000267</td>\n",
              "      <td>5</td>\n",
              "      <td>9</td>\n",
              "      <td>{'max_depth': 5, 'min_samples_leaf': 9}</td>\n",
              "      <td>0.68750</td>\n",
              "      <td>0.7500</td>\n",
              "      <td>0.5000</td>\n",
              "      <td>...</td>\n",
              "      <td>0.658468</td>\n",
              "      <td>0.083727</td>\n",
              "      <td>8</td>\n",
              "      <td>0.753968</td>\n",
              "      <td>0.738095</td>\n",
              "      <td>0.746032</td>\n",
              "      <td>0.771654</td>\n",
              "      <td>0.755906</td>\n",
              "      <td>0.753131</td>\n",
              "      <td>0.011207</td>\n",
              "    </tr>\n",
              "    <tr>\n",
              "      <th>5</th>\n",
              "      <td>0.003697</td>\n",
              "      <td>0.000144</td>\n",
              "      <td>0.002928</td>\n",
              "      <td>0.000315</td>\n",
              "      <td>1</td>\n",
              "      <td>10</td>\n",
              "      <td>{'max_depth': 1, 'min_samples_leaf': 10}</td>\n",
              "      <td>0.68750</td>\n",
              "      <td>0.6875</td>\n",
              "      <td>0.6875</td>\n",
              "      <td>...</td>\n",
              "      <td>0.696371</td>\n",
              "      <td>0.010865</td>\n",
              "      <td>1</td>\n",
              "      <td>0.698413</td>\n",
              "      <td>0.698413</td>\n",
              "      <td>0.698413</td>\n",
              "      <td>0.692913</td>\n",
              "      <td>0.692913</td>\n",
              "      <td>0.696213</td>\n",
              "      <td>0.002694</td>\n",
              "    </tr>\n",
              "    <tr>\n",
              "      <th>6</th>\n",
              "      <td>0.004421</td>\n",
              "      <td>0.001287</td>\n",
              "      <td>0.005969</td>\n",
              "      <td>0.004414</td>\n",
              "      <td>16</td>\n",
              "      <td>37</td>\n",
              "      <td>{'max_depth': 16, 'min_samples_leaf': 37}</td>\n",
              "      <td>0.68750</td>\n",
              "      <td>0.6875</td>\n",
              "      <td>0.6875</td>\n",
              "      <td>...</td>\n",
              "      <td>0.696371</td>\n",
              "      <td>0.010865</td>\n",
              "      <td>1</td>\n",
              "      <td>0.698413</td>\n",
              "      <td>0.698413</td>\n",
              "      <td>0.698413</td>\n",
              "      <td>0.692913</td>\n",
              "      <td>0.692913</td>\n",
              "      <td>0.696213</td>\n",
              "      <td>0.002694</td>\n",
              "    </tr>\n",
              "    <tr>\n",
              "      <th>7</th>\n",
              "      <td>0.004058</td>\n",
              "      <td>0.000242</td>\n",
              "      <td>0.002947</td>\n",
              "      <td>0.000152</td>\n",
              "      <td>13</td>\n",
              "      <td>31</td>\n",
              "      <td>{'max_depth': 13, 'min_samples_leaf': 31}</td>\n",
              "      <td>0.68750</td>\n",
              "      <td>0.6875</td>\n",
              "      <td>0.6875</td>\n",
              "      <td>...</td>\n",
              "      <td>0.696371</td>\n",
              "      <td>0.010865</td>\n",
              "      <td>1</td>\n",
              "      <td>0.698413</td>\n",
              "      <td>0.698413</td>\n",
              "      <td>0.698413</td>\n",
              "      <td>0.692913</td>\n",
              "      <td>0.692913</td>\n",
              "      <td>0.696213</td>\n",
              "      <td>0.002694</td>\n",
              "    </tr>\n",
              "    <tr>\n",
              "      <th>8</th>\n",
              "      <td>0.004229</td>\n",
              "      <td>0.000767</td>\n",
              "      <td>0.002799</td>\n",
              "      <td>0.000247</td>\n",
              "      <td>15</td>\n",
              "      <td>48</td>\n",
              "      <td>{'max_depth': 15, 'min_samples_leaf': 48}</td>\n",
              "      <td>0.68750</td>\n",
              "      <td>0.6875</td>\n",
              "      <td>0.6875</td>\n",
              "      <td>...</td>\n",
              "      <td>0.696371</td>\n",
              "      <td>0.010865</td>\n",
              "      <td>1</td>\n",
              "      <td>0.698413</td>\n",
              "      <td>0.698413</td>\n",
              "      <td>0.698413</td>\n",
              "      <td>0.692913</td>\n",
              "      <td>0.692913</td>\n",
              "      <td>0.696213</td>\n",
              "      <td>0.002694</td>\n",
              "    </tr>\n",
              "    <tr>\n",
              "      <th>9</th>\n",
              "      <td>0.004040</td>\n",
              "      <td>0.000334</td>\n",
              "      <td>0.002899</td>\n",
              "      <td>0.000062</td>\n",
              "      <td>10</td>\n",
              "      <td>39</td>\n",
              "      <td>{'max_depth': 10, 'min_samples_leaf': 39}</td>\n",
              "      <td>0.68750</td>\n",
              "      <td>0.6875</td>\n",
              "      <td>0.6875</td>\n",
              "      <td>...</td>\n",
              "      <td>0.696371</td>\n",
              "      <td>0.010865</td>\n",
              "      <td>1</td>\n",
              "      <td>0.698413</td>\n",
              "      <td>0.698413</td>\n",
              "      <td>0.698413</td>\n",
              "      <td>0.692913</td>\n",
              "      <td>0.692913</td>\n",
              "      <td>0.696213</td>\n",
              "      <td>0.002694</td>\n",
              "    </tr>\n",
              "  </tbody>\n",
              "</table>\n",
              "<p>10 rows × 22 columns</p>\n",
              "</div>\n",
              "      <button class=\"colab-df-convert\" onclick=\"convertToInteractive('df-8025314d-691a-408c-8cce-1ebbd46b9626')\"\n",
              "              title=\"Convert this dataframe to an interactive table.\"\n",
              "              style=\"display:none;\">\n",
              "        \n",
              "  <svg xmlns=\"http://www.w3.org/2000/svg\" height=\"24px\"viewBox=\"0 0 24 24\"\n",
              "       width=\"24px\">\n",
              "    <path d=\"M0 0h24v24H0V0z\" fill=\"none\"/>\n",
              "    <path d=\"M18.56 5.44l.94 2.06.94-2.06 2.06-.94-2.06-.94-.94-2.06-.94 2.06-2.06.94zm-11 1L8.5 8.5l.94-2.06 2.06-.94-2.06-.94L8.5 2.5l-.94 2.06-2.06.94zm10 10l.94 2.06.94-2.06 2.06-.94-2.06-.94-.94-2.06-.94 2.06-2.06.94z\"/><path d=\"M17.41 7.96l-1.37-1.37c-.4-.4-.92-.59-1.43-.59-.52 0-1.04.2-1.43.59L10.3 9.45l-7.72 7.72c-.78.78-.78 2.05 0 2.83L4 21.41c.39.39.9.59 1.41.59.51 0 1.02-.2 1.41-.59l7.78-7.78 2.81-2.81c.8-.78.8-2.07 0-2.86zM5.41 20L4 18.59l7.72-7.72 1.47 1.35L5.41 20z\"/>\n",
              "  </svg>\n",
              "      </button>\n",
              "      \n",
              "  <style>\n",
              "    .colab-df-container {\n",
              "      display:flex;\n",
              "      flex-wrap:wrap;\n",
              "      gap: 12px;\n",
              "    }\n",
              "\n",
              "    .colab-df-convert {\n",
              "      background-color: #E8F0FE;\n",
              "      border: none;\n",
              "      border-radius: 50%;\n",
              "      cursor: pointer;\n",
              "      display: none;\n",
              "      fill: #1967D2;\n",
              "      height: 32px;\n",
              "      padding: 0 0 0 0;\n",
              "      width: 32px;\n",
              "    }\n",
              "\n",
              "    .colab-df-convert:hover {\n",
              "      background-color: #E2EBFA;\n",
              "      box-shadow: 0px 1px 2px rgba(60, 64, 67, 0.3), 0px 1px 3px 1px rgba(60, 64, 67, 0.15);\n",
              "      fill: #174EA6;\n",
              "    }\n",
              "\n",
              "    [theme=dark] .colab-df-convert {\n",
              "      background-color: #3B4455;\n",
              "      fill: #D2E3FC;\n",
              "    }\n",
              "\n",
              "    [theme=dark] .colab-df-convert:hover {\n",
              "      background-color: #434B5C;\n",
              "      box-shadow: 0px 1px 3px 1px rgba(0, 0, 0, 0.15);\n",
              "      filter: drop-shadow(0px 1px 2px rgba(0, 0, 0, 0.3));\n",
              "      fill: #FFFFFF;\n",
              "    }\n",
              "  </style>\n",
              "\n",
              "      <script>\n",
              "        const buttonEl =\n",
              "          document.querySelector('#df-8025314d-691a-408c-8cce-1ebbd46b9626 button.colab-df-convert');\n",
              "        buttonEl.style.display =\n",
              "          google.colab.kernel.accessAllowed ? 'block' : 'none';\n",
              "\n",
              "        async function convertToInteractive(key) {\n",
              "          const element = document.querySelector('#df-8025314d-691a-408c-8cce-1ebbd46b9626');\n",
              "          const dataTable =\n",
              "            await google.colab.kernel.invokeFunction('convertToInteractive',\n",
              "                                                     [key], {});\n",
              "          if (!dataTable) return;\n",
              "\n",
              "          const docLinkHtml = 'Like what you see? Visit the ' +\n",
              "            '<a target=\"_blank\" href=https://colab.research.google.com/notebooks/data_table.ipynb>data table notebook</a>'\n",
              "            + ' to learn more about interactive tables.';\n",
              "          element.innerHTML = '';\n",
              "          dataTable['output_type'] = 'display_data';\n",
              "          await google.colab.output.renderOutput(dataTable, element);\n",
              "          const docLink = document.createElement('div');\n",
              "          docLink.innerHTML = docLinkHtml;\n",
              "          element.appendChild(docLink);\n",
              "        }\n",
              "      </script>\n",
              "    </div>\n",
              "  </div>\n",
              "  "
            ]
          },
          "metadata": {},
          "execution_count": 66
        }
      ]
    },
    {
      "cell_type": "code",
      "source": [
        "plt.plot(result_grid['param_max_depth'], result_grid['mean_train_score'], label=\"Train\")\n",
        "plt.plot(result_grid['param_max_depth'], result_grid['mean_test_score'], label=\"Test\")\n",
        "plt.legend()"
      ],
      "metadata": {
        "colab": {
          "base_uri": "https://localhost:8080/",
          "height": 283
        },
        "id": "BxNf9Ho1ABaz",
        "outputId": "7ce74c7c-f75d-4415-a5b6-bcd910b56fd1"
      },
      "execution_count": 67,
      "outputs": [
        {
          "output_type": "execute_result",
          "data": {
            "text/plain": [
              "<matplotlib.legend.Legend at 0x7f23bf70ad50>"
            ]
          },
          "metadata": {},
          "execution_count": 67
        },
        {
          "output_type": "display_data",
          "data": {
            "text/plain": [
              "<Figure size 432x288 with 1 Axes>"
            ],
            "image/png": "[encoded data removed]"
          },
          "metadata": {
            "needs_background": "light"
          }
        }
      ]
    },
    {
      "cell_type": "code",
      "source": [
        "plt.plot(result_grid['param_min_samples_leaf'], \n",
        "         result_grid['mean_train_score'], label=\"Train\")\n",
        "plt.plot(result_grid['param_min_samples_leaf'], \n",
        "         result_grid['mean_test_score'], label=\"Test\")\n",
        "plt.legend()"
      ],
      "metadata": {
        "colab": {
          "base_uri": "https://localhost:8080/",
          "height": 283
        },
        "id": "6lGmtQ39ABX7",
        "outputId": "d13d2768-5eae-44b4-fc84-c06b482e6a13"
      },
      "execution_count": 68,
      "outputs": [
        {
          "output_type": "execute_result",
          "data": {
            "text/plain": [
              "<matplotlib.legend.Legend at 0x7f23bf68ee90>"
            ]
          },
          "metadata": {},
          "execution_count": 68
        },
        {
          "output_type": "display_data",
          "data": {
            "text/plain": [
              "<Figure size 432x288 with 1 Axes>"
            ],
            "image/png": "[encoded data removed]"
          },
          "metadata": {
            "needs_background": "light"
          }
        }
      ]
    },
    {
      "cell_type": "code",
      "source": [
        "tree=DecisionTreeClassifier(max_depth=4, min_samples_leaf=3)\n",
        "tree.fit(X_train, y_train)"
      ],
      "metadata": {
        "colab": {
          "base_uri": "https://localhost:8080/"
        },
        "id": "qYbjX6osKfN5",
        "outputId": "fedf334a-d730-4360-8af9-a0898203a84c"
      },
      "execution_count": 80,
      "outputs": [
        {
          "output_type": "execute_result",
          "data": {
            "text/plain": [
              "DecisionTreeClassifier(max_depth=4, min_samples_leaf=3)"
            ]
          },
          "metadata": {},
          "execution_count": 80
        }
      ]
    },
    {
      "cell_type": "code",
      "source": [
        "!pip install graphviz\n"
      ],
      "metadata": {
        "colab": {
          "base_uri": "https://localhost:8080/"
        },
        "id": "Ipqth6OQKfKt",
        "outputId": "0dd49970-6e92-4ff8-c85e-cfe441044b83"
      },
      "execution_count": 70,
      "outputs": [
        {
          "output_type": "stream",
          "name": "stdout",
          "text": [
            "Looking in indexes: https://pypi.org/simple, https://us-python.pkg.dev/colab-wheels/public/simple/\n",
            "Requirement already satisfied: graphviz in /usr/local/lib/python3.7/dist-packages (0.10.1)\n"
          ]
        }
      ]
    },
    {
      "cell_type": "code",
      "source": [
        "import graphviz\n",
        "from sklearn.tree import export_graphviz \n",
        "export_graphviz(tree, out_file='tree.dot', class_names=['non-voting', 'voting'],\n",
        "                feature_names=X.columns, impurity=False, filled=True)\n",
        "\n",
        "with open('tree.dot', encoding='euc-kr') as f:\n",
        "  dot_graph=f.read()\n",
        "  display(graphviz.Source(dot_graph))"
      ],
      "metadata": {
        "colab": {
          "base_uri": "https://localhost:8080/",
          "height": 678
        },
        "id": "0OR0xCQsKfHc",
        "outputId": "972c2a1e-2d48-4ae4-9eb2-00bd4cde9f3f"
      },
      "execution_count": 81,
      "outputs": [
        {
          "output_type": "display_data",
          "data": {
            "text/plain": [
              "<graphviz.files.Source at 0x7f23be7f2e10>"
            ],
            "image/svg+xml": "<?xml version=\"1.0\" encoding=\"UTF-8\" standalone=\"no\"?>\n<!DOCTYPE svg PUBLIC \"-//W3C//DTD SVG 1.1//EN\"\n \"http://www.w3.org/Graphics/SVG/1.1/DTD/svg11.dtd\">\n<!-- Generated by graphviz version 2.40.1 (20161225.0304)\n -->\n<!-- Title: Tree Pages: 1 -->\n<svg width=\"1431pt\" height=\"477pt\"\n viewBox=\"0.00 0.00 1430.50 477.00\" xmlns=\"http://www.w3.org/2000/svg\" xmlns:xlink=\"http://www.w3.org/1999/xlink\">\n<g id=\"graph0\" class=\"graph\" transform=\"scale(1 1) rotate(0) translate(4 473)\">\n<title>Tree</title>\n<polygon fill=\"#ffffff\" stroke=\"transparent\" points=\"-4,4 -4,-473 1426.5,-473 1426.5,4 -4,4\"/>\n<!-- 0 -->\n<g id=\"node1\" class=\"node\">\n<title>0</title>\n<polygon fill=\"#8fc8f0\" stroke=\"#000000\" points=\"761,-469 637,-469 637,-401 761,-401 761,-469\"/>\n<text text-anchor=\"middle\" x=\"699\" y=\"-453.8\" font-family=\"Helvetica,sans-Serif\" font-size=\"14.00\" fill=\"#000000\">age &lt;= 0.5</text>\n<text text-anchor=\"middle\" x=\"699\" y=\"-438.8\" font-family=\"Helvetica,sans-Serif\" font-size=\"14.00\" fill=\"#000000\">samples = 158</text>\n<text text-anchor=\"middle\" x=\"699\" y=\"-423.8\" font-family=\"Helvetica,sans-Serif\" font-size=\"14.00\" fill=\"#000000\">value = [48, 110]</text>\n<text text-anchor=\"middle\" x=\"699\" y=\"-408.8\" font-family=\"Helvetica,sans-Serif\" font-size=\"14.00\" fill=\"#000000\">class = voting</text>\n</g>\n<!-- 1 -->\n<g id=\"node2\" class=\"node\">\n<title>1</title>\n<polygon fill=\"#cce6f8\" stroke=\"#000000\" points=\"603,-365 457,-365 457,-297 603,-297 603,-365\"/>\n<text text-anchor=\"middle\" x=\"530\" y=\"-349.8\" font-family=\"Helvetica,sans-Serif\" font-size=\"14.00\" fill=\"#000000\">score_gov &lt;= 0.375</text>\n<text text-anchor=\"middle\" x=\"530\" y=\"-334.8\" font-family=\"Helvetica,sans-Serif\" font-size=\"14.00\" fill=\"#000000\">samples = 75</text>\n<text text-anchor=\"middle\" x=\"530\" y=\"-319.8\" font-family=\"Helvetica,sans-Serif\" font-size=\"14.00\" fill=\"#000000\">value = [32, 43]</text>\n<text text-anchor=\"middle\" x=\"530\" y=\"-304.8\" font-family=\"Helvetica,sans-Serif\" font-size=\"14.00\" fill=\"#000000\">class = voting</text>\n</g>\n<!-- 0&#45;&gt;1 -->\n<g id=\"edge1\" class=\"edge\">\n<title>0&#45;&gt;1</title>\n<path fill=\"none\" stroke=\"#000000\" d=\"M643.6631,-400.9465C627.9058,-391.2497 610.6063,-380.6039 594.3613,-370.6069\"/>\n<polygon fill=\"#000000\" stroke=\"#000000\" points=\"595.8122,-367.3902 585.4612,-365.13 592.1435,-373.3518 595.8122,-367.3902\"/>\n<text text-anchor=\"middle\" x=\"591.2518\" y=\"-385.7502\" font-family=\"Helvetica,sans-Serif\" font-size=\"14.00\" fill=\"#000000\">True</text>\n</g>\n<!-- 12 -->\n<g id=\"node13\" class=\"node\">\n<title>12</title>\n<polygon fill=\"#68b4eb\" stroke=\"#000000\" points=\"1015,-365 839,-365 839,-297 1015,-297 1015,-365\"/>\n<text text-anchor=\"middle\" x=\"927\" y=\"-349.8\" font-family=\"Helvetica,sans-Serif\" font-size=\"14.00\" fill=\"#000000\">score_intention &lt;= 0.325</text>\n<text text-anchor=\"middle\" x=\"927\" y=\"-334.8\" font-family=\"Helvetica,sans-Serif\" font-size=\"14.00\" fill=\"#000000\">samples = 83</text>\n<text text-anchor=\"middle\" x=\"927\" y=\"-319.8\" font-family=\"Helvetica,sans-Serif\" font-size=\"14.00\" fill=\"#000000\">value = [16, 67]</text>\n<text text-anchor=\"middle\" x=\"927\" y=\"-304.8\" font-family=\"Helvetica,sans-Serif\" font-size=\"14.00\" fill=\"#000000\">class = voting</text>\n</g>\n<!-- 0&#45;&gt;12 -->\n<g id=\"edge12\" class=\"edge\">\n<title>0&#45;&gt;12</title>\n<path fill=\"none\" stroke=\"#000000\" d=\"M761.0008,-406.7189C786.3541,-395.1543 816.0744,-381.5977 843.3067,-369.1759\"/>\n<polygon fill=\"#000000\" stroke=\"#000000\" points=\"844.7911,-372.3458 852.4367,-365.0113 841.886,-365.9771 844.7911,-372.3458\"/>\n<text text-anchor=\"middle\" x=\"843.6896\" y=\"-384.7311\" font-family=\"Helvetica,sans-Serif\" font-size=\"14.00\" fill=\"#000000\">False</text>\n</g>\n<!-- 2 -->\n<g id=\"node3\" class=\"node\">\n<title>2</title>\n<polygon fill=\"#efb388\" stroke=\"#000000\" points=\"367,-261 209,-261 209,-193 367,-193 367,-261\"/>\n<text text-anchor=\"middle\" x=\"288\" y=\"-245.8\" font-family=\"Helvetica,sans-Serif\" font-size=\"14.00\" fill=\"#000000\">gender_female &lt;= 0.5</text>\n<text text-anchor=\"middle\" x=\"288\" y=\"-230.8\" font-family=\"Helvetica,sans-Serif\" font-size=\"14.00\" fill=\"#000000\">samples = 14</text>\n<text text-anchor=\"middle\" x=\"288\" y=\"-215.8\" font-family=\"Helvetica,sans-Serif\" font-size=\"14.00\" fill=\"#000000\">value = [10, 4]</text>\n<text text-anchor=\"middle\" x=\"288\" y=\"-200.8\" font-family=\"Helvetica,sans-Serif\" font-size=\"14.00\" fill=\"#000000\">class = non&#45;voting</text>\n</g>\n<!-- 1&#45;&gt;2 -->\n<g id=\"edge2\" class=\"edge\">\n<title>1&#45;&gt;2</title>\n<path fill=\"none\" stroke=\"#000000\" d=\"M456.7353,-299.5143C431.4734,-288.658 402.9056,-276.3809 376.5546,-265.0565\"/>\n<polygon fill=\"#000000\" stroke=\"#000000\" points=\"377.9049,-261.8273 367.3354,-261.0946 375.141,-268.2586 377.9049,-261.8273\"/>\n</g>\n<!-- 7 -->\n<g id=\"node8\" class=\"node\">\n<title>7</title>\n<polygon fill=\"#a9d4f4\" stroke=\"#000000\" points=\"619.5,-261 440.5,-261 440.5,-193 619.5,-193 619.5,-261\"/>\n<text text-anchor=\"middle\" x=\"530\" y=\"-245.8\" font-family=\"Helvetica,sans-Serif\" font-size=\"14.00\" fill=\"#000000\">score_progress &lt;= 0.375</text>\n<text text-anchor=\"middle\" x=\"530\" y=\"-230.8\" font-family=\"Helvetica,sans-Serif\" font-size=\"14.00\" fill=\"#000000\">samples = 61</text>\n<text text-anchor=\"middle\" x=\"530\" y=\"-215.8\" font-family=\"Helvetica,sans-Serif\" font-size=\"14.00\" fill=\"#000000\">value = [22, 39]</text>\n<text text-anchor=\"middle\" x=\"530\" y=\"-200.8\" font-family=\"Helvetica,sans-Serif\" font-size=\"14.00\" fill=\"#000000\">class = voting</text>\n</g>\n<!-- 1&#45;&gt;7 -->\n<g id=\"edge7\" class=\"edge\">\n<title>1&#45;&gt;7</title>\n<path fill=\"none\" stroke=\"#000000\" d=\"M530,-296.9465C530,-288.776 530,-279.9318 530,-271.3697\"/>\n<polygon fill=\"#000000\" stroke=\"#000000\" points=\"533.5001,-271.13 530,-261.13 526.5001,-271.13 533.5001,-271.13\"/>\n</g>\n<!-- 3 -->\n<g id=\"node4\" class=\"node\">\n<title>3</title>\n<polygon fill=\"#ffffff\" stroke=\"#000000\" points=\"203,-157 69,-157 69,-89 203,-89 203,-157\"/>\n<text text-anchor=\"middle\" x=\"136\" y=\"-141.8\" font-family=\"Helvetica,sans-Serif\" font-size=\"14.00\" fill=\"#000000\">edu &lt;= 0.25</text>\n<text text-anchor=\"middle\" x=\"136\" y=\"-126.8\" font-family=\"Helvetica,sans-Serif\" font-size=\"14.00\" fill=\"#000000\">samples = 8</text>\n<text text-anchor=\"middle\" x=\"136\" y=\"-111.8\" font-family=\"Helvetica,sans-Serif\" font-size=\"14.00\" fill=\"#000000\">value = [4, 4]</text>\n<text text-anchor=\"middle\" x=\"136\" y=\"-96.8\" font-family=\"Helvetica,sans-Serif\" font-size=\"14.00\" fill=\"#000000\">class = non&#45;voting</text>\n</g>\n<!-- 2&#45;&gt;3 -->\n<g id=\"edge3\" class=\"edge\">\n<title>2&#45;&gt;3</title>\n<path fill=\"none\" stroke=\"#000000\" d=\"M238.2295,-192.9465C224.1885,-183.3395 208.786,-172.8009 194.2932,-162.8848\"/>\n<polygon fill=\"#000000\" stroke=\"#000000\" points=\"196.1118,-159.8883 185.8823,-157.13 192.159,-165.6655 196.1118,-159.8883\"/>\n</g>\n<!-- 6 -->\n<g id=\"node7\" class=\"node\">\n<title>6</title>\n<polygon fill=\"#e58139\" stroke=\"#000000\" points=\"355,-149.5 221,-149.5 221,-96.5 355,-96.5 355,-149.5\"/>\n<text text-anchor=\"middle\" x=\"288\" y=\"-134.3\" font-family=\"Helvetica,sans-Serif\" font-size=\"14.00\" fill=\"#000000\">samples = 6</text>\n<text text-anchor=\"middle\" x=\"288\" y=\"-119.3\" font-family=\"Helvetica,sans-Serif\" font-size=\"14.00\" fill=\"#000000\">value = [6, 0]</text>\n<text text-anchor=\"middle\" x=\"288\" y=\"-104.3\" font-family=\"Helvetica,sans-Serif\" font-size=\"14.00\" fill=\"#000000\">class = non&#45;voting</text>\n</g>\n<!-- 2&#45;&gt;6 -->\n<g id=\"edge6\" class=\"edge\">\n<title>2&#45;&gt;6</title>\n<path fill=\"none\" stroke=\"#000000\" d=\"M288,-192.9465C288,-182.2621 288,-170.4254 288,-159.5742\"/>\n<polygon fill=\"#000000\" stroke=\"#000000\" points=\"291.5001,-159.5421 288,-149.5422 284.5001,-159.5422 291.5001,-159.5421\"/>\n</g>\n<!-- 4 -->\n<g id=\"node5\" class=\"node\">\n<title>4</title>\n<polygon fill=\"#f2c09c\" stroke=\"#000000\" points=\"134,-53 0,-53 0,0 134,0 134,-53\"/>\n<text text-anchor=\"middle\" x=\"67\" y=\"-37.8\" font-family=\"Helvetica,sans-Serif\" font-size=\"14.00\" fill=\"#000000\">samples = 3</text>\n<text text-anchor=\"middle\" x=\"67\" y=\"-22.8\" font-family=\"Helvetica,sans-Serif\" font-size=\"14.00\" fill=\"#000000\">value = [2, 1]</text>\n<text text-anchor=\"middle\" x=\"67\" y=\"-7.8\" font-family=\"Helvetica,sans-Serif\" font-size=\"14.00\" fill=\"#000000\">class = non&#45;voting</text>\n</g>\n<!-- 3&#45;&gt;4 -->\n<g id=\"edge4\" class=\"edge\">\n<title>3&#45;&gt;4</title>\n<path fill=\"none\" stroke=\"#000000\" d=\"M111.6732,-88.9777C105.3221,-80.0954 98.466,-70.5067 92.0768,-61.5711\"/>\n<polygon fill=\"#000000\" stroke=\"#000000\" points=\"94.7893,-59.3472 86.1259,-53.2485 89.0952,-63.4187 94.7893,-59.3472\"/>\n</g>\n<!-- 5 -->\n<g id=\"node6\" class=\"node\">\n<title>5</title>\n<polygon fill=\"#bddef6\" stroke=\"#000000\" points=\"257.5,-53 152.5,-53 152.5,0 257.5,0 257.5,-53\"/>\n<text text-anchor=\"middle\" x=\"205\" y=\"-37.8\" font-family=\"Helvetica,sans-Serif\" font-size=\"14.00\" fill=\"#000000\">samples = 5</text>\n<text text-anchor=\"middle\" x=\"205\" y=\"-22.8\" font-family=\"Helvetica,sans-Serif\" font-size=\"14.00\" fill=\"#000000\">value = [2, 3]</text>\n<text text-anchor=\"middle\" x=\"205\" y=\"-7.8\" font-family=\"Helvetica,sans-Serif\" font-size=\"14.00\" fill=\"#000000\">class = voting</text>\n</g>\n<!-- 3&#45;&gt;5 -->\n<g id=\"edge5\" class=\"edge\">\n<title>3&#45;&gt;5</title>\n<path fill=\"none\" stroke=\"#000000\" d=\"M160.3268,-88.9777C166.6779,-80.0954 173.534,-70.5067 179.9232,-61.5711\"/>\n<polygon fill=\"#000000\" stroke=\"#000000\" points=\"182.9048,-63.4187 185.8741,-53.2485 177.2107,-59.3472 182.9048,-63.4187\"/>\n</g>\n<!-- 8 -->\n<g id=\"node9\" class=\"node\">\n<title>8</title>\n<polygon fill=\"#399de5\" stroke=\"#000000\" points=\"478.5,-149.5 373.5,-149.5 373.5,-96.5 478.5,-96.5 478.5,-149.5\"/>\n<text text-anchor=\"middle\" x=\"426\" y=\"-134.3\" font-family=\"Helvetica,sans-Serif\" font-size=\"14.00\" fill=\"#000000\">samples = 7</text>\n<text text-anchor=\"middle\" x=\"426\" y=\"-119.3\" font-family=\"Helvetica,sans-Serif\" font-size=\"14.00\" fill=\"#000000\">value = [0, 7]</text>\n<text text-anchor=\"middle\" x=\"426\" y=\"-104.3\" font-family=\"Helvetica,sans-Serif\" font-size=\"14.00\" fill=\"#000000\">class = voting</text>\n</g>\n<!-- 7&#45;&gt;8 -->\n<g id=\"edge8\" class=\"edge\">\n<title>7&#45;&gt;8</title>\n<path fill=\"none\" stroke=\"#000000\" d=\"M495.9465,-192.9465C484.3809,-181.3809 471.4652,-168.4652 459.9107,-156.9107\"/>\n<polygon fill=\"#000000\" stroke=\"#000000\" points=\"462.0881,-154.1384 452.5422,-149.5422 457.1384,-159.0881 462.0881,-154.1384\"/>\n</g>\n<!-- 9 -->\n<g id=\"node10\" class=\"node\">\n<title>9</title>\n<polygon fill=\"#c1e0f7\" stroke=\"#000000\" points=\"673,-157 497,-157 497,-89 673,-89 673,-157\"/>\n<text text-anchor=\"middle\" x=\"585\" y=\"-141.8\" font-family=\"Helvetica,sans-Serif\" font-size=\"14.00\" fill=\"#000000\">score_intention &lt;= 0.375</text>\n<text text-anchor=\"middle\" x=\"585\" y=\"-126.8\" font-family=\"Helvetica,sans-Serif\" font-size=\"14.00\" fill=\"#000000\">samples = 54</text>\n<text text-anchor=\"middle\" x=\"585\" y=\"-111.8\" font-family=\"Helvetica,sans-Serif\" font-size=\"14.00\" fill=\"#000000\">value = [22, 32]</text>\n<text text-anchor=\"middle\" x=\"585\" y=\"-96.8\" font-family=\"Helvetica,sans-Serif\" font-size=\"14.00\" fill=\"#000000\">class = voting</text>\n</g>\n<!-- 7&#45;&gt;9 -->\n<g id=\"edge9\" class=\"edge\">\n<title>7&#45;&gt;9</title>\n<path fill=\"none\" stroke=\"#000000\" d=\"M548.0091,-192.9465C552.5199,-184.4169 557.4191,-175.153 562.1314,-166.2424\"/>\n<polygon fill=\"#000000\" stroke=\"#000000\" points=\"565.3694,-167.6062 566.9505,-157.13 559.1815,-164.3337 565.3694,-167.6062\"/>\n</g>\n<!-- 10 -->\n<g id=\"node11\" class=\"node\">\n<title>10</title>\n<polygon fill=\"#f2c09c\" stroke=\"#000000\" points=\"509,-53 375,-53 375,0 509,0 509,-53\"/>\n<text text-anchor=\"middle\" x=\"442\" y=\"-37.8\" font-family=\"Helvetica,sans-Serif\" font-size=\"14.00\" fill=\"#000000\">samples = 15</text>\n<text text-anchor=\"middle\" x=\"442\" y=\"-22.8\" font-family=\"Helvetica,sans-Serif\" font-size=\"14.00\" fill=\"#000000\">value = [10, 5]</text>\n<text text-anchor=\"middle\" x=\"442\" y=\"-7.8\" font-family=\"Helvetica,sans-Serif\" font-size=\"14.00\" fill=\"#000000\">class = non&#45;voting</text>\n</g>\n<!-- 9&#45;&gt;10 -->\n<g id=\"edge10\" class=\"edge\">\n<title>9&#45;&gt;10</title>\n<path fill=\"none\" stroke=\"#000000\" d=\"M534.5835,-88.9777C520.2,-79.2713 504.5663,-68.7213 490.3115,-59.1018\"/>\n<polygon fill=\"#000000\" stroke=\"#000000\" points=\"491.8846,-55.941 481.6376,-53.2485 487.969,-61.7435 491.8846,-55.941\"/>\n</g>\n<!-- 11 -->\n<g id=\"node12\" class=\"node\">\n<title>11</title>\n<polygon fill=\"#91c9f1\" stroke=\"#000000\" points=\"643,-53 527,-53 527,0 643,0 643,-53\"/>\n<text text-anchor=\"middle\" x=\"585\" y=\"-37.8\" font-family=\"Helvetica,sans-Serif\" font-size=\"14.00\" fill=\"#000000\">samples = 39</text>\n<text text-anchor=\"middle\" x=\"585\" y=\"-22.8\" font-family=\"Helvetica,sans-Serif\" font-size=\"14.00\" fill=\"#000000\">value = [12, 27]</text>\n<text text-anchor=\"middle\" x=\"585\" y=\"-7.8\" font-family=\"Helvetica,sans-Serif\" font-size=\"14.00\" fill=\"#000000\">class = voting</text>\n</g>\n<!-- 9&#45;&gt;11 -->\n<g id=\"edge11\" class=\"edge\">\n<title>9&#45;&gt;11</title>\n<path fill=\"none\" stroke=\"#000000\" d=\"M585,-88.9777C585,-80.7364 585,-71.887 585,-63.5153\"/>\n<polygon fill=\"#000000\" stroke=\"#000000\" points=\"588.5001,-63.2484 585,-53.2485 581.5001,-63.2485 588.5001,-63.2484\"/>\n</g>\n<!-- 13 -->\n<g id=\"node14\" class=\"node\">\n<title>13</title>\n<polygon fill=\"#9ccef2\" stroke=\"#000000\" points=\"981,-261 873,-261 873,-193 981,-193 981,-261\"/>\n<text text-anchor=\"middle\" x=\"927\" y=\"-245.8\" font-family=\"Helvetica,sans-Serif\" font-size=\"14.00\" fill=\"#000000\">income &lt;= 0.5</text>\n<text text-anchor=\"middle\" x=\"927\" y=\"-230.8\" font-family=\"Helvetica,sans-Serif\" font-size=\"14.00\" fill=\"#000000\">samples = 18</text>\n<text text-anchor=\"middle\" x=\"927\" y=\"-215.8\" font-family=\"Helvetica,sans-Serif\" font-size=\"14.00\" fill=\"#000000\">value = [6, 12]</text>\n<text text-anchor=\"middle\" x=\"927\" y=\"-200.8\" font-family=\"Helvetica,sans-Serif\" font-size=\"14.00\" fill=\"#000000\">class = voting</text>\n</g>\n<!-- 12&#45;&gt;13 -->\n<g id=\"edge13\" class=\"edge\">\n<title>12&#45;&gt;13</title>\n<path fill=\"none\" stroke=\"#000000\" d=\"M927,-296.9465C927,-288.776 927,-279.9318 927,-271.3697\"/>\n<polygon fill=\"#000000\" stroke=\"#000000\" points=\"930.5001,-271.13 927,-261.13 923.5001,-271.13 930.5001,-271.13\"/>\n</g>\n<!-- 20 -->\n<g id=\"node21\" class=\"node\">\n<title>20</title>\n<polygon fill=\"#5dafea\" stroke=\"#000000\" points=\"1293,-261 1177,-261 1177,-193 1293,-193 1293,-261\"/>\n<text text-anchor=\"middle\" x=\"1235\" y=\"-245.8\" font-family=\"Helvetica,sans-Serif\" font-size=\"14.00\" fill=\"#000000\">edu &lt;= 0.75</text>\n<text text-anchor=\"middle\" x=\"1235\" y=\"-230.8\" font-family=\"Helvetica,sans-Serif\" font-size=\"14.00\" fill=\"#000000\">samples = 65</text>\n<text text-anchor=\"middle\" x=\"1235\" y=\"-215.8\" font-family=\"Helvetica,sans-Serif\" font-size=\"14.00\" fill=\"#000000\">value = [10, 55]</text>\n<text text-anchor=\"middle\" x=\"1235\" y=\"-200.8\" font-family=\"Helvetica,sans-Serif\" font-size=\"14.00\" fill=\"#000000\">class = voting</text>\n</g>\n<!-- 12&#45;&gt;20 -->\n<g id=\"edge20\" class=\"edge\">\n<title>12&#45;&gt;20</title>\n<path fill=\"none\" stroke=\"#000000\" d=\"M1015.2604,-301.1978C1063.6183,-284.8692 1122.6227,-264.9456 1167.3083,-249.8569\"/>\n<polygon fill=\"#000000\" stroke=\"#000000\" points=\"1168.5488,-253.1323 1176.9036,-246.617 1166.3094,-246.5001 1168.5488,-253.1323\"/>\n</g>\n<!-- 14 -->\n<g id=\"node15\" class=\"node\">\n<title>14</title>\n<polygon fill=\"#f8e0ce\" stroke=\"#000000\" points=\"907,-157 773,-157 773,-89 907,-89 907,-157\"/>\n<text text-anchor=\"middle\" x=\"840\" y=\"-141.8\" font-family=\"Helvetica,sans-Serif\" font-size=\"14.00\" fill=\"#000000\">edu &lt;= 0.25</text>\n<text text-anchor=\"middle\" x=\"840\" y=\"-126.8\" font-family=\"Helvetica,sans-Serif\" font-size=\"14.00\" fill=\"#000000\">samples = 7</text>\n<text text-anchor=\"middle\" x=\"840\" y=\"-111.8\" font-family=\"Helvetica,sans-Serif\" font-size=\"14.00\" fill=\"#000000\">value = [4, 3]</text>\n<text text-anchor=\"middle\" x=\"840\" y=\"-96.8\" font-family=\"Helvetica,sans-Serif\" font-size=\"14.00\" fill=\"#000000\">class = non&#45;voting</text>\n</g>\n<!-- 13&#45;&gt;14 -->\n<g id=\"edge14\" class=\"edge\">\n<title>13&#45;&gt;14</title>\n<path fill=\"none\" stroke=\"#000000\" d=\"M898.5129,-192.9465C891.0021,-183.968 882.8105,-174.1758 874.9995,-164.8385\"/>\n<polygon fill=\"#000000\" stroke=\"#000000\" points=\"877.652,-162.5544 868.5511,-157.13 872.2829,-167.0459 877.652,-162.5544\"/>\n</g>\n<!-- 17 -->\n<g id=\"node18\" class=\"node\">\n<title>17</title>\n<polygon fill=\"#65b3eb\" stroke=\"#000000\" points=\"1104.5,-157 925.5,-157 925.5,-89 1104.5,-89 1104.5,-157\"/>\n<text text-anchor=\"middle\" x=\"1015\" y=\"-141.8\" font-family=\"Helvetica,sans-Serif\" font-size=\"14.00\" fill=\"#000000\">score_progress &lt;= 0.375</text>\n<text text-anchor=\"middle\" x=\"1015\" y=\"-126.8\" font-family=\"Helvetica,sans-Serif\" font-size=\"14.00\" fill=\"#000000\">samples = 11</text>\n<text text-anchor=\"middle\" x=\"1015\" y=\"-111.8\" font-family=\"Helvetica,sans-Serif\" font-size=\"14.00\" fill=\"#000000\">value = [2, 9]</text>\n<text text-anchor=\"middle\" x=\"1015\" y=\"-96.8\" font-family=\"Helvetica,sans-Serif\" font-size=\"14.00\" fill=\"#000000\">class = voting</text>\n</g>\n<!-- 13&#45;&gt;17 -->\n<g id=\"edge17\" class=\"edge\">\n<title>13&#45;&gt;17</title>\n<path fill=\"none\" stroke=\"#000000\" d=\"M955.8145,-192.9465C963.4117,-183.968 971.6974,-174.1758 979.5982,-164.8385\"/>\n<polygon fill=\"#000000\" stroke=\"#000000\" points=\"982.3332,-167.0247 986.1208,-157.13 976.9895,-162.5031 982.3332,-167.0247\"/>\n</g>\n<!-- 15 -->\n<g id=\"node16\" class=\"node\">\n<title>15</title>\n<polygon fill=\"#eeab7b\" stroke=\"#000000\" points=\"795,-53 661,-53 661,0 795,0 795,-53\"/>\n<text text-anchor=\"middle\" x=\"728\" y=\"-37.8\" font-family=\"Helvetica,sans-Serif\" font-size=\"14.00\" fill=\"#000000\">samples = 4</text>\n<text text-anchor=\"middle\" x=\"728\" y=\"-22.8\" font-family=\"Helvetica,sans-Serif\" font-size=\"14.00\" fill=\"#000000\">value = [3, 1]</text>\n<text text-anchor=\"middle\" x=\"728\" y=\"-7.8\" font-family=\"Helvetica,sans-Serif\" font-size=\"14.00\" fill=\"#000000\">class = non&#45;voting</text>\n</g>\n<!-- 14&#45;&gt;15 -->\n<g id=\"edge15\" class=\"edge\">\n<title>14&#45;&gt;15</title>\n<path fill=\"none\" stroke=\"#000000\" d=\"M800.513,-88.9777C789.5664,-79.546 777.6953,-69.3178 766.7889,-59.9208\"/>\n<polygon fill=\"#000000\" stroke=\"#000000\" points=\"768.9053,-57.1244 759.0449,-53.2485 764.3361,-62.4274 768.9053,-57.1244\"/>\n</g>\n<!-- 16 -->\n<g id=\"node17\" class=\"node\">\n<title>16</title>\n<polygon fill=\"#9ccef2\" stroke=\"#000000\" points=\"918.5,-53 813.5,-53 813.5,0 918.5,0 918.5,-53\"/>\n<text text-anchor=\"middle\" x=\"866\" y=\"-37.8\" font-family=\"Helvetica,sans-Serif\" font-size=\"14.00\" fill=\"#000000\">samples = 3</text>\n<text text-anchor=\"middle\" x=\"866\" y=\"-22.8\" font-family=\"Helvetica,sans-Serif\" font-size=\"14.00\" fill=\"#000000\">value = [1, 2]</text>\n<text text-anchor=\"middle\" x=\"866\" y=\"-7.8\" font-family=\"Helvetica,sans-Serif\" font-size=\"14.00\" fill=\"#000000\">class = voting</text>\n</g>\n<!-- 14&#45;&gt;16 -->\n<g id=\"edge16\" class=\"edge\">\n<title>14&#45;&gt;16</title>\n<path fill=\"none\" stroke=\"#000000\" d=\"M849.1666,-88.9777C851.4364,-80.5533 853.8774,-71.4934 856.1771,-62.9579\"/>\n<polygon fill=\"#000000\" stroke=\"#000000\" points=\"859.571,-63.8147 858.7932,-53.2485 852.8121,-61.9936 859.571,-63.8147\"/>\n</g>\n<!-- 18 -->\n<g id=\"node19\" class=\"node\">\n<title>18</title>\n<polygon fill=\"#399de5\" stroke=\"#000000\" points=\"1041.5,-53 936.5,-53 936.5,0 1041.5,0 1041.5,-53\"/>\n<text text-anchor=\"middle\" x=\"989\" y=\"-37.8\" font-family=\"Helvetica,sans-Serif\" font-size=\"14.00\" fill=\"#000000\">samples = 5</text>\n<text text-anchor=\"middle\" x=\"989\" y=\"-22.8\" font-family=\"Helvetica,sans-Serif\" font-size=\"14.00\" fill=\"#000000\">value = [0, 5]</text>\n<text text-anchor=\"middle\" x=\"989\" y=\"-7.8\" font-family=\"Helvetica,sans-Serif\" font-size=\"14.00\" fill=\"#000000\">class = voting</text>\n</g>\n<!-- 17&#45;&gt;18 -->\n<g id=\"edge18\" class=\"edge\">\n<title>17&#45;&gt;18</title>\n<path fill=\"none\" stroke=\"#000000\" d=\"M1005.8334,-88.9777C1003.5636,-80.5533 1001.1226,-71.4934 998.8229,-62.9579\"/>\n<polygon fill=\"#000000\" stroke=\"#000000\" points=\"1002.1879,-61.9936 996.2068,-53.2485 995.429,-63.8147 1002.1879,-61.9936\"/>\n</g>\n<!-- 19 -->\n<g id=\"node20\" class=\"node\">\n<title>19</title>\n<polygon fill=\"#9ccef2\" stroke=\"#000000\" points=\"1164.5,-53 1059.5,-53 1059.5,0 1164.5,0 1164.5,-53\"/>\n<text text-anchor=\"middle\" x=\"1112\" y=\"-37.8\" font-family=\"Helvetica,sans-Serif\" font-size=\"14.00\" fill=\"#000000\">samples = 6</text>\n<text text-anchor=\"middle\" x=\"1112\" y=\"-22.8\" font-family=\"Helvetica,sans-Serif\" font-size=\"14.00\" fill=\"#000000\">value = [2, 4]</text>\n<text text-anchor=\"middle\" x=\"1112\" y=\"-7.8\" font-family=\"Helvetica,sans-Serif\" font-size=\"14.00\" fill=\"#000000\">class = voting</text>\n</g>\n<!-- 17&#45;&gt;19 -->\n<g id=\"edge19\" class=\"edge\">\n<title>17&#45;&gt;19</title>\n<path fill=\"none\" stroke=\"#000000\" d=\"M1049.1986,-88.9777C1058.495,-79.7292 1068.5614,-69.7147 1077.8549,-60.4691\"/>\n<polygon fill=\"#000000\" stroke=\"#000000\" points=\"1080.4921,-62.7825 1085.1129,-53.2485 1075.5551,-57.82 1080.4921,-62.7825\"/>\n</g>\n<!-- 21 -->\n<g id=\"node22\" class=\"node\">\n<title>21</title>\n<polygon fill=\"#6ab6ec\" stroke=\"#000000\" points=\"1297.5,-157 1172.5,-157 1172.5,-89 1297.5,-89 1297.5,-157\"/>\n<text text-anchor=\"middle\" x=\"1235\" y=\"-141.8\" font-family=\"Helvetica,sans-Serif\" font-size=\"14.00\" fill=\"#000000\">income &lt;= 0.167</text>\n<text text-anchor=\"middle\" x=\"1235\" y=\"-126.8\" font-family=\"Helvetica,sans-Serif\" font-size=\"14.00\" fill=\"#000000\">samples = 50</text>\n<text text-anchor=\"middle\" x=\"1235\" y=\"-111.8\" font-family=\"Helvetica,sans-Serif\" font-size=\"14.00\" fill=\"#000000\">value = [10, 40]</text>\n<text text-anchor=\"middle\" x=\"1235\" y=\"-96.8\" font-family=\"Helvetica,sans-Serif\" font-size=\"14.00\" fill=\"#000000\">class = voting</text>\n</g>\n<!-- 20&#45;&gt;21 -->\n<g id=\"edge21\" class=\"edge\">\n<title>20&#45;&gt;21</title>\n<path fill=\"none\" stroke=\"#000000\" d=\"M1235,-192.9465C1235,-184.776 1235,-175.9318 1235,-167.3697\"/>\n<polygon fill=\"#000000\" stroke=\"#000000\" points=\"1238.5001,-167.13 1235,-157.13 1231.5001,-167.13 1238.5001,-167.13\"/>\n</g>\n<!-- 24 -->\n<g id=\"node25\" class=\"node\">\n<title>24</title>\n<polygon fill=\"#399de5\" stroke=\"#000000\" points=\"1422.5,-149.5 1315.5,-149.5 1315.5,-96.5 1422.5,-96.5 1422.5,-149.5\"/>\n<text text-anchor=\"middle\" x=\"1369\" y=\"-134.3\" font-family=\"Helvetica,sans-Serif\" font-size=\"14.00\" fill=\"#000000\">samples = 15</text>\n<text text-anchor=\"middle\" x=\"1369\" y=\"-119.3\" font-family=\"Helvetica,sans-Serif\" font-size=\"14.00\" fill=\"#000000\">value = [0, 15]</text>\n<text text-anchor=\"middle\" x=\"1369\" y=\"-104.3\" font-family=\"Helvetica,sans-Serif\" font-size=\"14.00\" fill=\"#000000\">class = voting</text>\n</g>\n<!-- 20&#45;&gt;24 -->\n<g id=\"edge24\" class=\"edge\">\n<title>20&#45;&gt;24</title>\n<path fill=\"none\" stroke=\"#000000\" d=\"M1278.8766,-192.9465C1294.2043,-181.0504 1311.3723,-167.726 1326.5791,-155.9237\"/>\n<polygon fill=\"#000000\" stroke=\"#000000\" points=\"1329.0475,-158.4384 1334.8014,-149.5422 1324.7556,-152.9085 1329.0475,-158.4384\"/>\n</g>\n<!-- 22 -->\n<g id=\"node23\" class=\"node\">\n<title>22</title>\n<polygon fill=\"#399de5\" stroke=\"#000000\" points=\"1287.5,-53 1182.5,-53 1182.5,0 1287.5,0 1287.5,-53\"/>\n<text text-anchor=\"middle\" x=\"1235\" y=\"-37.8\" font-family=\"Helvetica,sans-Serif\" font-size=\"14.00\" fill=\"#000000\">samples = 9</text>\n<text text-anchor=\"middle\" x=\"1235\" y=\"-22.8\" font-family=\"Helvetica,sans-Serif\" font-size=\"14.00\" fill=\"#000000\">value = [0, 9]</text>\n<text text-anchor=\"middle\" x=\"1235\" y=\"-7.8\" font-family=\"Helvetica,sans-Serif\" font-size=\"14.00\" fill=\"#000000\">class = voting</text>\n</g>\n<!-- 21&#45;&gt;22 -->\n<g id=\"edge22\" class=\"edge\">\n<title>21&#45;&gt;22</title>\n<path fill=\"none\" stroke=\"#000000\" d=\"M1235,-88.9777C1235,-80.7364 1235,-71.887 1235,-63.5153\"/>\n<polygon fill=\"#000000\" stroke=\"#000000\" points=\"1238.5001,-63.2484 1235,-53.2485 1231.5001,-63.2485 1238.5001,-63.2484\"/>\n</g>\n<!-- 23 -->\n<g id=\"node24\" class=\"node\">\n<title>23</title>\n<polygon fill=\"#79bded\" stroke=\"#000000\" points=\"1422,-53 1306,-53 1306,0 1422,0 1422,-53\"/>\n<text text-anchor=\"middle\" x=\"1364\" y=\"-37.8\" font-family=\"Helvetica,sans-Serif\" font-size=\"14.00\" fill=\"#000000\">samples = 41</text>\n<text text-anchor=\"middle\" x=\"1364\" y=\"-22.8\" font-family=\"Helvetica,sans-Serif\" font-size=\"14.00\" fill=\"#000000\">value = [10, 31]</text>\n<text text-anchor=\"middle\" x=\"1364\" y=\"-7.8\" font-family=\"Helvetica,sans-Serif\" font-size=\"14.00\" fill=\"#000000\">class = voting</text>\n</g>\n<!-- 21&#45;&gt;23 -->\n<g id=\"edge23\" class=\"edge\">\n<title>21&#45;&gt;23</title>\n<path fill=\"none\" stroke=\"#000000\" d=\"M1280.4806,-88.9777C1293.3335,-79.3629 1307.2931,-68.9203 1320.054,-59.3743\"/>\n<polygon fill=\"#000000\" stroke=\"#000000\" points=\"1322.332,-62.0412 1328.243,-53.2485 1318.139,-56.436 1322.332,-62.0412\"/>\n</g>\n</g>\n</svg>\n"
          },
          "metadata": {}
        }
      ]
    },
    {
      "cell_type": "code",
      "source": [
        "print(\"feature importance:\\n{}\".format(tree.feature_importances_))"
      ],
      "metadata": {
        "colab": {
          "base_uri": "https://localhost:8080/"
        },
        "id": "vchVRcMwKxTc",
        "outputId": "3d054861-590d-43f3-8405-f1ee862eb6c9"
      },
      "execution_count": 82,
      "outputs": [
        {
          "output_type": "stream",
          "name": "stdout",
          "text": [
            "feature importance:\n",
            "[0.08929452 0.         0.         0.         0.         0.\n",
            " 0.         0.09297696 0.11338358 0.22454216 0.14834275 0.13871857\n",
            " 0.19274146]\n"
          ]
        }
      ]
    },
    {
      "cell_type": "code",
      "source": [
        "def plot_feature_importances_tree(model):\n",
        "  n_features=X.shape[1]\n",
        "  plt.barh(range(n_features), model.feature_importances_,align='center')\n",
        "  plt.yticks(np.arange(n_features), X.columns)\n",
        "  plt.xlabel(\"Importances\")\n",
        "  plt.ylabel(\"Features\")\n",
        "  plt.ylim(-1, n_features)\n",
        "  \n",
        "plot_feature_importances_tree(tree)"
      ],
      "metadata": {
        "colab": {
          "base_uri": "https://localhost:8080/",
          "height": 279
        },
        "id": "q9PRIbGmKxQ2",
        "outputId": "426d03fb-cb47-408c-ad0b-17f46fe80ea3"
      },
      "execution_count": 83,
      "outputs": [
        {
          "output_type": "display_data",
          "data": {
            "text/plain": [
              "<Figure size 432x288 with 1 Axes>"
            ],
            "image/png": "[encoded data removed]"
          },
          "metadata": {
            "needs_background": "light"
          }
        }
      ]
    },
    {
      "cell_type": "markdown",
      "source": [
        "#4. 모델평가"
      ],
      "metadata": {
        "id": "dbli-mGlACKN"
      }
    },
    {
      "cell_type": "code",
      "source": [
        "tree=DecisionTreeClassifier(max_depth=4, min_samples_leaf=3)\n",
        "tree.fit(X_train, y_train)\n",
        "pred_train=tree.predict(X_train)\n",
        "confusion_train=confusion_matrix(y_train, pred_train)\n",
        "print(\"훈련데이터 오차행렬:\\n\", confusion_train)"
      ],
      "metadata": {
        "colab": {
          "base_uri": "https://localhost:8080/"
        },
        "id": "_F7CK3yZADwj",
        "outputId": "8f9d192d-9adf-45fe-984d-1970ac8a3756"
      },
      "execution_count": 84,
      "outputs": [
        {
          "output_type": "stream",
          "name": "stdout",
          "text": [
            "훈련데이터 오차행렬:\n",
            " [[ 22  26]\n",
            " [  8 102]]\n"
          ]
        }
      ]
    },
    {
      "cell_type": "code",
      "source": [
        "pred_test=tree.predict(X_test)\n",
        "confusion_test=confusion_matrix(y_test, pred_test)\n",
        "print(\"테스트 데이터 오차행렬:\\n\", confusion_test)"
      ],
      "metadata": {
        "colab": {
          "base_uri": "https://localhost:8080/"
        },
        "id": "M9-_5RGPAEP4",
        "outputId": "dd9d0bcc-d212-4da3-9fcb-146035b5f988"
      },
      "execution_count": 86,
      "outputs": [
        {
          "output_type": "stream",
          "name": "stdout",
          "text": [
            "테스트 데이터 오차행렬:\n",
            " [[ 7  6]\n",
            " [ 5 35]]\n"
          ]
        }
      ]
    },
    {
      "cell_type": "code",
      "source": [
        "f1=f1_score(y_test, pred_test)\n",
        "print(\"f1 score:\\n\", f1)"
      ],
      "metadata": {
        "colab": {
          "base_uri": "https://localhost:8080/"
        },
        "id": "97RAoXZcAENs",
        "outputId": "bae94bc4-dc1e-4d56-ff35-b733387b7e8d"
      },
      "execution_count": 88,
      "outputs": [
        {
          "output_type": "stream",
          "name": "stdout",
          "text": [
            "f1 score:\n",
            " 0.8641975308641976\n"
          ]
        }
      ]
    },
    {
      "cell_type": "code",
      "source": [
        "cfreport=classification_report(y_test, pred_test)\n",
        "print(\"분류예측 레포트:\\n\", cfreport)"
      ],
      "metadata": {
        "colab": {
          "base_uri": "https://localhost:8080/"
        },
        "id": "L209bohwAELG",
        "outputId": "25b3afb7-9ba2-4915-a225-1161c8cacb43"
      },
      "execution_count": 90,
      "outputs": [
        {
          "output_type": "stream",
          "name": "stdout",
          "text": [
            "분류예측 레포트:\n",
            "               precision    recall  f1-score   support\n",
            "\n",
            "           0       0.58      0.54      0.56        13\n",
            "           1       0.85      0.88      0.86        40\n",
            "\n",
            "    accuracy                           0.79        53\n",
            "   macro avg       0.72      0.71      0.71        53\n",
            "weighted avg       0.79      0.79      0.79        53\n",
            "\n"
          ]
        }
      ]
    },
    {
      "cell_type": "markdown",
      "source": [
        "#5. 다중분류 적용: 원데이터 적용 "
      ],
      "metadata": {
        "id": "V2JjD_kAAEru"
      }
    },
    {
      "cell_type": "code",
      "source": [
        "data=pd.read_csv('/content/drive/MyDrive/Colab Notebooks/MachineLearning/data/Fvote.csv', encoding='euc-kr')"
      ],
      "metadata": {
        "id": "44Ti13QnAHtc"
      },
      "execution_count": 91,
      "outputs": []
    },
    {
      "cell_type": "code",
      "source": [
        "data.columns"
      ],
      "metadata": {
        "colab": {
          "base_uri": "https://localhost:8080/"
        },
        "id": "hu94jPacAIM7",
        "outputId": "d4ecc449-8cf1-4c63-a343-bacb1016f186"
      },
      "execution_count": 92,
      "outputs": [
        {
          "output_type": "execute_result",
          "data": {
            "text/plain": [
              "Index(['Unnamed: 0', 'gender_female', 'gender_male', 'region_Chungcheung',\n",
              "       'region_Honam', 'region_Others', 'region_Sudo', 'region_Youngnam',\n",
              "       'edu', 'income', 'age', 'score_gov', 'score_progress',\n",
              "       'score_intention', 'vote', 'parties'],\n",
              "      dtype='object')"
            ]
          },
          "metadata": {},
          "execution_count": 92
        }
      ]
    },
    {
      "cell_type": "code",
      "source": [
        "X1=data[['gender_female', 'gender_male', 'region_Chungcheung',\n",
        "       'region_Honam', 'region_Others', 'region_Sudo', 'region_Youngnam',\n",
        "       'edu', 'income', 'age', 'score_gov', 'score_progress',\n",
        "       'score_intention']]\n",
        "y1=data['parties']"
      ],
      "metadata": {
        "id": "4gJjehq_AIJb"
      },
      "execution_count": 93,
      "outputs": []
    },
    {
      "cell_type": "code",
      "source": [
        "X1_train, X1_test, y1_train, y1_test=train_test_split(X1, y1, random_state=42)"
      ],
      "metadata": {
        "id": "N78_-eQuAIGu"
      },
      "execution_count": 95,
      "outputs": []
    },
    {
      "cell_type": "code",
      "source": [
        "param_distribs={'max_depth': randint(low=1, high=20), 'min_samples_leaf': randint(low=1, high=50)}\n",
        "random_search1=RandomizedSearchCV(DecisionTreeClassifier(), param_distributions=param_grid, cv=5, return_train_score=True)\n",
        "random_search1.fit(X1_train, y1_train)"
      ],
      "metadata": {
        "colab": {
          "base_uri": "https://localhost:8080/"
        },
        "id": "Oq0s0C-6NXZ9",
        "outputId": "267c30ee-d1dc-47c0-84b7-d4f2bd6817cc"
      },
      "execution_count": 106,
      "outputs": [
        {
          "output_type": "execute_result",
          "data": {
            "text/plain": [
              "RandomizedSearchCV(cv=5, estimator=DecisionTreeClassifier(),\n",
              "                   param_distributions={'max_depth': range(2, 20, 2),\n",
              "                                        'min_samples_leaf': range(1, 50, 2)},\n",
              "                   return_train_score=True)"
            ]
          },
          "metadata": {},
          "execution_count": 106
        }
      ]
    },
    {
      "cell_type": "code",
      "source": [
        "print(\"Best Parameter: {}\".format(random_search1.best_params_))\n",
        "print(\"Best Cross-validity score: {:.3f}\".format(random_search1.best_score_))\n",
        "print(\"Test set score {:.3f}\".format(random_search1.score(X_test, y_test)))\n"
      ],
      "metadata": {
        "colab": {
          "base_uri": "https://localhost:8080/"
        },
        "id": "YG8IrXOdNXXD",
        "outputId": "1c0ef041-f835-457c-a6c6-9fd93681bb0d"
      },
      "execution_count": 107,
      "outputs": [
        {
          "output_type": "stream",
          "name": "stdout",
          "text": [
            "Best Parameter: {'min_samples_leaf': 5, 'max_depth': 2}\n",
            "Best Cross-validity score: 0.501\n",
            "Test set score 0.528\n"
          ]
        }
      ]
    },
    {
      "cell_type": "code",
      "source": [
        "result_grid1=random_search1.cv_results_\n",
        "pd.DataFrame(result_grid1)"
      ],
      "metadata": {
        "colab": {
          "base_uri": "https://localhost:8080/",
          "height": 664
        },
        "id": "7oix1G8MNXUo",
        "outputId": "3d642a63-7714-42f7-fab4-6ae87a3535f0"
      },
      "execution_count": 108,
      "outputs": [
        {
          "output_type": "execute_result",
          "data": {
            "text/plain": [
              "   mean_fit_time  std_fit_time  mean_score_time  std_score_time  \\\n",
              "0       0.006627      0.005567         0.003318        0.001126   \n",
              "1       0.005641      0.002916         0.004219        0.002894   \n",
              "2       0.003848      0.000104         0.002639        0.000114   \n",
              "3       0.003823      0.000278         0.002648        0.000034   \n",
              "4       0.004074      0.000525         0.002814        0.000527   \n",
              "5       0.004020      0.000464         0.002680        0.000131   \n",
              "6       0.004005      0.000387         0.002846        0.000304   \n",
              "7       0.004212      0.000107         0.002900        0.000185   \n",
              "8       0.003814      0.000093         0.002879        0.000140   \n",
              "9       0.004051      0.000117         0.003222        0.000671   \n",
              "\n",
              "  param_min_samples_leaf param_max_depth  \\\n",
              "0                     41               4   \n",
              "1                      1               8   \n",
              "2                      5              16   \n",
              "3                     21               4   \n",
              "4                      5               2   \n",
              "5                     23              16   \n",
              "6                     43              14   \n",
              "7                      1              12   \n",
              "8                     31              14   \n",
              "9                     23               6   \n",
              "\n",
              "                                      params  split0_test_score  \\\n",
              "0   {'min_samples_leaf': 41, 'max_depth': 4}            0.40625   \n",
              "1    {'min_samples_leaf': 1, 'max_depth': 8}            0.18750   \n",
              "2   {'min_samples_leaf': 5, 'max_depth': 16}            0.31250   \n",
              "3   {'min_samples_leaf': 21, 'max_depth': 4}            0.43750   \n",
              "4    {'min_samples_leaf': 5, 'max_depth': 2}            0.43750   \n",
              "5  {'min_samples_leaf': 23, 'max_depth': 16}            0.43750   \n",
              "6  {'min_samples_leaf': 43, 'max_depth': 14}            0.40625   \n",
              "7   {'min_samples_leaf': 1, 'max_depth': 12}            0.21875   \n",
              "8  {'min_samples_leaf': 31, 'max_depth': 14}            0.43750   \n",
              "9   {'min_samples_leaf': 23, 'max_depth': 6}            0.43750   \n",
              "\n",
              "   split1_test_score  split2_test_score  ...  mean_test_score  std_test_score  \\\n",
              "0            0.37500            0.40625  ...         0.392339        0.023765   \n",
              "1            0.37500            0.50000  ...         0.399597        0.118018   \n",
              "2            0.37500            0.46875  ...         0.418347        0.064843   \n",
              "3            0.34375            0.46875  ...         0.469355        0.076530   \n",
              "4            0.46875            0.50000  ...         0.500605        0.059813   \n",
              "5            0.34375            0.46875  ...         0.469355        0.086728   \n",
              "6            0.37500            0.40625  ...         0.392339        0.023765   \n",
              "7            0.34375            0.56250  ...         0.405645        0.118044   \n",
              "8            0.50000            0.46875  ...         0.494153        0.047908   \n",
              "9            0.34375            0.46875  ...         0.469355        0.086728   \n",
              "\n",
              "   rank_test_score  split0_train_score  split1_train_score  \\\n",
              "0                9            0.412698            0.412698   \n",
              "1                8            0.936508            0.896825   \n",
              "2                6            0.682540            0.706349   \n",
              "3                3            0.595238            0.539683   \n",
              "4                1            0.595238            0.571429   \n",
              "5                3            0.595238            0.539683   \n",
              "6                9            0.412698            0.412698   \n",
              "7                7            0.992063            0.984127   \n",
              "8                2            0.595238            0.539683   \n",
              "9                3            0.595238            0.539683   \n",
              "\n",
              "   split2_train_score  split3_train_score  split4_train_score  \\\n",
              "0            0.412698            0.417323            0.409449   \n",
              "1            0.896825            0.874016            0.913386   \n",
              "2            0.706349            0.708661            0.629921   \n",
              "3            0.587302            0.527559            0.503937   \n",
              "4            0.611111            0.511811            0.519685   \n",
              "5            0.587302            0.511811            0.496063   \n",
              "6            0.412698            0.417323            0.409449   \n",
              "7            0.992063            0.937008            0.984252   \n",
              "8            0.587302            0.464567            0.496063   \n",
              "9            0.587302            0.511811            0.496063   \n",
              "\n",
              "   mean_train_score  std_train_score  \n",
              "0          0.412973         0.002513  \n",
              "1          0.903512         0.020716  \n",
              "2          0.686764         0.029985  \n",
              "3          0.550744         0.035120  \n",
              "4          0.561855         0.039787  \n",
              "5          0.546019         0.039580  \n",
              "6          0.412973         0.002513  \n",
              "7          0.977903         0.020748  \n",
              "8          0.536570         0.050696  \n",
              "9          0.546019         0.039580  \n",
              "\n",
              "[10 rows x 22 columns]"
            ],
            "text/html": [
              "\n",
              "  <div id=\"df-ade7f63a-8354-4273-a8a8-d1dba496b0d0\">\n",
              "    <div class=\"colab-df-container\">\n",
              "      <div>\n",
              "<style scoped>\n",
              "    .dataframe tbody tr th:only-of-type {\n",
              "        vertical-align: middle;\n",
              "    }\n",
              "\n",
              "    .dataframe tbody tr th {\n",
              "        vertical-align: top;\n",
              "    }\n",
              "\n",
              "    .dataframe thead th {\n",
              "        text-align: right;\n",
              "    }\n",
              "</style>\n",
              "<table border=\"1\" class=\"dataframe\">\n",
              "  <thead>\n",
              "    <tr style=\"text-align: right;\">\n",
              "      <th></th>\n",
              "      <th>mean_fit_time</th>\n",
              "      <th>std_fit_time</th>\n",
              "      <th>mean_score_time</th>\n",
              "      <th>std_score_time</th>\n",
              "      <th>param_min_samples_leaf</th>\n",
              "      <th>param_max_depth</th>\n",
              "      <th>params</th>\n",
              "      <th>split0_test_score</th>\n",
              "      <th>split1_test_score</th>\n",
              "      <th>split2_test_score</th>\n",
              "      <th>...</th>\n",
              "      <th>mean_test_score</th>\n",
              "      <th>std_test_score</th>\n",
              "      <th>rank_test_score</th>\n",
              "      <th>split0_train_score</th>\n",
              "      <th>split1_train_score</th>\n",
              "      <th>split2_train_score</th>\n",
              "      <th>split3_train_score</th>\n",
              "      <th>split4_train_score</th>\n",
              "      <th>mean_train_score</th>\n",
              "      <th>std_train_score</th>\n",
              "    </tr>\n",
              "  </thead>\n",
              "  <tbody>\n",
              "    <tr>\n",
              "      <th>0</th>\n",
              "      <td>0.006627</td>\n",
              "      <td>0.005567</td>\n",
              "      <td>0.003318</td>\n",
              "      <td>0.001126</td>\n",
              "      <td>41</td>\n",
              "      <td>4</td>\n",
              "      <td>{'min_samples_leaf': 41, 'max_depth': 4}</td>\n",
              "      <td>0.40625</td>\n",
              "      <td>0.37500</td>\n",
              "      <td>0.40625</td>\n",
              "      <td>...</td>\n",
              "      <td>0.392339</td>\n",
              "      <td>0.023765</td>\n",
              "      <td>9</td>\n",
              "      <td>0.412698</td>\n",
              "      <td>0.412698</td>\n",
              "      <td>0.412698</td>\n",
              "      <td>0.417323</td>\n",
              "      <td>0.409449</td>\n",
              "      <td>0.412973</td>\n",
              "      <td>0.002513</td>\n",
              "    </tr>\n",
              "    <tr>\n",
              "      <th>1</th>\n",
              "      <td>0.005641</td>\n",
              "      <td>0.002916</td>\n",
              "      <td>0.004219</td>\n",
              "      <td>0.002894</td>\n",
              "      <td>1</td>\n",
              "      <td>8</td>\n",
              "      <td>{'min_samples_leaf': 1, 'max_depth': 8}</td>\n",
              "      <td>0.18750</td>\n",
              "      <td>0.37500</td>\n",
              "      <td>0.50000</td>\n",
              "      <td>...</td>\n",
              "      <td>0.399597</td>\n",
              "      <td>0.118018</td>\n",
              "      <td>8</td>\n",
              "      <td>0.936508</td>\n",
              "      <td>0.896825</td>\n",
              "      <td>0.896825</td>\n",
              "      <td>0.874016</td>\n",
              "      <td>0.913386</td>\n",
              "      <td>0.903512</td>\n",
              "      <td>0.020716</td>\n",
              "    </tr>\n",
              "    <tr>\n",
              "      <th>2</th>\n",
              "      <td>0.003848</td>\n",
              "      <td>0.000104</td>\n",
              "      <td>0.002639</td>\n",
              "      <td>0.000114</td>\n",
              "      <td>5</td>\n",
              "      <td>16</td>\n",
              "      <td>{'min_samples_leaf': 5, 'max_depth': 16}</td>\n",
              "      <td>0.31250</td>\n",
              "      <td>0.37500</td>\n",
              "      <td>0.46875</td>\n",
              "      <td>...</td>\n",
              "      <td>0.418347</td>\n",
              "      <td>0.064843</td>\n",
              "      <td>6</td>\n",
              "      <td>0.682540</td>\n",
              "      <td>0.706349</td>\n",
              "      <td>0.706349</td>\n",
              "      <td>0.708661</td>\n",
              "      <td>0.629921</td>\n",
              "      <td>0.686764</td>\n",
              "      <td>0.029985</td>\n",
              "    </tr>\n",
              "    <tr>\n",
              "      <th>3</th>\n",
              "      <td>0.003823</td>\n",
              "      <td>0.000278</td>\n",
              "      <td>0.002648</td>\n",
              "      <td>0.000034</td>\n",
              "      <td>21</td>\n",
              "      <td>4</td>\n",
              "      <td>{'min_samples_leaf': 21, 'max_depth': 4}</td>\n",
              "      <td>0.43750</td>\n",
              "      <td>0.34375</td>\n",
              "      <td>0.46875</td>\n",
              "      <td>...</td>\n",
              "      <td>0.469355</td>\n",
              "      <td>0.076530</td>\n",
              "      <td>3</td>\n",
              "      <td>0.595238</td>\n",
              "      <td>0.539683</td>\n",
              "      <td>0.587302</td>\n",
              "      <td>0.527559</td>\n",
              "      <td>0.503937</td>\n",
              "      <td>0.550744</td>\n",
              "      <td>0.035120</td>\n",
              "    </tr>\n",
              "    <tr>\n",
              "      <th>4</th>\n",
              "      <td>0.004074</td>\n",
              "      <td>0.000525</td>\n",
              "      <td>0.002814</td>\n",
              "      <td>0.000527</td>\n",
              "      <td>5</td>\n",
              "      <td>2</td>\n",
              "      <td>{'min_samples_leaf': 5, 'max_depth': 2}</td>\n",
              "      <td>0.43750</td>\n",
              "      <td>0.46875</td>\n",
              "      <td>0.50000</td>\n",
              "      <td>...</td>\n",
              "      <td>0.500605</td>\n",
              "      <td>0.059813</td>\n",
              "      <td>1</td>\n",
              "      <td>0.595238</td>\n",
              "      <td>0.571429</td>\n",
              "      <td>0.611111</td>\n",
              "      <td>0.511811</td>\n",
              "      <td>0.519685</td>\n",
              "      <td>0.561855</td>\n",
              "      <td>0.039787</td>\n",
              "    </tr>\n",
              "    <tr>\n",
              "      <th>5</th>\n",
              "      <td>0.004020</td>\n",
              "      <td>0.000464</td>\n",
              "      <td>0.002680</td>\n",
              "      <td>0.000131</td>\n",
              "      <td>23</td>\n",
              "      <td>16</td>\n",
              "      <td>{'min_samples_leaf': 23, 'max_depth': 16}</td>\n",
              "      <td>0.43750</td>\n",
              "      <td>0.34375</td>\n",
              "      <td>0.46875</td>\n",
              "      <td>...</td>\n",
              "      <td>0.469355</td>\n",
              "      <td>0.086728</td>\n",
              "      <td>3</td>\n",
              "      <td>0.595238</td>\n",
              "      <td>0.539683</td>\n",
              "      <td>0.587302</td>\n",
              "      <td>0.511811</td>\n",
              "      <td>0.496063</td>\n",
              "      <td>0.546019</td>\n",
              "      <td>0.039580</td>\n",
              "    </tr>\n",
              "    <tr>\n",
              "      <th>6</th>\n",
              "      <td>0.004005</td>\n",
              "      <td>0.000387</td>\n",
              "      <td>0.002846</td>\n",
              "      <td>0.000304</td>\n",
              "      <td>43</td>\n",
              "      <td>14</td>\n",
              "      <td>{'min_samples_leaf': 43, 'max_depth': 14}</td>\n",
              "      <td>0.40625</td>\n",
              "      <td>0.37500</td>\n",
              "      <td>0.40625</td>\n",
              "      <td>...</td>\n",
              "      <td>0.392339</td>\n",
              "      <td>0.023765</td>\n",
              "      <td>9</td>\n",
              "      <td>0.412698</td>\n",
              "      <td>0.412698</td>\n",
              "      <td>0.412698</td>\n",
              "      <td>0.417323</td>\n",
              "      <td>0.409449</td>\n",
              "      <td>0.412973</td>\n",
              "      <td>0.002513</td>\n",
              "    </tr>\n",
              "    <tr>\n",
              "      <th>7</th>\n",
              "      <td>0.004212</td>\n",
              "      <td>0.000107</td>\n",
              "      <td>0.002900</td>\n",
              "      <td>0.000185</td>\n",
              "      <td>1</td>\n",
              "      <td>12</td>\n",
              "      <td>{'min_samples_leaf': 1, 'max_depth': 12}</td>\n",
              "      <td>0.21875</td>\n",
              "      <td>0.34375</td>\n",
              "      <td>0.56250</td>\n",
              "      <td>...</td>\n",
              "      <td>0.405645</td>\n",
              "      <td>0.118044</td>\n",
              "      <td>7</td>\n",
              "      <td>0.992063</td>\n",
              "      <td>0.984127</td>\n",
              "      <td>0.992063</td>\n",
              "      <td>0.937008</td>\n",
              "      <td>0.984252</td>\n",
              "      <td>0.977903</td>\n",
              "      <td>0.020748</td>\n",
              "    </tr>\n",
              "    <tr>\n",
              "      <th>8</th>\n",
              "      <td>0.003814</td>\n",
              "      <td>0.000093</td>\n",
              "      <td>0.002879</td>\n",
              "      <td>0.000140</td>\n",
              "      <td>31</td>\n",
              "      <td>14</td>\n",
              "      <td>{'min_samples_leaf': 31, 'max_depth': 14}</td>\n",
              "      <td>0.43750</td>\n",
              "      <td>0.50000</td>\n",
              "      <td>0.46875</td>\n",
              "      <td>...</td>\n",
              "      <td>0.494153</td>\n",
              "      <td>0.047908</td>\n",
              "      <td>2</td>\n",
              "      <td>0.595238</td>\n",
              "      <td>0.539683</td>\n",
              "      <td>0.587302</td>\n",
              "      <td>0.464567</td>\n",
              "      <td>0.496063</td>\n",
              "      <td>0.536570</td>\n",
              "      <td>0.050696</td>\n",
              "    </tr>\n",
              "    <tr>\n",
              "      <th>9</th>\n",
              "      <td>0.004051</td>\n",
              "      <td>0.000117</td>\n",
              "      <td>0.003222</td>\n",
              "      <td>0.000671</td>\n",
              "      <td>23</td>\n",
              "      <td>6</td>\n",
              "      <td>{'min_samples_leaf': 23, 'max_depth': 6}</td>\n",
              "      <td>0.43750</td>\n",
              "      <td>0.34375</td>\n",
              "      <td>0.46875</td>\n",
              "      <td>...</td>\n",
              "      <td>0.469355</td>\n",
              "      <td>0.086728</td>\n",
              "      <td>3</td>\n",
              "      <td>0.595238</td>\n",
              "      <td>0.539683</td>\n",
              "      <td>0.587302</td>\n",
              "      <td>0.511811</td>\n",
              "      <td>0.496063</td>\n",
              "      <td>0.546019</td>\n",
              "      <td>0.039580</td>\n",
              "    </tr>\n",
              "  </tbody>\n",
              "</table>\n",
              "<p>10 rows × 22 columns</p>\n",
              "</div>\n",
              "      <button class=\"colab-df-convert\" onclick=\"convertToInteractive('df-ade7f63a-8354-4273-a8a8-d1dba496b0d0')\"\n",
              "              title=\"Convert this dataframe to an interactive table.\"\n",
              "              style=\"display:none;\">\n",
              "        \n",
              "  <svg xmlns=\"http://www.w3.org/2000/svg\" height=\"24px\"viewBox=\"0 0 24 24\"\n",
              "       width=\"24px\">\n",
              "    <path d=\"M0 0h24v24H0V0z\" fill=\"none\"/>\n",
              "    <path d=\"M18.56 5.44l.94 2.06.94-2.06 2.06-.94-2.06-.94-.94-2.06-.94 2.06-2.06.94zm-11 1L8.5 8.5l.94-2.06 2.06-.94-2.06-.94L8.5 2.5l-.94 2.06-2.06.94zm10 10l.94 2.06.94-2.06 2.06-.94-2.06-.94-.94-2.06-.94 2.06-2.06.94z\"/><path d=\"M17.41 7.96l-1.37-1.37c-.4-.4-.92-.59-1.43-.59-.52 0-1.04.2-1.43.59L10.3 9.45l-7.72 7.72c-.78.78-.78 2.05 0 2.83L4 21.41c.39.39.9.59 1.41.59.51 0 1.02-.2 1.41-.59l7.78-7.78 2.81-2.81c.8-.78.8-2.07 0-2.86zM5.41 20L4 18.59l7.72-7.72 1.47 1.35L5.41 20z\"/>\n",
              "  </svg>\n",
              "      </button>\n",
              "      \n",
              "  <style>\n",
              "    .colab-df-container {\n",
              "      display:flex;\n",
              "      flex-wrap:wrap;\n",
              "      gap: 12px;\n",
              "    }\n",
              "\n",
              "    .colab-df-convert {\n",
              "      background-color: #E8F0FE;\n",
              "      border: none;\n",
              "      border-radius: 50%;\n",
              "      cursor: pointer;\n",
              "      display: none;\n",
              "      fill: #1967D2;\n",
              "      height: 32px;\n",
              "      padding: 0 0 0 0;\n",
              "      width: 32px;\n",
              "    }\n",
              "\n",
              "    .colab-df-convert:hover {\n",
              "      background-color: #E2EBFA;\n",
              "      box-shadow: 0px 1px 2px rgba(60, 64, 67, 0.3), 0px 1px 3px 1px rgba(60, 64, 67, 0.15);\n",
              "      fill: #174EA6;\n",
              "    }\n",
              "\n",
              "    [theme=dark] .colab-df-convert {\n",
              "      background-color: #3B4455;\n",
              "      fill: #D2E3FC;\n",
              "    }\n",
              "\n",
              "    [theme=dark] .colab-df-convert:hover {\n",
              "      background-color: #434B5C;\n",
              "      box-shadow: 0px 1px 3px 1px rgba(0, 0, 0, 0.15);\n",
              "      filter: drop-shadow(0px 1px 2px rgba(0, 0, 0, 0.3));\n",
              "      fill: #FFFFFF;\n",
              "    }\n",
              "  </style>\n",
              "\n",
              "      <script>\n",
              "        const buttonEl =\n",
              "          document.querySelector('#df-ade7f63a-8354-4273-a8a8-d1dba496b0d0 button.colab-df-convert');\n",
              "        buttonEl.style.display =\n",
              "          google.colab.kernel.accessAllowed ? 'block' : 'none';\n",
              "\n",
              "        async function convertToInteractive(key) {\n",
              "          const element = document.querySelector('#df-ade7f63a-8354-4273-a8a8-d1dba496b0d0');\n",
              "          const dataTable =\n",
              "            await google.colab.kernel.invokeFunction('convertToInteractive',\n",
              "                                                     [key], {});\n",
              "          if (!dataTable) return;\n",
              "\n",
              "          const docLinkHtml = 'Like what you see? Visit the ' +\n",
              "            '<a target=\"_blank\" href=https://colab.research.google.com/notebooks/data_table.ipynb>data table notebook</a>'\n",
              "            + ' to learn more about interactive tables.';\n",
              "          element.innerHTML = '';\n",
              "          dataTable['output_type'] = 'display_data';\n",
              "          await google.colab.output.renderOutput(dataTable, element);\n",
              "          const docLink = document.createElement('div');\n",
              "          docLink.innerHTML = docLinkHtml;\n",
              "          element.appendChild(docLink);\n",
              "        }\n",
              "      </script>\n",
              "    </div>\n",
              "  </div>\n",
              "  "
            ]
          },
          "metadata": {},
          "execution_count": 108
        }
      ]
    },
    {
      "cell_type": "code",
      "source": [
        "plt.plot(result_grid1['param_max_depth'], result_grid1['mean_train_score'], label=\"Train\")\n",
        "plt.plot(result_grid1['param_max_depth'], result_grid1['mean_test_score'], label=\"Test\")\n",
        "plt.legend()"
      ],
      "metadata": {
        "colab": {
          "base_uri": "https://localhost:8080/",
          "height": 285
        },
        "id": "VejqwbNMNXSJ",
        "outputId": "168ed03d-3337-40ad-aa45-d42eb5b7214a"
      },
      "execution_count": 109,
      "outputs": [
        {
          "output_type": "execute_result",
          "data": {
            "text/plain": [
              "<matplotlib.legend.Legend at 0x7f23be70cd50>"
            ]
          },
          "metadata": {},
          "execution_count": 109
        },
        {
          "output_type": "display_data",
          "data": {
            "text/plain": [
              "<Figure size 432x288 with 1 Axes>"
            ],
            "image/png": "[encoded data removed]"
          },
          "metadata": {
            "needs_background": "light"
          }
        }
      ]
    },
    {
      "cell_type": "code",
      "source": [
        "plt.plot(result_grid1['param_min_samples_leaf'], \n",
        "         result_grid1['mean_train_score'], label=\"Train\")\n",
        "plt.plot(result_grid1['param_min_samples_leaf'], \n",
        "         result_grid1['mean_test_score'], label=\"Test\")\n",
        "plt.legend()"
      ],
      "metadata": {
        "colab": {
          "base_uri": "https://localhost:8080/",
          "height": 285
        },
        "id": "PTLGqjRSNXPq",
        "outputId": "709d31da-4ee6-47b4-ddca-e0a1c605c6c7"
      },
      "execution_count": 110,
      "outputs": [
        {
          "output_type": "execute_result",
          "data": {
            "text/plain": [
              "<matplotlib.legend.Legend at 0x7f23be707b90>"
            ]
          },
          "metadata": {},
          "execution_count": 110
        },
        {
          "output_type": "display_data",
          "data": {
            "text/plain": [
              "<Figure size 432x288 with 1 Axes>"
            ],
            "image/png": "[encoded data removed]"
          },
          "metadata": {
            "needs_background": "light"
          }
        }
      ]
    },
    {
      "cell_type": "code",
      "source": [
        "tree1=DecisionTreeClassifier(max_depth=218, min_samples_leaf=33)\n",
        "tree1.fit(X1_train, y1_train)"
      ],
      "metadata": {
        "colab": {
          "base_uri": "https://localhost:8080/"
        },
        "id": "r3O2bUdlNXNM",
        "outputId": "9433f5a2-43d2-48c7-dfde-f33dfdef33fc"
      },
      "execution_count": 113,
      "outputs": [
        {
          "output_type": "execute_result",
          "data": {
            "text/plain": [
              "DecisionTreeClassifier(max_depth=218, min_samples_leaf=33)"
            ]
          },
          "metadata": {},
          "execution_count": 113
        }
      ]
    },
    {
      "cell_type": "code",
      "source": [
        "from sklearn.tree import export_graphviz\n",
        "export_graphviz(tree, out_file=\"tree_party.dot\", class_names=[\"A\", \"B\", \"C\", \"D\"],\n",
        "                feature_names=X.columns, impurity=False, filled=True)\n",
        "\n",
        "with open(\"tree_party.dot\", encoding =\"euc-kr\") as f:\n",
        "    dot_graph = f.read()\n",
        "    display(graphviz.Source(dot_graph))"
      ],
      "metadata": {
        "colab": {
          "base_uri": "https://localhost:8080/",
          "height": 678
        },
        "id": "JScqiyHzNXK2",
        "outputId": "25f22e47-7bc7-423e-aa0a-678e63ef2054"
      },
      "execution_count": 114,
      "outputs": [
        {
          "output_type": "display_data",
          "data": {
            "text/plain": [
              "<graphviz.files.Source at 0x7f23be65b5d0>"
            ],
            "image/svg+xml": "<?xml version=\"1.0\" encoding=\"UTF-8\" standalone=\"no\"?>\n<!DOCTYPE svg PUBLIC \"-//W3C//DTD SVG 1.1//EN\"\n \"http://www.w3.org/Graphics/SVG/1.1/DTD/svg11.dtd\">\n<!-- Generated by graphviz version 2.40.1 (20161225.0304)\n -->\n<!-- Title: Tree Pages: 1 -->\n<svg width=\"1307pt\" height=\"477pt\"\n viewBox=\"0.00 0.00 1307.00 477.00\" xmlns=\"http://www.w3.org/2000/svg\" xmlns:xlink=\"http://www.w3.org/1999/xlink\">\n<g id=\"graph0\" class=\"graph\" transform=\"scale(1 1) rotate(0) translate(4 473)\">\n<title>Tree</title>\n<polygon fill=\"#ffffff\" stroke=\"transparent\" points=\"-4,4 -4,-473 1303,-473 1303,4 -4,4\"/>\n<!-- 0 -->\n<g id=\"node1\" class=\"node\">\n<title>0</title>\n<polygon fill=\"#8fc8f0\" stroke=\"#000000\" points=\"700.5,-469 576.5,-469 576.5,-401 700.5,-401 700.5,-469\"/>\n<text text-anchor=\"middle\" x=\"638.5\" y=\"-453.8\" font-family=\"Helvetica,sans-Serif\" font-size=\"14.00\" fill=\"#000000\">age &lt;= 0.5</text>\n<text text-anchor=\"middle\" x=\"638.5\" y=\"-438.8\" font-family=\"Helvetica,sans-Serif\" font-size=\"14.00\" fill=\"#000000\">samples = 158</text>\n<text text-anchor=\"middle\" x=\"638.5\" y=\"-423.8\" font-family=\"Helvetica,sans-Serif\" font-size=\"14.00\" fill=\"#000000\">value = [48, 110]</text>\n<text text-anchor=\"middle\" x=\"638.5\" y=\"-408.8\" font-family=\"Helvetica,sans-Serif\" font-size=\"14.00\" fill=\"#000000\">class = B</text>\n</g>\n<!-- 1 -->\n<g id=\"node2\" class=\"node\">\n<title>1</title>\n<polygon fill=\"#cce6f8\" stroke=\"#000000\" points=\"524.5,-365 378.5,-365 378.5,-297 524.5,-297 524.5,-365\"/>\n<text text-anchor=\"middle\" x=\"451.5\" y=\"-349.8\" font-family=\"Helvetica,sans-Serif\" font-size=\"14.00\" fill=\"#000000\">score_gov &lt;= 0.375</text>\n<text text-anchor=\"middle\" x=\"451.5\" y=\"-334.8\" font-family=\"Helvetica,sans-Serif\" font-size=\"14.00\" fill=\"#000000\">samples = 75</text>\n<text text-anchor=\"middle\" x=\"451.5\" y=\"-319.8\" font-family=\"Helvetica,sans-Serif\" font-size=\"14.00\" fill=\"#000000\">value = [32, 43]</text>\n<text text-anchor=\"middle\" x=\"451.5\" y=\"-304.8\" font-family=\"Helvetica,sans-Serif\" font-size=\"14.00\" fill=\"#000000\">class = B</text>\n</g>\n<!-- 0&#45;&gt;1 -->\n<g id=\"edge1\" class=\"edge\">\n<title>0&#45;&gt;1</title>\n<path fill=\"none\" stroke=\"#000000\" d=\"M577.2692,-400.9465C559.5107,-391.0701 539.982,-380.2093 521.7189,-370.0522\"/>\n<polygon fill=\"#000000\" stroke=\"#000000\" points=\"523.3089,-366.9317 512.8684,-365.13 519.9066,-373.0492 523.3089,-366.9317\"/>\n<text text-anchor=\"middle\" x=\"519.7255\" y=\"-385.4712\" font-family=\"Helvetica,sans-Serif\" font-size=\"14.00\" fill=\"#000000\">True</text>\n</g>\n<!-- 12 -->\n<g id=\"node13\" class=\"node\">\n<title>12</title>\n<polygon fill=\"#68b4eb\" stroke=\"#000000\" points=\"906.5,-365 730.5,-365 730.5,-297 906.5,-297 906.5,-365\"/>\n<text text-anchor=\"middle\" x=\"818.5\" y=\"-349.8\" font-family=\"Helvetica,sans-Serif\" font-size=\"14.00\" fill=\"#000000\">score_intention &lt;= 0.325</text>\n<text text-anchor=\"middle\" x=\"818.5\" y=\"-334.8\" font-family=\"Helvetica,sans-Serif\" font-size=\"14.00\" fill=\"#000000\">samples = 83</text>\n<text text-anchor=\"middle\" x=\"818.5\" y=\"-319.8\" font-family=\"Helvetica,sans-Serif\" font-size=\"14.00\" fill=\"#000000\">value = [16, 67]</text>\n<text text-anchor=\"middle\" x=\"818.5\" y=\"-304.8\" font-family=\"Helvetica,sans-Serif\" font-size=\"14.00\" fill=\"#000000\">class = B</text>\n</g>\n<!-- 0&#45;&gt;12 -->\n<g id=\"edge12\" class=\"edge\">\n<title>0&#45;&gt;12</title>\n<path fill=\"none\" stroke=\"#000000\" d=\"M697.4387,-400.9465C714.3771,-391.1599 732.9885,-380.4066 750.4299,-370.3294\"/>\n<polygon fill=\"#000000\" stroke=\"#000000\" points=\"752.5212,-373.1634 759.4289,-365.13 749.0192,-367.1023 752.5212,-373.1634\"/>\n<text text-anchor=\"middle\" x=\"752.9661\" y=\"-385.5802\" font-family=\"Helvetica,sans-Serif\" font-size=\"14.00\" fill=\"#000000\">False</text>\n</g>\n<!-- 2 -->\n<g id=\"node3\" class=\"node\">\n<title>2</title>\n<polygon fill=\"#efb388\" stroke=\"#000000\" points=\"278.5,-261 132.5,-261 132.5,-193 278.5,-193 278.5,-261\"/>\n<text text-anchor=\"middle\" x=\"205.5\" y=\"-245.8\" font-family=\"Helvetica,sans-Serif\" font-size=\"14.00\" fill=\"#000000\">gender_male &lt;= 0.5</text>\n<text text-anchor=\"middle\" x=\"205.5\" y=\"-230.8\" font-family=\"Helvetica,sans-Serif\" font-size=\"14.00\" fill=\"#000000\">samples = 14</text>\n<text text-anchor=\"middle\" x=\"205.5\" y=\"-215.8\" font-family=\"Helvetica,sans-Serif\" font-size=\"14.00\" fill=\"#000000\">value = [10, 4]</text>\n<text text-anchor=\"middle\" x=\"205.5\" y=\"-200.8\" font-family=\"Helvetica,sans-Serif\" font-size=\"14.00\" fill=\"#000000\">class = A</text>\n</g>\n<!-- 1&#45;&gt;2 -->\n<g id=\"edge2\" class=\"edge\">\n<title>1&#45;&gt;2</title>\n<path fill=\"none\" stroke=\"#000000\" d=\"M378.3579,-300.0782C349.9867,-288.0838 317.3555,-274.2885 288.1406,-261.9375\"/>\n<polygon fill=\"#000000\" stroke=\"#000000\" points=\"289.3587,-258.6526 278.785,-257.9823 286.6328,-265.1001 289.3587,-258.6526\"/>\n</g>\n<!-- 7 -->\n<g id=\"node8\" class=\"node\">\n<title>7</title>\n<polygon fill=\"#a9d4f4\" stroke=\"#000000\" points=\"541,-261 362,-261 362,-193 541,-193 541,-261\"/>\n<text text-anchor=\"middle\" x=\"451.5\" y=\"-245.8\" font-family=\"Helvetica,sans-Serif\" font-size=\"14.00\" fill=\"#000000\">score_progress &lt;= 0.375</text>\n<text text-anchor=\"middle\" x=\"451.5\" y=\"-230.8\" font-family=\"Helvetica,sans-Serif\" font-size=\"14.00\" fill=\"#000000\">samples = 61</text>\n<text text-anchor=\"middle\" x=\"451.5\" y=\"-215.8\" font-family=\"Helvetica,sans-Serif\" font-size=\"14.00\" fill=\"#000000\">value = [22, 39]</text>\n<text text-anchor=\"middle\" x=\"451.5\" y=\"-200.8\" font-family=\"Helvetica,sans-Serif\" font-size=\"14.00\" fill=\"#000000\">class = B</text>\n</g>\n<!-- 1&#45;&gt;7 -->\n<g id=\"edge7\" class=\"edge\">\n<title>1&#45;&gt;7</title>\n<path fill=\"none\" stroke=\"#000000\" d=\"M451.5,-296.9465C451.5,-288.776 451.5,-279.9318 451.5,-271.3697\"/>\n<polygon fill=\"#000000\" stroke=\"#000000\" points=\"455.0001,-271.13 451.5,-261.13 448.0001,-271.13 455.0001,-271.13\"/>\n</g>\n<!-- 3 -->\n<g id=\"node4\" class=\"node\">\n<title>3</title>\n<polygon fill=\"#e58139\" stroke=\"#000000\" points=\"99,-149.5 0,-149.5 0,-96.5 99,-96.5 99,-149.5\"/>\n<text text-anchor=\"middle\" x=\"49.5\" y=\"-134.3\" font-family=\"Helvetica,sans-Serif\" font-size=\"14.00\" fill=\"#000000\">samples = 6</text>\n<text text-anchor=\"middle\" x=\"49.5\" y=\"-119.3\" font-family=\"Helvetica,sans-Serif\" font-size=\"14.00\" fill=\"#000000\">value = [6, 0]</text>\n<text text-anchor=\"middle\" x=\"49.5\" y=\"-104.3\" font-family=\"Helvetica,sans-Serif\" font-size=\"14.00\" fill=\"#000000\">class = A</text>\n</g>\n<!-- 2&#45;&gt;3 -->\n<g id=\"edge3\" class=\"edge\">\n<title>2&#45;&gt;3</title>\n<path fill=\"none\" stroke=\"#000000\" d=\"M154.4198,-192.9465C136.2452,-180.8301 115.848,-167.232 97.9044,-155.2696\"/>\n<polygon fill=\"#000000\" stroke=\"#000000\" points=\"99.5752,-152.177 89.3132,-149.5422 95.6923,-158.0014 99.5752,-152.177\"/>\n</g>\n<!-- 4 -->\n<g id=\"node5\" class=\"node\">\n<title>4</title>\n<polygon fill=\"#ffffff\" stroke=\"#000000\" points=\"293.5,-157 117.5,-157 117.5,-89 293.5,-89 293.5,-157\"/>\n<text text-anchor=\"middle\" x=\"205.5\" y=\"-141.8\" font-family=\"Helvetica,sans-Serif\" font-size=\"14.00\" fill=\"#000000\">score_intention &lt;= 0.375</text>\n<text text-anchor=\"middle\" x=\"205.5\" y=\"-126.8\" font-family=\"Helvetica,sans-Serif\" font-size=\"14.00\" fill=\"#000000\">samples = 8</text>\n<text text-anchor=\"middle\" x=\"205.5\" y=\"-111.8\" font-family=\"Helvetica,sans-Serif\" font-size=\"14.00\" fill=\"#000000\">value = [4, 4]</text>\n<text text-anchor=\"middle\" x=\"205.5\" y=\"-96.8\" font-family=\"Helvetica,sans-Serif\" font-size=\"14.00\" fill=\"#000000\">class = A</text>\n</g>\n<!-- 2&#45;&gt;4 -->\n<g id=\"edge4\" class=\"edge\">\n<title>2&#45;&gt;4</title>\n<path fill=\"none\" stroke=\"#000000\" d=\"M205.5,-192.9465C205.5,-184.776 205.5,-175.9318 205.5,-167.3697\"/>\n<polygon fill=\"#000000\" stroke=\"#000000\" points=\"209.0001,-167.13 205.5,-157.13 202.0001,-167.13 209.0001,-167.13\"/>\n</g>\n<!-- 5 -->\n<g id=\"node6\" class=\"node\">\n<title>5</title>\n<polygon fill=\"#9ccef2\" stroke=\"#000000\" points=\"168,-53 69,-53 69,0 168,0 168,-53\"/>\n<text text-anchor=\"middle\" x=\"118.5\" y=\"-37.8\" font-family=\"Helvetica,sans-Serif\" font-size=\"14.00\" fill=\"#000000\">samples = 3</text>\n<text text-anchor=\"middle\" x=\"118.5\" y=\"-22.8\" font-family=\"Helvetica,sans-Serif\" font-size=\"14.00\" fill=\"#000000\">value = [1, 2]</text>\n<text text-anchor=\"middle\" x=\"118.5\" y=\"-7.8\" font-family=\"Helvetica,sans-Serif\" font-size=\"14.00\" fill=\"#000000\">class = B</text>\n</g>\n<!-- 4&#45;&gt;5 -->\n<g id=\"edge5\" class=\"edge\">\n<title>4&#45;&gt;5</title>\n<path fill=\"none\" stroke=\"#000000\" d=\"M174.8271,-88.9777C166.5715,-79.8207 157.6391,-69.9129 149.3728,-60.744\"/>\n<polygon fill=\"#000000\" stroke=\"#000000\" points=\"151.9108,-58.3321 142.6152,-53.2485 146.7117,-63.0193 151.9108,-58.3321\"/>\n</g>\n<!-- 6 -->\n<g id=\"node7\" class=\"node\">\n<title>6</title>\n<polygon fill=\"#f6d5bd\" stroke=\"#000000\" points=\"285,-53 186,-53 186,0 285,0 285,-53\"/>\n<text text-anchor=\"middle\" x=\"235.5\" y=\"-37.8\" font-family=\"Helvetica,sans-Serif\" font-size=\"14.00\" fill=\"#000000\">samples = 5</text>\n<text text-anchor=\"middle\" x=\"235.5\" y=\"-22.8\" font-family=\"Helvetica,sans-Serif\" font-size=\"14.00\" fill=\"#000000\">value = [3, 2]</text>\n<text text-anchor=\"middle\" x=\"235.5\" y=\"-7.8\" font-family=\"Helvetica,sans-Serif\" font-size=\"14.00\" fill=\"#000000\">class = A</text>\n</g>\n<!-- 4&#45;&gt;6 -->\n<g id=\"edge6\" class=\"edge\">\n<title>4&#45;&gt;6</title>\n<path fill=\"none\" stroke=\"#000000\" d=\"M216.0769,-88.9777C218.6959,-80.5533 221.5124,-71.4934 224.1659,-62.9579\"/>\n<polygon fill=\"#000000\" stroke=\"#000000\" points=\"227.5579,-63.8367 227.1844,-53.2485 220.8735,-61.7586 227.5579,-63.8367\"/>\n</g>\n<!-- 8 -->\n<g id=\"node9\" class=\"node\">\n<title>8</title>\n<polygon fill=\"#399de5\" stroke=\"#000000\" points=\"411,-149.5 312,-149.5 312,-96.5 411,-96.5 411,-149.5\"/>\n<text text-anchor=\"middle\" x=\"361.5\" y=\"-134.3\" font-family=\"Helvetica,sans-Serif\" font-size=\"14.00\" fill=\"#000000\">samples = 7</text>\n<text text-anchor=\"middle\" x=\"361.5\" y=\"-119.3\" font-family=\"Helvetica,sans-Serif\" font-size=\"14.00\" fill=\"#000000\">value = [0, 7]</text>\n<text text-anchor=\"middle\" x=\"361.5\" y=\"-104.3\" font-family=\"Helvetica,sans-Serif\" font-size=\"14.00\" fill=\"#000000\">class = B</text>\n</g>\n<!-- 7&#45;&gt;8 -->\n<g id=\"edge8\" class=\"edge\">\n<title>7&#45;&gt;8</title>\n<path fill=\"none\" stroke=\"#000000\" d=\"M422.0306,-192.9465C412.1172,-181.491 401.0576,-168.711 391.1318,-157.2412\"/>\n<polygon fill=\"#000000\" stroke=\"#000000\" points=\"393.6596,-154.8135 384.4692,-149.5422 388.3664,-159.3942 393.6596,-154.8135\"/>\n</g>\n<!-- 9 -->\n<g id=\"node10\" class=\"node\">\n<title>9</title>\n<polygon fill=\"#c1e0f7\" stroke=\"#000000\" points=\"605.5,-157 429.5,-157 429.5,-89 605.5,-89 605.5,-157\"/>\n<text text-anchor=\"middle\" x=\"517.5\" y=\"-141.8\" font-family=\"Helvetica,sans-Serif\" font-size=\"14.00\" fill=\"#000000\">score_intention &lt;= 0.375</text>\n<text text-anchor=\"middle\" x=\"517.5\" y=\"-126.8\" font-family=\"Helvetica,sans-Serif\" font-size=\"14.00\" fill=\"#000000\">samples = 54</text>\n<text text-anchor=\"middle\" x=\"517.5\" y=\"-111.8\" font-family=\"Helvetica,sans-Serif\" font-size=\"14.00\" fill=\"#000000\">value = [22, 32]</text>\n<text text-anchor=\"middle\" x=\"517.5\" y=\"-96.8\" font-family=\"Helvetica,sans-Serif\" font-size=\"14.00\" fill=\"#000000\">class = B</text>\n</g>\n<!-- 7&#45;&gt;9 -->\n<g id=\"edge9\" class=\"edge\">\n<title>7&#45;&gt;9</title>\n<path fill=\"none\" stroke=\"#000000\" d=\"M473.1109,-192.9465C478.6378,-184.2373 484.6506,-174.7626 490.4146,-165.6801\"/>\n<polygon fill=\"#000000\" stroke=\"#000000\" points=\"493.4374,-167.4487 495.8406,-157.13 487.5271,-163.6979 493.4374,-167.4487\"/>\n</g>\n<!-- 10 -->\n<g id=\"node11\" class=\"node\">\n<title>10</title>\n<polygon fill=\"#f2c09c\" stroke=\"#000000\" points=\"441,-53 334,-53 334,0 441,0 441,-53\"/>\n<text text-anchor=\"middle\" x=\"387.5\" y=\"-37.8\" font-family=\"Helvetica,sans-Serif\" font-size=\"14.00\" fill=\"#000000\">samples = 15</text>\n<text text-anchor=\"middle\" x=\"387.5\" y=\"-22.8\" font-family=\"Helvetica,sans-Serif\" font-size=\"14.00\" fill=\"#000000\">value = [10, 5]</text>\n<text text-anchor=\"middle\" x=\"387.5\" y=\"-7.8\" font-family=\"Helvetica,sans-Serif\" font-size=\"14.00\" fill=\"#000000\">class = A</text>\n</g>\n<!-- 9&#45;&gt;10 -->\n<g id=\"edge10\" class=\"edge\">\n<title>9&#45;&gt;10</title>\n<path fill=\"none\" stroke=\"#000000\" d=\"M471.6669,-88.9777C458.7143,-79.3629 444.6465,-68.9203 431.7867,-59.3743\"/>\n<polygon fill=\"#000000\" stroke=\"#000000\" points=\"433.6499,-56.3986 423.5342,-53.2485 429.4776,-62.0193 433.6499,-56.3986\"/>\n</g>\n<!-- 11 -->\n<g id=\"node12\" class=\"node\">\n<title>11</title>\n<polygon fill=\"#91c9f1\" stroke=\"#000000\" points=\"575.5,-53 459.5,-53 459.5,0 575.5,0 575.5,-53\"/>\n<text text-anchor=\"middle\" x=\"517.5\" y=\"-37.8\" font-family=\"Helvetica,sans-Serif\" font-size=\"14.00\" fill=\"#000000\">samples = 39</text>\n<text text-anchor=\"middle\" x=\"517.5\" y=\"-22.8\" font-family=\"Helvetica,sans-Serif\" font-size=\"14.00\" fill=\"#000000\">value = [12, 27]</text>\n<text text-anchor=\"middle\" x=\"517.5\" y=\"-7.8\" font-family=\"Helvetica,sans-Serif\" font-size=\"14.00\" fill=\"#000000\">class = B</text>\n</g>\n<!-- 9&#45;&gt;11 -->\n<g id=\"edge11\" class=\"edge\">\n<title>9&#45;&gt;11</title>\n<path fill=\"none\" stroke=\"#000000\" d=\"M517.5,-88.9777C517.5,-80.7364 517.5,-71.887 517.5,-63.5153\"/>\n<polygon fill=\"#000000\" stroke=\"#000000\" points=\"521.0001,-63.2484 517.5,-53.2485 514.0001,-63.2485 521.0001,-63.2484\"/>\n</g>\n<!-- 13 -->\n<g id=\"node14\" class=\"node\">\n<title>13</title>\n<polygon fill=\"#9ccef2\" stroke=\"#000000\" points=\"872.5,-261 764.5,-261 764.5,-193 872.5,-193 872.5,-261\"/>\n<text text-anchor=\"middle\" x=\"818.5\" y=\"-245.8\" font-family=\"Helvetica,sans-Serif\" font-size=\"14.00\" fill=\"#000000\">income &lt;= 0.5</text>\n<text text-anchor=\"middle\" x=\"818.5\" y=\"-230.8\" font-family=\"Helvetica,sans-Serif\" font-size=\"14.00\" fill=\"#000000\">samples = 18</text>\n<text text-anchor=\"middle\" x=\"818.5\" y=\"-215.8\" font-family=\"Helvetica,sans-Serif\" font-size=\"14.00\" fill=\"#000000\">value = [6, 12]</text>\n<text text-anchor=\"middle\" x=\"818.5\" y=\"-200.8\" font-family=\"Helvetica,sans-Serif\" font-size=\"14.00\" fill=\"#000000\">class = B</text>\n</g>\n<!-- 12&#45;&gt;13 -->\n<g id=\"edge13\" class=\"edge\">\n<title>12&#45;&gt;13</title>\n<path fill=\"none\" stroke=\"#000000\" d=\"M818.5,-296.9465C818.5,-288.776 818.5,-279.9318 818.5,-271.3697\"/>\n<polygon fill=\"#000000\" stroke=\"#000000\" points=\"822.0001,-271.13 818.5,-261.13 815.0001,-271.13 822.0001,-271.13\"/>\n</g>\n<!-- 20 -->\n<g id=\"node21\" class=\"node\">\n<title>20</title>\n<polygon fill=\"#5dafea\" stroke=\"#000000\" points=\"1169.5,-261 1053.5,-261 1053.5,-193 1169.5,-193 1169.5,-261\"/>\n<text text-anchor=\"middle\" x=\"1111.5\" y=\"-245.8\" font-family=\"Helvetica,sans-Serif\" font-size=\"14.00\" fill=\"#000000\">edu &lt;= 0.75</text>\n<text text-anchor=\"middle\" x=\"1111.5\" y=\"-230.8\" font-family=\"Helvetica,sans-Serif\" font-size=\"14.00\" fill=\"#000000\">samples = 65</text>\n<text text-anchor=\"middle\" x=\"1111.5\" y=\"-215.8\" font-family=\"Helvetica,sans-Serif\" font-size=\"14.00\" fill=\"#000000\">value = [10, 55]</text>\n<text text-anchor=\"middle\" x=\"1111.5\" y=\"-200.8\" font-family=\"Helvetica,sans-Serif\" font-size=\"14.00\" fill=\"#000000\">class = B</text>\n</g>\n<!-- 12&#45;&gt;20 -->\n<g id=\"edge20\" class=\"edge\">\n<title>12&#45;&gt;20</title>\n<path fill=\"none\" stroke=\"#000000\" d=\"M906.807,-299.6555C950.7972,-284.0413 1003.1463,-265.46 1043.8924,-250.9972\"/>\n<polygon fill=\"#000000\" stroke=\"#000000\" points=\"1045.2049,-254.2454 1053.4581,-247.6019 1042.8633,-247.6486 1045.2049,-254.2454\"/>\n</g>\n<!-- 14 -->\n<g id=\"node15\" class=\"node\">\n<title>14</title>\n<polygon fill=\"#f8e0ce\" stroke=\"#000000\" points=\"790,-157 691,-157 691,-89 790,-89 790,-157\"/>\n<text text-anchor=\"middle\" x=\"740.5\" y=\"-141.8\" font-family=\"Helvetica,sans-Serif\" font-size=\"14.00\" fill=\"#000000\">edu &lt;= 0.25</text>\n<text text-anchor=\"middle\" x=\"740.5\" y=\"-126.8\" font-family=\"Helvetica,sans-Serif\" font-size=\"14.00\" fill=\"#000000\">samples = 7</text>\n<text text-anchor=\"middle\" x=\"740.5\" y=\"-111.8\" font-family=\"Helvetica,sans-Serif\" font-size=\"14.00\" fill=\"#000000\">value = [4, 3]</text>\n<text text-anchor=\"middle\" x=\"740.5\" y=\"-96.8\" font-family=\"Helvetica,sans-Serif\" font-size=\"14.00\" fill=\"#000000\">class = A</text>\n</g>\n<!-- 13&#45;&gt;14 -->\n<g id=\"edge14\" class=\"edge\">\n<title>13&#45;&gt;14</title>\n<path fill=\"none\" stroke=\"#000000\" d=\"M792.9599,-192.9465C786.3607,-184.1475 779.1754,-174.5672 772.2995,-165.3993\"/>\n<polygon fill=\"#000000\" stroke=\"#000000\" points=\"774.8975,-163.03 766.0975,-157.13 769.2975,-167.23 774.8975,-163.03\"/>\n</g>\n<!-- 17 -->\n<g id=\"node18\" class=\"node\">\n<title>17</title>\n<polygon fill=\"#65b3eb\" stroke=\"#000000\" points=\"987,-157 808,-157 808,-89 987,-89 987,-157\"/>\n<text text-anchor=\"middle\" x=\"897.5\" y=\"-141.8\" font-family=\"Helvetica,sans-Serif\" font-size=\"14.00\" fill=\"#000000\">score_progress &lt;= 0.375</text>\n<text text-anchor=\"middle\" x=\"897.5\" y=\"-126.8\" font-family=\"Helvetica,sans-Serif\" font-size=\"14.00\" fill=\"#000000\">samples = 11</text>\n<text text-anchor=\"middle\" x=\"897.5\" y=\"-111.8\" font-family=\"Helvetica,sans-Serif\" font-size=\"14.00\" fill=\"#000000\">value = [2, 9]</text>\n<text text-anchor=\"middle\" x=\"897.5\" y=\"-96.8\" font-family=\"Helvetica,sans-Serif\" font-size=\"14.00\" fill=\"#000000\">class = B</text>\n</g>\n<!-- 13&#45;&gt;17 -->\n<g id=\"edge17\" class=\"edge\">\n<title>13&#45;&gt;17</title>\n<path fill=\"none\" stroke=\"#000000\" d=\"M844.3676,-192.9465C851.1196,-184.0578 858.4774,-174.3716 865.5059,-165.1188\"/>\n<polygon fill=\"#000000\" stroke=\"#000000\" points=\"868.3125,-167.2102 871.5743,-157.13 862.7383,-162.976 868.3125,-167.2102\"/>\n</g>\n<!-- 15 -->\n<g id=\"node16\" class=\"node\">\n<title>15</title>\n<polygon fill=\"#eeab7b\" stroke=\"#000000\" points=\"693,-53 594,-53 594,0 693,0 693,-53\"/>\n<text text-anchor=\"middle\" x=\"643.5\" y=\"-37.8\" font-family=\"Helvetica,sans-Serif\" font-size=\"14.00\" fill=\"#000000\">samples = 4</text>\n<text text-anchor=\"middle\" x=\"643.5\" y=\"-22.8\" font-family=\"Helvetica,sans-Serif\" font-size=\"14.00\" fill=\"#000000\">value = [3, 1]</text>\n<text text-anchor=\"middle\" x=\"643.5\" y=\"-7.8\" font-family=\"Helvetica,sans-Serif\" font-size=\"14.00\" fill=\"#000000\">class = A</text>\n</g>\n<!-- 14&#45;&gt;15 -->\n<g id=\"edge15\" class=\"edge\">\n<title>14&#45;&gt;15</title>\n<path fill=\"none\" stroke=\"#000000\" d=\"M706.3014,-88.9777C697.005,-79.7292 686.9386,-69.7147 677.6451,-60.4691\"/>\n<polygon fill=\"#000000\" stroke=\"#000000\" points=\"679.9449,-57.82 670.3871,-53.2485 675.0079,-62.7825 679.9449,-57.82\"/>\n</g>\n<!-- 16 -->\n<g id=\"node17\" class=\"node\">\n<title>16</title>\n<polygon fill=\"#9ccef2\" stroke=\"#000000\" points=\"810,-53 711,-53 711,0 810,0 810,-53\"/>\n<text text-anchor=\"middle\" x=\"760.5\" y=\"-37.8\" font-family=\"Helvetica,sans-Serif\" font-size=\"14.00\" fill=\"#000000\">samples = 3</text>\n<text text-anchor=\"middle\" x=\"760.5\" y=\"-22.8\" font-family=\"Helvetica,sans-Serif\" font-size=\"14.00\" fill=\"#000000\">value = [1, 2]</text>\n<text text-anchor=\"middle\" x=\"760.5\" y=\"-7.8\" font-family=\"Helvetica,sans-Serif\" font-size=\"14.00\" fill=\"#000000\">class = B</text>\n</g>\n<!-- 14&#45;&gt;16 -->\n<g id=\"edge16\" class=\"edge\">\n<title>14&#45;&gt;16</title>\n<path fill=\"none\" stroke=\"#000000\" d=\"M747.5513,-88.9777C749.2783,-80.6449 751.1341,-71.6903 752.8862,-63.2364\"/>\n<polygon fill=\"#000000\" stroke=\"#000000\" points=\"756.354,-63.7507 754.9563,-53.2485 749.4996,-62.3301 756.354,-63.7507\"/>\n</g>\n<!-- 18 -->\n<g id=\"node19\" class=\"node\">\n<title>18</title>\n<polygon fill=\"#399de5\" stroke=\"#000000\" points=\"927,-53 828,-53 828,0 927,0 927,-53\"/>\n<text text-anchor=\"middle\" x=\"877.5\" y=\"-37.8\" font-family=\"Helvetica,sans-Serif\" font-size=\"14.00\" fill=\"#000000\">samples = 5</text>\n<text text-anchor=\"middle\" x=\"877.5\" y=\"-22.8\" font-family=\"Helvetica,sans-Serif\" font-size=\"14.00\" fill=\"#000000\">value = [0, 5]</text>\n<text text-anchor=\"middle\" x=\"877.5\" y=\"-7.8\" font-family=\"Helvetica,sans-Serif\" font-size=\"14.00\" fill=\"#000000\">class = B</text>\n</g>\n<!-- 17&#45;&gt;18 -->\n<g id=\"edge18\" class=\"edge\">\n<title>17&#45;&gt;18</title>\n<path fill=\"none\" stroke=\"#000000\" d=\"M890.4487,-88.9777C888.7217,-80.6449 886.8659,-71.6903 885.1138,-63.2364\"/>\n<polygon fill=\"#000000\" stroke=\"#000000\" points=\"888.5004,-62.3301 883.0437,-53.2485 881.646,-63.7507 888.5004,-62.3301\"/>\n</g>\n<!-- 19 -->\n<g id=\"node20\" class=\"node\">\n<title>19</title>\n<polygon fill=\"#9ccef2\" stroke=\"#000000\" points=\"1044,-53 945,-53 945,0 1044,0 1044,-53\"/>\n<text text-anchor=\"middle\" x=\"994.5\" y=\"-37.8\" font-family=\"Helvetica,sans-Serif\" font-size=\"14.00\" fill=\"#000000\">samples = 6</text>\n<text text-anchor=\"middle\" x=\"994.5\" y=\"-22.8\" font-family=\"Helvetica,sans-Serif\" font-size=\"14.00\" fill=\"#000000\">value = [2, 4]</text>\n<text text-anchor=\"middle\" x=\"994.5\" y=\"-7.8\" font-family=\"Helvetica,sans-Serif\" font-size=\"14.00\" fill=\"#000000\">class = B</text>\n</g>\n<!-- 17&#45;&gt;19 -->\n<g id=\"edge19\" class=\"edge\">\n<title>17&#45;&gt;19</title>\n<path fill=\"none\" stroke=\"#000000\" d=\"M931.6986,-88.9777C940.995,-79.7292 951.0614,-69.7147 960.3549,-60.4691\"/>\n<polygon fill=\"#000000\" stroke=\"#000000\" points=\"962.9921,-62.7825 967.6129,-53.2485 958.0551,-57.82 962.9921,-62.7825\"/>\n</g>\n<!-- 21 -->\n<g id=\"node22\" class=\"node\">\n<title>21</title>\n<polygon fill=\"#6ab6ec\" stroke=\"#000000\" points=\"1174,-157 1049,-157 1049,-89 1174,-89 1174,-157\"/>\n<text text-anchor=\"middle\" x=\"1111.5\" y=\"-141.8\" font-family=\"Helvetica,sans-Serif\" font-size=\"14.00\" fill=\"#000000\">income &lt;= 0.167</text>\n<text text-anchor=\"middle\" x=\"1111.5\" y=\"-126.8\" font-family=\"Helvetica,sans-Serif\" font-size=\"14.00\" fill=\"#000000\">samples = 50</text>\n<text text-anchor=\"middle\" x=\"1111.5\" y=\"-111.8\" font-family=\"Helvetica,sans-Serif\" font-size=\"14.00\" fill=\"#000000\">value = [10, 40]</text>\n<text text-anchor=\"middle\" x=\"1111.5\" y=\"-96.8\" font-family=\"Helvetica,sans-Serif\" font-size=\"14.00\" fill=\"#000000\">class = B</text>\n</g>\n<!-- 20&#45;&gt;21 -->\n<g id=\"edge21\" class=\"edge\">\n<title>20&#45;&gt;21</title>\n<path fill=\"none\" stroke=\"#000000\" d=\"M1111.5,-192.9465C1111.5,-184.776 1111.5,-175.9318 1111.5,-167.3697\"/>\n<polygon fill=\"#000000\" stroke=\"#000000\" points=\"1115.0001,-167.13 1111.5,-157.13 1108.0001,-167.13 1115.0001,-167.13\"/>\n</g>\n<!-- 24 -->\n<g id=\"node25\" class=\"node\">\n<title>24</title>\n<polygon fill=\"#399de5\" stroke=\"#000000\" points=\"1299,-149.5 1192,-149.5 1192,-96.5 1299,-96.5 1299,-149.5\"/>\n<text text-anchor=\"middle\" x=\"1245.5\" y=\"-134.3\" font-family=\"Helvetica,sans-Serif\" font-size=\"14.00\" fill=\"#000000\">samples = 15</text>\n<text text-anchor=\"middle\" x=\"1245.5\" y=\"-119.3\" font-family=\"Helvetica,sans-Serif\" font-size=\"14.00\" fill=\"#000000\">value = [0, 15]</text>\n<text text-anchor=\"middle\" x=\"1245.5\" y=\"-104.3\" font-family=\"Helvetica,sans-Serif\" font-size=\"14.00\" fill=\"#000000\">class = B</text>\n</g>\n<!-- 20&#45;&gt;24 -->\n<g id=\"edge24\" class=\"edge\">\n<title>20&#45;&gt;24</title>\n<path fill=\"none\" stroke=\"#000000\" d=\"M1155.3766,-192.9465C1170.7043,-181.0504 1187.8723,-167.726 1203.0791,-155.9237\"/>\n<polygon fill=\"#000000\" stroke=\"#000000\" points=\"1205.5475,-158.4384 1211.3014,-149.5422 1201.2556,-152.9085 1205.5475,-158.4384\"/>\n</g>\n<!-- 22 -->\n<g id=\"node23\" class=\"node\">\n<title>22</title>\n<polygon fill=\"#399de5\" stroke=\"#000000\" points=\"1161,-53 1062,-53 1062,0 1161,0 1161,-53\"/>\n<text text-anchor=\"middle\" x=\"1111.5\" y=\"-37.8\" font-family=\"Helvetica,sans-Serif\" font-size=\"14.00\" fill=\"#000000\">samples = 9</text>\n<text text-anchor=\"middle\" x=\"1111.5\" y=\"-22.8\" font-family=\"Helvetica,sans-Serif\" font-size=\"14.00\" fill=\"#000000\">value = [0, 9]</text>\n<text text-anchor=\"middle\" x=\"1111.5\" y=\"-7.8\" font-family=\"Helvetica,sans-Serif\" font-size=\"14.00\" fill=\"#000000\">class = B</text>\n</g>\n<!-- 21&#45;&gt;22 -->\n<g id=\"edge22\" class=\"edge\">\n<title>21&#45;&gt;22</title>\n<path fill=\"none\" stroke=\"#000000\" d=\"M1111.5,-88.9777C1111.5,-80.7364 1111.5,-71.887 1111.5,-63.5153\"/>\n<polygon fill=\"#000000\" stroke=\"#000000\" points=\"1115.0001,-63.2484 1111.5,-53.2485 1108.0001,-63.2485 1115.0001,-63.2484\"/>\n</g>\n<!-- 23 -->\n<g id=\"node24\" class=\"node\">\n<title>23</title>\n<polygon fill=\"#79bded\" stroke=\"#000000\" points=\"1295.5,-53 1179.5,-53 1179.5,0 1295.5,0 1295.5,-53\"/>\n<text text-anchor=\"middle\" x=\"1237.5\" y=\"-37.8\" font-family=\"Helvetica,sans-Serif\" font-size=\"14.00\" fill=\"#000000\">samples = 41</text>\n<text text-anchor=\"middle\" x=\"1237.5\" y=\"-22.8\" font-family=\"Helvetica,sans-Serif\" font-size=\"14.00\" fill=\"#000000\">value = [10, 31]</text>\n<text text-anchor=\"middle\" x=\"1237.5\" y=\"-7.8\" font-family=\"Helvetica,sans-Serif\" font-size=\"14.00\" fill=\"#000000\">class = B</text>\n</g>\n<!-- 21&#45;&gt;23 -->\n<g id=\"edge23\" class=\"edge\">\n<title>21&#45;&gt;23</title>\n<path fill=\"none\" stroke=\"#000000\" d=\"M1155.9229,-88.9777C1168.477,-79.3629 1182.1119,-68.9203 1194.576,-59.3743\"/>\n<polygon fill=\"#000000\" stroke=\"#000000\" points=\"1196.7635,-62.1076 1202.5745,-53.2485 1192.5073,-56.5502 1196.7635,-62.1076\"/>\n</g>\n</g>\n</svg>\n"
          },
          "metadata": {}
        }
      ]
    },
    {
      "cell_type": "code",
      "source": [
        "print(\"특성 중요도:\\n{}\".format(tree1.feature_importances_))"
      ],
      "metadata": {
        "colab": {
          "base_uri": "https://localhost:8080/"
        },
        "id": "Yh6FM6KNNXIQ",
        "outputId": "fb2558e2-225d-4911-c18d-5c122a5b254f"
      },
      "execution_count": 115,
      "outputs": [
        {
          "output_type": "stream",
          "name": "stdout",
          "text": [
            "특성 중요도:\n",
            "[0.         0.08929452 0.         0.         0.         0.\n",
            " 0.         0.0790867  0.11338358 0.22454216 0.14834275 0.13871857\n",
            " 0.20663172]\n"
          ]
        }
      ]
    },
    {
      "cell_type": "code",
      "source": [
        "def plot_feature_importances_tree(model):\n",
        "    n_features = X.shape[1]\n",
        "    plt.barh(range(n_features), model.feature_importances_, align='center')\n",
        "    plt.yticks(np.arange(n_features), X.columns)\n",
        "    plt.xlabel(\"Importance\")\n",
        "    plt.ylabel(\"Features\")\n",
        "    plt.ylim(-1, n_features)\n",
        "\n",
        "plot_feature_importances_tree(tree1)"
      ],
      "metadata": {
        "colab": {
          "base_uri": "https://localhost:8080/",
          "height": 279
        },
        "id": "uEpS9ocvOWJa",
        "outputId": "287bc982-c38e-47ba-d0dd-27959dabbb52"
      },
      "execution_count": 117,
      "outputs": [
        {
          "output_type": "display_data",
          "data": {
            "text/plain": [
              "<Figure size 432x288 with 1 Axes>"
            ],
            "image/png": "[encoded data removed]"
          },
          "metadata": {
            "needs_background": "light"
          }
        }
      ]
    },
    {
      "cell_type": "code",
      "source": [
        "pred1_train=tree.predict(X1_train)\n",
        "confusion1_train=confusion_matrix(y1_train, pred1_train)\n",
        "print(\"훈련데이터 오차행렬:\\n\", confusion1_train)"
      ],
      "metadata": {
        "colab": {
          "base_uri": "https://localhost:8080/"
        },
        "id": "vmEaJJOROWGe",
        "outputId": "56ea3044-5bfd-42d3-fd09-6cd14dde53d1"
      },
      "execution_count": 120,
      "outputs": [
        {
          "output_type": "stream",
          "name": "stdout",
          "text": [
            "훈련데이터 오차행렬:\n",
            " [[ 0  0  0  0  0]\n",
            " [ 2 35  0  0  0]\n",
            " [ 9 28  0  0  0]\n",
            " [ 3 16  0  0  0]\n",
            " [16 49  0  0  0]]\n"
          ]
        }
      ]
    },
    {
      "cell_type": "code",
      "source": [
        "pred1_test=tree1.predict(X1_test)\n",
        "confusion1_test=confusion_matrix(y1_test, pred1_test)\n",
        "print(\"테스트 데이터 오차행렬:\\n\", confusion1_test)"
      ],
      "metadata": {
        "colab": {
          "base_uri": "https://localhost:8080/"
        },
        "id": "M1HLNCrHRjDE",
        "outputId": "533be9b1-36d4-445a-a00e-7513898e5c5e"
      },
      "execution_count": 119,
      "outputs": [
        {
          "output_type": "stream",
          "name": "stdout",
          "text": [
            "테스트 데이터 오차행렬:\n",
            " [[ 8  1  0  4]\n",
            " [ 0 10  0  6]\n",
            " [ 3  0  0  3]\n",
            " [ 3  2  0 13]]\n"
          ]
        }
      ]
    },
    {
      "cell_type": "code",
      "source": [
        "f1=f1_score(y1_test, pred1_test, average=\"micro\" )\n",
        "f2=f1_score(y1_test, pred1_test, average=\"macro\" )\n",
        "print(\"micro f1 score:\\n\", f1)\n",
        "print(\"macro f1 score:\\n\", f2)"
      ],
      "metadata": {
        "colab": {
          "base_uri": "https://localhost:8080/"
        },
        "id": "ynRa1zNgRi_M",
        "outputId": "36aba21c-ea0d-43c2-bd5b-13af77452e14"
      },
      "execution_count": 121,
      "outputs": [
        {
          "output_type": "stream",
          "name": "stdout",
          "text": [
            "micro f1 score:\n",
            " 0.5849056603773585\n",
            "macro f1 score:\n",
            " 0.46828921397886913\n"
          ]
        }
      ]
    },
    {
      "cell_type": "code",
      "source": [
        "cfreport=classification_report(y1_test, pred1_test)\n",
        "print(\"분류예측 레포트:\\n\", cfreport)"
      ],
      "metadata": {
        "colab": {
          "base_uri": "https://localhost:8080/"
        },
        "id": "McZ6wSmqRi7t",
        "outputId": "f6fbc1a3-2e0f-4ca3-b0b5-80f15ff1250f"
      },
      "execution_count": 122,
      "outputs": [
        {
          "output_type": "stream",
          "name": "stdout",
          "text": [
            "분류예측 레포트:\n",
            "               precision    recall  f1-score   support\n",
            "\n",
            "           1       0.57      0.62      0.59        13\n",
            "           2       0.77      0.62      0.69        16\n",
            "           3       0.00      0.00      0.00         6\n",
            "           4       0.50      0.72      0.59        18\n",
            "\n",
            "    accuracy                           0.58        53\n",
            "   macro avg       0.46      0.49      0.47        53\n",
            "weighted avg       0.54      0.58      0.55        53\n",
            "\n"
          ]
        }
      ]
    }
  ]
}