{
  "nbformat": 4,
  "nbformat_minor": 0,
  "metadata": {
    "colab": {
      "provenance": [],
      "authorship_tag": "ABX9TyOXUTnqYD+lcKGAK1UNgR1V",
      "include_colab_link": true
    },
    "kernelspec": {
      "name": "python3",
      "display_name": "Python 3"
    },
    "language_info": {
      "name": "python"
    }
  },
  "cells": [
    {
      "cell_type": "markdown",
      "metadata": {
        "id": "view-in-github",
        "colab_type": "text"
      },
      "source": [
        "<a href=\"https://colab.research.google.com/github/carlyle1233/22-2_ML/blob/main/linear_regression_%EC%8B%A4%EC%8A%B5.ipynb\" target=\"_parent\"><img src=\"https://colab.research.google.com/assets/colab-badge.svg\" alt=\"Open In Colab\"/></a>"
      ]
    },
    {
      "cell_type": "code",
      "execution_count": null,
      "metadata": {
        "id": "gttHrqk0vFdr"
      },
      "outputs": [],
      "source": [
        "# 필요한 모듈 import\n",
        "import matplotlib.pyplot as plt\n",
        "import numpy as np\n",
        "%matplotlib inline\n",
        "from sklearn import datasets\n",
        "from sklearn.linear_model import LinearRegression\n",
        "from sklearn.model_selection import train_test_split\n"
      ]
    },
    {
      "cell_type": "code",
      "source": [
        "diabetes=datasets.load_diabetes()\n",
        "diabetes_X=diabetes.data[:,np.newaxis,2]\n",
        "\n",
        "#np.newaxis: np 행렬의 차원을 확장하는 함수 \n",
        "#1D는 2D가 되고, 2D는 3D가 되고, 3D는 4D가 되고,, "
      ],
      "metadata": {
        "id": "iRYBdDmkvPZ6"
      },
      "execution_count": null,
      "outputs": []
    },
    {
      "cell_type": "code",
      "source": [
        "diabetes['data'].shape"
      ],
      "metadata": {
        "colab": {
          "base_uri": "https://localhost:8080/"
        },
        "id": "og9b-Ke7vsMW",
        "outputId": "8c4ce2de-f554-4c79-e0e7-71c9c472a0b0"
      },
      "execution_count": null,
      "outputs": [
        {
          "output_type": "execute_result",
          "data": {
            "text/plain": [
              "(442, 10)"
            ]
          },
          "metadata": {},
          "execution_count": 21
        }
      ]
    },
    {
      "cell_type": "code",
      "source": [
        "print(diabetes_X.shape)"
      ],
      "metadata": {
        "colab": {
          "base_uri": "https://localhost:8080/"
        },
        "id": "gcel27LAvPWy",
        "outputId": "7024f8e7-e375-449b-f2c2-663f483cddf8"
      },
      "execution_count": null,
      "outputs": [
        {
          "output_type": "stream",
          "name": "stdout",
          "text": [
            "(442, 1)\n"
          ]
        }
      ]
    },
    {
      "cell_type": "code",
      "source": [
        "# 훈련 세트, 테스트 세트 데이터 분리\n",
        "diabetes_X_train = diabetes_X[:-20]\n",
        "diabetes_X_test = diabetes_X[-20:]"
      ],
      "metadata": {
        "id": "mMUPXMe_0dAb"
      },
      "execution_count": null,
      "outputs": []
    },
    {
      "cell_type": "code",
      "source": [
        "\n",
        "# 훈련 세트, 테스트 세트 타겟값 분리\n",
        "diabetes_y_train = diabetes.target[:-20]\n",
        "diabetes_y_test = diabetes.target[-20:]"
      ],
      "metadata": {
        "id": "O4Abo77I0c8E"
      },
      "execution_count": null,
      "outputs": []
    },
    {
      "cell_type": "code",
      "source": [
        "\n",
        "# 선형회귀 모델 생성\n",
        "regr = LinearRegression()\n",
        "\n",
        "# 훈련 세트를 사용해서 모델 훈련\n",
        "regr.fit(diabetes_X_train, diabetes_y_train)"
      ],
      "metadata": {
        "colab": {
          "base_uri": "https://localhost:8080/"
        },
        "id": "7CDhn3rk0c4x",
        "outputId": "f19c765d-4aee-49ca-b009-70d7a693e5f4"
      },
      "execution_count": null,
      "outputs": [
        {
          "output_type": "execute_result",
          "data": {
            "text/plain": [
              "LinearRegression()"
            ]
          },
          "metadata": {},
          "execution_count": 25
        }
      ]
    },
    {
      "cell_type": "code",
      "source": [
        "\n",
        "# scikit-learn은 훈련데이터에서 유도된 속성은 항상 끝에 밑줄을 붙입니다.\n",
        "# regr.coef_, regr.intercept_ 처럼 밑줄을 붙임으로써 사용자가 지정한 변수와 구분할 수 있습니다.\n",
        "\n",
        "#계수(가중치)\n",
        "print('Coeffiecents:', regr.coef_)\n",
        "#편향(절편)\n",
        "print('Intercept:', regr.intercept_)\n",
        "#평균제곱오차(MSE)\n",
        "print(\"Mean squared error: %.2f\" %np.mean((regr.predict(diabetes_X_test)-diabetes_y_test)**2))\n",
        "#훈련데이터 성능\n",
        "print(\"TrainSet score:%.2f\" %regr.score(diabetes_X_train, diabetes_y_train))\n",
        "#테스트데이터 성능\n",
        "print(\"TestSet score:%.2f\" % regr.score(diabetes_X_test, diabetes_y_test))"
      ],
      "metadata": {
        "id": "glHLeKkc1Z3A"
      },
      "execution_count": null,
      "outputs": []
    },
    {
      "cell_type": "code",
      "source": [
        "\n",
        "\n",
        "# 계수(가중치)\n",
        "print('Coefficients: ', regr.coef_)\n",
        "\n",
        "# 편향(절편)\n",
        "print('Intercept: ', regr.intercept_)\n",
        "\n",
        "# 평균 제곱근 편차\n",
        "print(\"Mean squared error: %.2f\" % np.mean((regr.predict(diabetes_X_test) - diabetes_y_test) ** 2))\n",
        "\n",
        "# 훈련데이터 성능\n",
        "print('TrainSet score: %.2f' % regr.score(diabetes_X_train, diabetes_y_train))\n",
        "\n",
        "# 테스트데이터 성능\n",
        "print('TestSet score: %.2f' % regr.score(diabetes_X_test, diabetes_y_test))\n"
      ],
      "metadata": {
        "id": "Ve-PuW6jvPRU"
      },
      "execution_count": null,
      "outputs": []
    },
    {
      "cell_type": "code",
      "source": [
        "\n",
        "# 도표 결과\n",
        "plt.scatter(diabetes_X_test, diabetes_y_test,  color='black')\n",
        "plt.plot(diabetes_X_test, regr.predict(diabetes_X_test), color='blue',\n",
        "         linewidth=3)\n",
        "\n",
        "plt.xticks(())\n",
        "plt.yticks(())\n",
        "\n",
        "plt.show()"
      ],
      "metadata": {
        "id": "lOtXCzrIvPOd"
      },
      "execution_count": null,
      "outputs": []
    },
    {
      "cell_type": "code",
      "source": [],
      "metadata": {
        "id": "PrTMVXWVvPLN"
      },
      "execution_count": null,
      "outputs": []
    },
    {
      "cell_type": "code",
      "source": [],
      "metadata": {
        "id": "fdnJGY1qvPIO"
      },
      "execution_count": null,
      "outputs": []
    }
  ]
}