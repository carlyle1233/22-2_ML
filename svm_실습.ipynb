{
  "nbformat": 4,
  "nbformat_minor": 0,
  "metadata": {
    "colab": {
      "provenance": [],
      "authorship_tag": "ABX9TyPtaFIDkM/BxcJS/mcWGypd",
      "include_colab_link": true
    },
    "kernelspec": {
      "name": "python3",
      "display_name": "Python 3"
    },
    "language_info": {
      "name": "python"
    }
  },
  "cells": [
    {
      "cell_type": "markdown",
      "metadata": {
        "id": "view-in-github",
        "colab_type": "text"
      },
      "source": [
        "<a href=\"https://colab.research.google.com/github/carlyle1233/22-2_ML/blob/main/svm_%EC%8B%A4%EC%8A%B5.ipynb\" target=\"_parent\"><img src=\"https://colab.research.google.com/assets/colab-badge.svg\" alt=\"Open In Colab\"/></a>"
      ]
    },
    {
      "cell_type": "code",
      "execution_count": null,
      "metadata": {
        "id": "H9O7qJrv3QVp"
      },
      "outputs": [],
      "source": [
        "import numpy as np\n",
        "import matplotlib.pyplot as plt \n",
        "%matplotlib inline\n",
        "from sklearn import svm\n",
        "from sklearn.datasets import make_blobs\n",
        "\n",
        "#make_blobs: 모든 방향으로 같은 성질을 가지는 정규분포를 이용해 가상 데이터 생성 \n",
        "#클러스터링용 가상 데이터를 생성하는데 사용 "
      ]
    },
    {
      "cell_type": "markdown",
      "source": [
        "\n",
        "\n",
        "**1.  make_blobs Parameter**\n",
        "*   n_samples, n_features, centers, cluster_std, center_box\n",
        "*   n_samples: 표본데이터수, default:100\n",
        "*   n_features: 독립 변수 수, default 20\n",
        "*   centers: 클러스터 수 혹은 중심, default 3\n",
        "*   cluster_std: 클러스터 표준편차, default 1\n",
        "*   center_box: 클러스터 바운딩 박스, default(-10,10)\n",
        "\n",
        "\n",
        "**2.   반환값** \n",
        "\n",
        "*   X:[ n_samples, n_features ]크기의 배열 \n",
        "*   y: [n_samples] 크기의 배열 \n",
        "\n",
        "\n",
        "**3. SVM 주요 parameter**\n",
        "\n",
        "\n",
        "*   C(cost): 어느 정도의 오차를 허용할지에 대한 파라미터 \n",
        "\n",
        ":default는 1이며, 값이 작을수록 모델이 단순해지고, 값이 커질수록 모델이 복잡해짐.\n",
        "\n",
        ":로그스케일 단위로 최적치 탐색하는 것이 좋음 \n",
        "*  kernel: 어떤 커널 함수를 사용할지?\n",
        ":default: rbf  \n",
        "ex) linear, sigmoid, rbf, poly\n",
        "\n",
        "*   degree: 어느 차수까지 다항차수로 분류할지? 커널함수가 poly일 떄 사용됨 \n",
        "*   gamma: 곡률 경계에 대한 파라미터. rbf, poly, sigmoid 일 때 튜닝하는 값 \n",
        "\n",
        ":하나의 훈련 샘플에 미치는 영향을 의미하며, 이 값이 작으면 넓은 영역에, 크면 영역이 제한적임. \n",
        "\n",
        "*   coef(): 상수값으로써, poly, sigmoid일 때 튜닝 진행 \n",
        "\n",
        "\n",
        "\n",
        "\n",
        "\n",
        "\n"
      ],
      "metadata": {
        "id": "gOYj7MH-4xjl"
      }
    },
    {
      "cell_type": "markdown",
      "source": [
        "# **SVM**\n",
        "\n",
        ": 주어진 데이터가 어느 카테고리에 속할지 판단하는 이진 선형 분류 모델. \n",
        "\n",
        ": 데이터 크기가 중간크기 이하, 여러 변수를 기준으로 분류하는 다소 복잡한 과제에 적합한 머신러닝 기법 \n",
        "\n",
        "**Margin**\n",
        ": 점들이 포함되지 않은 영역을 최대화해서 카테고리를 분리할 수 있도록 하는 것. \n",
        "\n",
        " 즉, Margin은 구분하는 선과 서포트 벡터와의 거리를 의미한다. 또한 이렇게 두 데이터를 구분하는 선을 Decision Boundary라고 한다. \n",
        "\n",
        "**Support vector**\n",
        ": 결정 경계선에 가장 가까이 있는 각 카테고리의 데이터(점)\n",
        "\n",
        "**Robustness**\n",
        "양 옆의 서포트 벡터와의 Margin을 최대화하면, Robustness도 최대화가 된다. \n",
        "Robust하다는 것은 outlier의 영향을 받지 않는다는 뜻. \n",
        "\n",
        "1, 2, 3, 4, 5 이렇게 총 5개 데이터가 있습니다. 이 데이터의 평균은 3입니다. 중앙값도 3입니다.\n",
        "\n",
        "1, 2, 3, 4, 100으로 데이터가 바뀌었다고 합시다. 5가 100으로 바뀐 것입니다. 이제 평균은 22입니다. 중앙값은 여전히 3입니다. 평균은 100이라는 아웃라이어(outlier)의 영향을 받아서 크게 바뀌었고, 중앙값은 아웃라이어의 영향을 전혀 받지 않아 바뀌지 않았습니다. 이때 평균은 로버스트(robust)하지 않다고 하고, 중앙값은 로버스트(robust)하다고 합니다. \n",
        "\n",
        "\n",
        "https://bkshin.tistory.com/entry/%EB%A8%B8%EC%8B%A0%EB%9F%AC%EB%8B%9D-2%EC%84%9C%ED%8F%AC%ED%8A%B8-%EB%B2%A1%ED%84%B0-%EB%A8%B8%EC%8B%A0-SVM "
      ],
      "metadata": {
        "id": "bdpUVWDL6j7y"
      }
    },
    {
      "cell_type": "code",
      "source": [
        "X,y=make_blobs(n_samples=40, centers=2, random_state=20)\n",
        "\n",
        "clf = svm.SVC(kernel='linear')\n",
        "clf.fit(X,y)"
      ],
      "metadata": {
        "colab": {
          "base_uri": "https://localhost:8080/"
        },
        "id": "-j0bFrM_4ZtR",
        "outputId": "1ebc3c3c-9ebd-45f4-adcf-addffed83701"
      },
      "execution_count": null,
      "outputs": [
        {
          "output_type": "execute_result",
          "data": {
            "text/plain": [
              "SVC(kernel='linear')"
            ]
          },
          "metadata": {},
          "execution_count": 5
        }
      ]
    },
    {
      "cell_type": "code",
      "source": [
        "newData=[[3,4]]\n",
        "print(clf.predict(newData))"
      ],
      "metadata": {
        "colab": {
          "base_uri": "https://localhost:8080/"
        },
        "id": "2aR0_ZTj4ZqK",
        "outputId": "f4d2db43-b2c9-4559-ca62-fb165679a277"
      },
      "execution_count": null,
      "outputs": [
        {
          "output_type": "stream",
          "name": "stdout",
          "text": [
            "[0]\n"
          ]
        }
      ]
    },
    {
      "cell_type": "code",
      "source": [
        "#샘플 데이터 표현 \n",
        "plt.scatter(X[:,0], X[:,1], c=y, s=30, cmap=plt.cm.Paired)"
      ],
      "metadata": {
        "colab": {
          "base_uri": "https://localhost:8080/",
          "height": 283
        },
        "id": "vvdQRthI4Zmw",
        "outputId": "f19d0a87-0234-4a5d-fe1b-0af12587ff1e"
      },
      "execution_count": null,
      "outputs": [
        {
          "output_type": "execute_result",
          "data": {
            "text/plain": [
              "<matplotlib.collections.PathCollection at 0x7fc6ff441510>"
            ]
          },
          "metadata": {},
          "execution_count": 8
        },
        {
          "output_type": "display_data",
          "data": {
            "text/plain": [
              "<Figure size 432x288 with 1 Axes>"
            ],
            "image/png": "[encoded data removed]"
          },
          "metadata": {
            "needs_background": "light"
          }
        }
      ]
    },
    {
      "cell_type": "code",
      "source": [
        "ax=plt.gca()\n",
        "xlim=ax.get_xlim()\n",
        "ylim=ax.get_ylim()\n",
        "xx=np.linspace(xlim[0], xlim[1], 30)\n",
        "yy=np.linspace(ylim[0], ylim[1], 30)\n",
        "YY, XX = np.meshgrid(yy,xx)\n",
        "xy=np.vstack([XX.ravel(), YY.ravel()]).T\n",
        "\n",
        "Z = clf.decision_function(xy).reshape(XX.shape)\n",
        "ax.contour(XX, YY, Z, colors='k', levels=[-1,0,1], alpha=0.5, linestyles=['--', '-', '--'])\n",
        "\n",
        "# 지지벡터(Support Vector) 표현\n",
        "ax.scatter(clf.support_vectors_[:,0], clf.support_vectors_[:,1], s=60, facecolors='r')\n",
        "plt.show()\n"
      ],
      "metadata": {
        "colab": {
          "base_uri": "https://localhost:8080/",
          "height": 265
        },
        "id": "t_SUmfYy4ZiR",
        "outputId": "18e8aa29-d333-4c0c-87e9-e2192abe62bd"
      },
      "execution_count": null,
      "outputs": [
        {
          "output_type": "display_data",
          "data": {
            "text/plain": [
              "<Figure size 432x288 with 1 Axes>"
            ],
            "image/png": "[encoded data removed]"
          },
          "metadata": {
            "needs_background": "light"
          }
        }
      ]
    },
    {
      "cell_type": "markdown",
      "source": [
        "#1. data import and data split \n"
      ],
      "metadata": {
        "id": "be8OoM0QSaV7"
      }
    },
    {
      "cell_type": "code",
      "source": [
        "import warnings\n",
        "warnings.filterwarnings('ignore')\n",
        "import pandas as pd \n",
        "import numpy as np\n",
        "import matplotlib.pyplot as plt \n",
        "\n",
        "from sklearn.model_selection import train_test_split, GridSearchCV, RandomizedSearchCV\n",
        "from sklearn.svm import SVC \n",
        "from scipy.stats import randint \n",
        "from sklearn.metrics import confusion_matrix, f1_score, classification_report"
      ],
      "metadata": {
        "id": "ullDOlBaSeTT"
      },
      "execution_count": 16,
      "outputs": []
    },
    {
      "cell_type": "code",
      "source": [
        "from google.colab import drive \n",
        "drive.mount('/content/drive')"
      ],
      "metadata": {
        "colab": {
          "base_uri": "https://localhost:8080/"
        },
        "id": "keJ2aHN-ZKKl",
        "outputId": "d6efdc4d-fd55-496e-f1e1-4d0455e6dc22"
      },
      "execution_count": 17,
      "outputs": [
        {
          "output_type": "stream",
          "name": "stdout",
          "text": [
            "Mounted at /content/drive\n"
          ]
        }
      ]
    },
    {
      "cell_type": "code",
      "source": [
        "data=pd.read_csv('/content/drive/MyDrive/Colab Notebooks/MachineLearning/data/Fvote.csv',encoding='utf-8')"
      ],
      "metadata": {
        "id": "AxNyC7soSeQH"
      },
      "execution_count": 36,
      "outputs": []
    },
    {
      "cell_type": "code",
      "source": [
        "data.columns"
      ],
      "metadata": {
        "colab": {
          "base_uri": "https://localhost:8080/"
        },
        "id": "lHE9brWEZA_M",
        "outputId": "9812db0e-4f3a-451e-c96f-a3acb351fb7f"
      },
      "execution_count": 37,
      "outputs": [
        {
          "output_type": "execute_result",
          "data": {
            "text/plain": [
              "Index(['Unnamed: 0', 'gender_female', 'gender_male', 'region_Chungcheung',\n",
              "       'region_Honam', 'region_Others', 'region_Sudo', 'region_Youngnam',\n",
              "       'edu', 'income', 'age', 'score_gov', 'score_progress',\n",
              "       'score_intention', 'vote', 'parties'],\n",
              "      dtype='object')"
            ]
          },
          "metadata": {},
          "execution_count": 37
        }
      ]
    },
    {
      "cell_type": "code",
      "source": [
        "X=data[['gender_female', 'gender_male', 'region_Chungcheung',\n",
        "       'region_Honam', 'region_Others', 'region_Sudo', 'region_Youngnam',\n",
        "       'edu', 'income', 'age', 'score_gov', 'score_progress',\n",
        "       'score_intention']]\n",
        "y=data[['vote']]\n",
        "\n",
        "X_train, X_test, y_train, y_test=train_test_split(X,y,random_state=42)"
      ],
      "metadata": {
        "id": "2_TTSgOYZA3a"
      },
      "execution_count": 54,
      "outputs": []
    },
    {
      "cell_type": "code",
      "source": [
        "X_train.shape"
      ],
      "metadata": {
        "colab": {
          "base_uri": "https://localhost:8080/"
        },
        "id": "IqeTHQbZkoZI",
        "outputId": "618b3c8a-f40c-4111-b31a-3b90210c9a7b"
      },
      "execution_count": 55,
      "outputs": [
        {
          "output_type": "execute_result",
          "data": {
            "text/plain": [
              "(158, 13)"
            ]
          },
          "metadata": {},
          "execution_count": 55
        }
      ]
    },
    {
      "cell_type": "code",
      "source": [
        "y_train.shape"
      ],
      "metadata": {
        "colab": {
          "base_uri": "https://localhost:8080/"
        },
        "id": "NUZWaSX-ktn2",
        "outputId": "b5f6d66a-443e-4a9a-c2ae-851dd6b5ba0f"
      },
      "execution_count": 56,
      "outputs": [
        {
          "output_type": "execute_result",
          "data": {
            "text/plain": [
              "(158, 1)"
            ]
          },
          "metadata": {},
          "execution_count": 56
        }
      ]
    },
    {
      "cell_type": "markdown",
      "source": [
        "#2. Grid Search"
      ],
      "metadata": {
        "id": "o_P_b1U6SaTD"
      }
    },
    {
      "cell_type": "code",
      "source": [
        "param_grid=[{'kernel': ['rbf'], \n",
        "             'C': [0.001, 0.01, 0.1, 1, 10, 100],\n",
        "             'gamma': [0.001, 0.01, 0.1, 1, 10, 100]},\n",
        "            {'kernel':['linear'], 'C': [0.001, 0.01, 0.1, 1, 10, 100],\n",
        "             'gamma': [0.001, 0.01, 0.1, 1, 10,100]}]"
      ],
      "metadata": {
        "id": "SDVcMS4TfB7x"
      },
      "execution_count": 57,
      "outputs": []
    },
    {
      "cell_type": "code",
      "source": [
        "grid_search=GridSearchCV(SVC(), param_grid, cv=5, return_train_score=True)\n"
      ],
      "metadata": {
        "id": "JfAjlJeLfB4c"
      },
      "execution_count": 58,
      "outputs": []
    },
    {
      "cell_type": "code",
      "source": [
        "grid_search.fit(X_train, y_train)"
      ],
      "metadata": {
        "colab": {
          "base_uri": "https://localhost:8080/"
        },
        "id": "CAvWDAZJfB08",
        "outputId": "fd663ad9-88d3-4a70-e39e-f9dc4a7a7ddc"
      },
      "execution_count": 59,
      "outputs": [
        {
          "output_type": "execute_result",
          "data": {
            "text/plain": [
              "GridSearchCV(cv=5, estimator=SVC(),\n",
              "             param_grid=[{'C': [0.001, 0.01, 0.1, 1, 10, 100],\n",
              "                          'gamma': [0.001, 0.01, 0.1, 1, 10, 100],\n",
              "                          'kernel': ['rbf']},\n",
              "                         {'C': [0.001, 0.01, 0.1, 1, 10, 100],\n",
              "                          'gamma': [0.001, 0.01, 0.1, 1, 10, 100],\n",
              "                          'kernel': ['linear']}],\n",
              "             return_train_score=True)"
            ]
          },
          "metadata": {},
          "execution_count": 59
        }
      ]
    },
    {
      "cell_type": "code",
      "source": [
        "print(\"Best Parameter:{}\".format(grid_search.best_params_))\n",
        "print(\"Best Cross-validity Score: {:.3f}\".format(grid_search.best_score_))\n",
        "print(\"Test set Score:{:.3f}\".format(grid_search.score(X_test, y_test)))"
      ],
      "metadata": {
        "colab": {
          "base_uri": "https://localhost:8080/"
        },
        "id": "fsM0QdmDfByO",
        "outputId": "9069f96d-dba3-47b6-c50d-ee9ae981e28e"
      },
      "execution_count": 65,
      "outputs": [
        {
          "output_type": "stream",
          "name": "stdout",
          "text": [
            "Best Parameter:{'C': 0.001, 'gamma': 0.001, 'kernel': 'rbf'}\n",
            "Best Cross-validity Score: 0.696\n",
            "Test set Score:0.755\n"
          ]
        }
      ]
    },
    {
      "cell_type": "code",
      "source": [
        "result_grid=pd.DataFrame(grid_search.cv_results_)\n",
        "result_grid"
      ],
      "metadata": {
        "colab": {
          "base_uri": "https://localhost:8080/",
          "height": 1000
        },
        "id": "FFd0Ae2GfBvh",
        "outputId": "888605f7-55e5-4cd7-f8d3-2d13aa161682"
      },
      "execution_count": 66,
      "outputs": [
        {
          "output_type": "execute_result",
          "data": {
            "text/plain": [
              "    mean_fit_time  std_fit_time  mean_score_time  std_score_time param_C  \\\n",
              "0        0.003822      0.001452         0.003079        0.001864   0.001   \n",
              "1        0.003412      0.000531         0.002097        0.000073   0.001   \n",
              "2        0.003041      0.000057         0.001997        0.000040   0.001   \n",
              "3        0.003780      0.001321         0.002413        0.000771   0.001   \n",
              "4        0.003386      0.000229         0.002225        0.000099   0.001   \n",
              "..            ...           ...              ...             ...     ...   \n",
              "67       0.004802      0.000611         0.002135        0.000041     100   \n",
              "68       0.004736      0.000656         0.002361        0.000250     100   \n",
              "69       0.005135      0.000688         0.002195        0.000136     100   \n",
              "70       0.005477      0.002054         0.002469        0.000401     100   \n",
              "71       0.005364      0.001164         0.002297        0.000299     100   \n",
              "\n",
              "   param_gamma param_kernel                                         params  \\\n",
              "0        0.001          rbf  {'C': 0.001, 'gamma': 0.001, 'kernel': 'rbf'}   \n",
              "1         0.01          rbf   {'C': 0.001, 'gamma': 0.01, 'kernel': 'rbf'}   \n",
              "2          0.1          rbf    {'C': 0.001, 'gamma': 0.1, 'kernel': 'rbf'}   \n",
              "3            1          rbf      {'C': 0.001, 'gamma': 1, 'kernel': 'rbf'}   \n",
              "4           10          rbf     {'C': 0.001, 'gamma': 10, 'kernel': 'rbf'}   \n",
              "..         ...          ...                                            ...   \n",
              "67        0.01       linear  {'C': 100, 'gamma': 0.01, 'kernel': 'linear'}   \n",
              "68         0.1       linear   {'C': 100, 'gamma': 0.1, 'kernel': 'linear'}   \n",
              "69           1       linear     {'C': 100, 'gamma': 1, 'kernel': 'linear'}   \n",
              "70          10       linear    {'C': 100, 'gamma': 10, 'kernel': 'linear'}   \n",
              "71         100       linear   {'C': 100, 'gamma': 100, 'kernel': 'linear'}   \n",
              "\n",
              "    split0_test_score  split1_test_score  ...  mean_test_score  \\\n",
              "0              0.6875             0.6875  ...         0.696371   \n",
              "1              0.6875             0.6875  ...         0.696371   \n",
              "2              0.6875             0.6875  ...         0.696371   \n",
              "3              0.6875             0.6875  ...         0.696371   \n",
              "4              0.6875             0.6875  ...         0.696371   \n",
              "..                ...                ...  ...              ...   \n",
              "67             0.6875             0.6875  ...         0.690121   \n",
              "68             0.6875             0.6875  ...         0.690121   \n",
              "69             0.6875             0.6875  ...         0.690121   \n",
              "70             0.6875             0.6875  ...         0.690121   \n",
              "71             0.6875             0.6875  ...         0.690121   \n",
              "\n",
              "    std_test_score  rank_test_score  split0_train_score  split1_train_score  \\\n",
              "0         0.010865                1            0.698413            0.698413   \n",
              "1         0.010865                1            0.698413            0.698413   \n",
              "2         0.010865                1            0.698413            0.698413   \n",
              "3         0.010865                1            0.698413            0.698413   \n",
              "4         0.010865                1            0.698413            0.698413   \n",
              "..             ...              ...                 ...                 ...   \n",
              "67        0.019626               50            0.698413            0.698413   \n",
              "68        0.019626               50            0.698413            0.698413   \n",
              "69        0.019626               50            0.698413            0.698413   \n",
              "70        0.019626               50            0.698413            0.698413   \n",
              "71        0.019626               50            0.698413            0.698413   \n",
              "\n",
              "    split2_train_score  split3_train_score  split4_train_score  \\\n",
              "0             0.698413            0.692913            0.692913   \n",
              "1             0.698413            0.692913            0.692913   \n",
              "2             0.698413            0.692913            0.692913   \n",
              "3             0.698413            0.692913            0.692913   \n",
              "4             0.698413            0.692913            0.692913   \n",
              "..                 ...                 ...                 ...   \n",
              "67            0.706349            0.692913            0.692913   \n",
              "68            0.706349            0.692913            0.692913   \n",
              "69            0.706349            0.692913            0.692913   \n",
              "70            0.706349            0.692913            0.692913   \n",
              "71            0.706349            0.692913            0.692913   \n",
              "\n",
              "    mean_train_score  std_train_score  \n",
              "0           0.696213         0.002694  \n",
              "1           0.696213         0.002694  \n",
              "2           0.696213         0.002694  \n",
              "3           0.696213         0.002694  \n",
              "4           0.696213         0.002694  \n",
              "..               ...              ...  \n",
              "67          0.697800         0.004931  \n",
              "68          0.697800         0.004931  \n",
              "69          0.697800         0.004931  \n",
              "70          0.697800         0.004931  \n",
              "71          0.697800         0.004931  \n",
              "\n",
              "[72 rows x 23 columns]"
            ],
            "text/html": [
              "\n",
              "  <div id=\"df-181de17a-ec88-4838-b676-7f2c6243e4db\">\n",
              "    <div class=\"colab-df-container\">\n",
              "      <div>\n",
              "<style scoped>\n",
              "    .dataframe tbody tr th:only-of-type {\n",
              "        vertical-align: middle;\n",
              "    }\n",
              "\n",
              "    .dataframe tbody tr th {\n",
              "        vertical-align: top;\n",
              "    }\n",
              "\n",
              "    .dataframe thead th {\n",
              "        text-align: right;\n",
              "    }\n",
              "</style>\n",
              "<table border=\"1\" class=\"dataframe\">\n",
              "  <thead>\n",
              "    <tr style=\"text-align: right;\">\n",
              "      <th></th>\n",
              "      <th>mean_fit_time</th>\n",
              "      <th>std_fit_time</th>\n",
              "      <th>mean_score_time</th>\n",
              "      <th>std_score_time</th>\n",
              "      <th>param_C</th>\n",
              "      <th>param_gamma</th>\n",
              "      <th>param_kernel</th>\n",
              "      <th>params</th>\n",
              "      <th>split0_test_score</th>\n",
              "      <th>split1_test_score</th>\n",
              "      <th>...</th>\n",
              "      <th>mean_test_score</th>\n",
              "      <th>std_test_score</th>\n",
              "      <th>rank_test_score</th>\n",
              "      <th>split0_train_score</th>\n",
              "      <th>split1_train_score</th>\n",
              "      <th>split2_train_score</th>\n",
              "      <th>split3_train_score</th>\n",
              "      <th>split4_train_score</th>\n",
              "      <th>mean_train_score</th>\n",
              "      <th>std_train_score</th>\n",
              "    </tr>\n",
              "  </thead>\n",
              "  <tbody>\n",
              "    <tr>\n",
              "      <th>0</th>\n",
              "      <td>0.003822</td>\n",
              "      <td>0.001452</td>\n",
              "      <td>0.003079</td>\n",
              "      <td>0.001864</td>\n",
              "      <td>0.001</td>\n",
              "      <td>0.001</td>\n",
              "      <td>rbf</td>\n",
              "      <td>{'C': 0.001, 'gamma': 0.001, 'kernel': 'rbf'}</td>\n",
              "      <td>0.6875</td>\n",
              "      <td>0.6875</td>\n",
              "      <td>...</td>\n",
              "      <td>0.696371</td>\n",
              "      <td>0.010865</td>\n",
              "      <td>1</td>\n",
              "      <td>0.698413</td>\n",
              "      <td>0.698413</td>\n",
              "      <td>0.698413</td>\n",
              "      <td>0.692913</td>\n",
              "      <td>0.692913</td>\n",
              "      <td>0.696213</td>\n",
              "      <td>0.002694</td>\n",
              "    </tr>\n",
              "    <tr>\n",
              "      <th>1</th>\n",
              "      <td>0.003412</td>\n",
              "      <td>0.000531</td>\n",
              "      <td>0.002097</td>\n",
              "      <td>0.000073</td>\n",
              "      <td>0.001</td>\n",
              "      <td>0.01</td>\n",
              "      <td>rbf</td>\n",
              "      <td>{'C': 0.001, 'gamma': 0.01, 'kernel': 'rbf'}</td>\n",
              "      <td>0.6875</td>\n",
              "      <td>0.6875</td>\n",
              "      <td>...</td>\n",
              "      <td>0.696371</td>\n",
              "      <td>0.010865</td>\n",
              "      <td>1</td>\n",
              "      <td>0.698413</td>\n",
              "      <td>0.698413</td>\n",
              "      <td>0.698413</td>\n",
              "      <td>0.692913</td>\n",
              "      <td>0.692913</td>\n",
              "      <td>0.696213</td>\n",
              "      <td>0.002694</td>\n",
              "    </tr>\n",
              "    <tr>\n",
              "      <th>2</th>\n",
              "      <td>0.003041</td>\n",
              "      <td>0.000057</td>\n",
              "      <td>0.001997</td>\n",
              "      <td>0.000040</td>\n",
              "      <td>0.001</td>\n",
              "      <td>0.1</td>\n",
              "      <td>rbf</td>\n",
              "      <td>{'C': 0.001, 'gamma': 0.1, 'kernel': 'rbf'}</td>\n",
              "      <td>0.6875</td>\n",
              "      <td>0.6875</td>\n",
              "      <td>...</td>\n",
              "      <td>0.696371</td>\n",
              "      <td>0.010865</td>\n",
              "      <td>1</td>\n",
              "      <td>0.698413</td>\n",
              "      <td>0.698413</td>\n",
              "      <td>0.698413</td>\n",
              "      <td>0.692913</td>\n",
              "      <td>0.692913</td>\n",
              "      <td>0.696213</td>\n",
              "      <td>0.002694</td>\n",
              "    </tr>\n",
              "    <tr>\n",
              "      <th>3</th>\n",
              "      <td>0.003780</td>\n",
              "      <td>0.001321</td>\n",
              "      <td>0.002413</td>\n",
              "      <td>0.000771</td>\n",
              "      <td>0.001</td>\n",
              "      <td>1</td>\n",
              "      <td>rbf</td>\n",
              "      <td>{'C': 0.001, 'gamma': 1, 'kernel': 'rbf'}</td>\n",
              "      <td>0.6875</td>\n",
              "      <td>0.6875</td>\n",
              "      <td>...</td>\n",
              "      <td>0.696371</td>\n",
              "      <td>0.010865</td>\n",
              "      <td>1</td>\n",
              "      <td>0.698413</td>\n",
              "      <td>0.698413</td>\n",
              "      <td>0.698413</td>\n",
              "      <td>0.692913</td>\n",
              "      <td>0.692913</td>\n",
              "      <td>0.696213</td>\n",
              "      <td>0.002694</td>\n",
              "    </tr>\n",
              "    <tr>\n",
              "      <th>4</th>\n",
              "      <td>0.003386</td>\n",
              "      <td>0.000229</td>\n",
              "      <td>0.002225</td>\n",
              "      <td>0.000099</td>\n",
              "      <td>0.001</td>\n",
              "      <td>10</td>\n",
              "      <td>rbf</td>\n",
              "      <td>{'C': 0.001, 'gamma': 10, 'kernel': 'rbf'}</td>\n",
              "      <td>0.6875</td>\n",
              "      <td>0.6875</td>\n",
              "      <td>...</td>\n",
              "      <td>0.696371</td>\n",
              "      <td>0.010865</td>\n",
              "      <td>1</td>\n",
              "      <td>0.698413</td>\n",
              "      <td>0.698413</td>\n",
              "      <td>0.698413</td>\n",
              "      <td>0.692913</td>\n",
              "      <td>0.692913</td>\n",
              "      <td>0.696213</td>\n",
              "      <td>0.002694</td>\n",
              "    </tr>\n",
              "    <tr>\n",
              "      <th>...</th>\n",
              "      <td>...</td>\n",
              "      <td>...</td>\n",
              "      <td>...</td>\n",
              "      <td>...</td>\n",
              "      <td>...</td>\n",
              "      <td>...</td>\n",
              "      <td>...</td>\n",
              "      <td>...</td>\n",
              "      <td>...</td>\n",
              "      <td>...</td>\n",
              "      <td>...</td>\n",
              "      <td>...</td>\n",
              "      <td>...</td>\n",
              "      <td>...</td>\n",
              "      <td>...</td>\n",
              "      <td>...</td>\n",
              "      <td>...</td>\n",
              "      <td>...</td>\n",
              "      <td>...</td>\n",
              "      <td>...</td>\n",
              "      <td>...</td>\n",
              "    </tr>\n",
              "    <tr>\n",
              "      <th>67</th>\n",
              "      <td>0.004802</td>\n",
              "      <td>0.000611</td>\n",
              "      <td>0.002135</td>\n",
              "      <td>0.000041</td>\n",
              "      <td>100</td>\n",
              "      <td>0.01</td>\n",
              "      <td>linear</td>\n",
              "      <td>{'C': 100, 'gamma': 0.01, 'kernel': 'linear'}</td>\n",
              "      <td>0.6875</td>\n",
              "      <td>0.6875</td>\n",
              "      <td>...</td>\n",
              "      <td>0.690121</td>\n",
              "      <td>0.019626</td>\n",
              "      <td>50</td>\n",
              "      <td>0.698413</td>\n",
              "      <td>0.698413</td>\n",
              "      <td>0.706349</td>\n",
              "      <td>0.692913</td>\n",
              "      <td>0.692913</td>\n",
              "      <td>0.697800</td>\n",
              "      <td>0.004931</td>\n",
              "    </tr>\n",
              "    <tr>\n",
              "      <th>68</th>\n",
              "      <td>0.004736</td>\n",
              "      <td>0.000656</td>\n",
              "      <td>0.002361</td>\n",
              "      <td>0.000250</td>\n",
              "      <td>100</td>\n",
              "      <td>0.1</td>\n",
              "      <td>linear</td>\n",
              "      <td>{'C': 100, 'gamma': 0.1, 'kernel': 'linear'}</td>\n",
              "      <td>0.6875</td>\n",
              "      <td>0.6875</td>\n",
              "      <td>...</td>\n",
              "      <td>0.690121</td>\n",
              "      <td>0.019626</td>\n",
              "      <td>50</td>\n",
              "      <td>0.698413</td>\n",
              "      <td>0.698413</td>\n",
              "      <td>0.706349</td>\n",
              "      <td>0.692913</td>\n",
              "      <td>0.692913</td>\n",
              "      <td>0.697800</td>\n",
              "      <td>0.004931</td>\n",
              "    </tr>\n",
              "    <tr>\n",
              "      <th>69</th>\n",
              "      <td>0.005135</td>\n",
              "      <td>0.000688</td>\n",
              "      <td>0.002195</td>\n",
              "      <td>0.000136</td>\n",
              "      <td>100</td>\n",
              "      <td>1</td>\n",
              "      <td>linear</td>\n",
              "      <td>{'C': 100, 'gamma': 1, 'kernel': 'linear'}</td>\n",
              "      <td>0.6875</td>\n",
              "      <td>0.6875</td>\n",
              "      <td>...</td>\n",
              "      <td>0.690121</td>\n",
              "      <td>0.019626</td>\n",
              "      <td>50</td>\n",
              "      <td>0.698413</td>\n",
              "      <td>0.698413</td>\n",
              "      <td>0.706349</td>\n",
              "      <td>0.692913</td>\n",
              "      <td>0.692913</td>\n",
              "      <td>0.697800</td>\n",
              "      <td>0.004931</td>\n",
              "    </tr>\n",
              "    <tr>\n",
              "      <th>70</th>\n",
              "      <td>0.005477</td>\n",
              "      <td>0.002054</td>\n",
              "      <td>0.002469</td>\n",
              "      <td>0.000401</td>\n",
              "      <td>100</td>\n",
              "      <td>10</td>\n",
              "      <td>linear</td>\n",
              "      <td>{'C': 100, 'gamma': 10, 'kernel': 'linear'}</td>\n",
              "      <td>0.6875</td>\n",
              "      <td>0.6875</td>\n",
              "      <td>...</td>\n",
              "      <td>0.690121</td>\n",
              "      <td>0.019626</td>\n",
              "      <td>50</td>\n",
              "      <td>0.698413</td>\n",
              "      <td>0.698413</td>\n",
              "      <td>0.706349</td>\n",
              "      <td>0.692913</td>\n",
              "      <td>0.692913</td>\n",
              "      <td>0.697800</td>\n",
              "      <td>0.004931</td>\n",
              "    </tr>\n",
              "    <tr>\n",
              "      <th>71</th>\n",
              "      <td>0.005364</td>\n",
              "      <td>0.001164</td>\n",
              "      <td>0.002297</td>\n",
              "      <td>0.000299</td>\n",
              "      <td>100</td>\n",
              "      <td>100</td>\n",
              "      <td>linear</td>\n",
              "      <td>{'C': 100, 'gamma': 100, 'kernel': 'linear'}</td>\n",
              "      <td>0.6875</td>\n",
              "      <td>0.6875</td>\n",
              "      <td>...</td>\n",
              "      <td>0.690121</td>\n",
              "      <td>0.019626</td>\n",
              "      <td>50</td>\n",
              "      <td>0.698413</td>\n",
              "      <td>0.698413</td>\n",
              "      <td>0.706349</td>\n",
              "      <td>0.692913</td>\n",
              "      <td>0.692913</td>\n",
              "      <td>0.697800</td>\n",
              "      <td>0.004931</td>\n",
              "    </tr>\n",
              "  </tbody>\n",
              "</table>\n",
              "<p>72 rows × 23 columns</p>\n",
              "</div>\n",
              "      <button class=\"colab-df-convert\" onclick=\"convertToInteractive('df-181de17a-ec88-4838-b676-7f2c6243e4db')\"\n",
              "              title=\"Convert this dataframe to an interactive table.\"\n",
              "              style=\"display:none;\">\n",
              "        \n",
              "  <svg xmlns=\"http://www.w3.org/2000/svg\" height=\"24px\"viewBox=\"0 0 24 24\"\n",
              "       width=\"24px\">\n",
              "    <path d=\"M0 0h24v24H0V0z\" fill=\"none\"/>\n",
              "    <path d=\"M18.56 5.44l.94 2.06.94-2.06 2.06-.94-2.06-.94-.94-2.06-.94 2.06-2.06.94zm-11 1L8.5 8.5l.94-2.06 2.06-.94-2.06-.94L8.5 2.5l-.94 2.06-2.06.94zm10 10l.94 2.06.94-2.06 2.06-.94-2.06-.94-.94-2.06-.94 2.06-2.06.94z\"/><path d=\"M17.41 7.96l-1.37-1.37c-.4-.4-.92-.59-1.43-.59-.52 0-1.04.2-1.43.59L10.3 9.45l-7.72 7.72c-.78.78-.78 2.05 0 2.83L4 21.41c.39.39.9.59 1.41.59.51 0 1.02-.2 1.41-.59l7.78-7.78 2.81-2.81c.8-.78.8-2.07 0-2.86zM5.41 20L4 18.59l7.72-7.72 1.47 1.35L5.41 20z\"/>\n",
              "  </svg>\n",
              "      </button>\n",
              "      \n",
              "  <style>\n",
              "    .colab-df-container {\n",
              "      display:flex;\n",
              "      flex-wrap:wrap;\n",
              "      gap: 12px;\n",
              "    }\n",
              "\n",
              "    .colab-df-convert {\n",
              "      background-color: #E8F0FE;\n",
              "      border: none;\n",
              "      border-radius: 50%;\n",
              "      cursor: pointer;\n",
              "      display: none;\n",
              "      fill: #1967D2;\n",
              "      height: 32px;\n",
              "      padding: 0 0 0 0;\n",
              "      width: 32px;\n",
              "    }\n",
              "\n",
              "    .colab-df-convert:hover {\n",
              "      background-color: #E2EBFA;\n",
              "      box-shadow: 0px 1px 2px rgba(60, 64, 67, 0.3), 0px 1px 3px 1px rgba(60, 64, 67, 0.15);\n",
              "      fill: #174EA6;\n",
              "    }\n",
              "\n",
              "    [theme=dark] .colab-df-convert {\n",
              "      background-color: #3B4455;\n",
              "      fill: #D2E3FC;\n",
              "    }\n",
              "\n",
              "    [theme=dark] .colab-df-convert:hover {\n",
              "      background-color: #434B5C;\n",
              "      box-shadow: 0px 1px 3px 1px rgba(0, 0, 0, 0.15);\n",
              "      filter: drop-shadow(0px 1px 2px rgba(0, 0, 0, 0.3));\n",
              "      fill: #FFFFFF;\n",
              "    }\n",
              "  </style>\n",
              "\n",
              "      <script>\n",
              "        const buttonEl =\n",
              "          document.querySelector('#df-181de17a-ec88-4838-b676-7f2c6243e4db button.colab-df-convert');\n",
              "        buttonEl.style.display =\n",
              "          google.colab.kernel.accessAllowed ? 'block' : 'none';\n",
              "\n",
              "        async function convertToInteractive(key) {\n",
              "          const element = document.querySelector('#df-181de17a-ec88-4838-b676-7f2c6243e4db');\n",
              "          const dataTable =\n",
              "            await google.colab.kernel.invokeFunction('convertToInteractive',\n",
              "                                                     [key], {});\n",
              "          if (!dataTable) return;\n",
              "\n",
              "          const docLinkHtml = 'Like what you see? Visit the ' +\n",
              "            '<a target=\"_blank\" href=https://colab.research.google.com/notebooks/data_table.ipynb>data table notebook</a>'\n",
              "            + ' to learn more about interactive tables.';\n",
              "          element.innerHTML = '';\n",
              "          dataTable['output_type'] = 'display_data';\n",
              "          await google.colab.output.renderOutput(dataTable, element);\n",
              "          const docLink = document.createElement('div');\n",
              "          docLink.innerHTML = docLinkHtml;\n",
              "          element.appendChild(docLink);\n",
              "        }\n",
              "      </script>\n",
              "    </div>\n",
              "  </div>\n",
              "  "
            ]
          },
          "metadata": {},
          "execution_count": 66
        }
      ]
    },
    {
      "cell_type": "code",
      "source": [
        "plt.plot(result_grid['param_C'], result_grid['mean_train_score'], label=\"Train\")\n",
        "plt.plot(result_grid['param_C'], result_grid['mean_test_score'], label=\"Test\")\n",
        "plt.legend()"
      ],
      "metadata": {
        "colab": {
          "base_uri": "https://localhost:8080/",
          "height": 283
        },
        "id": "_42awDuJfBoI",
        "outputId": "eda90db3-6302-4c8c-b92e-d91d89a62a24"
      },
      "execution_count": 67,
      "outputs": [
        {
          "output_type": "execute_result",
          "data": {
            "text/plain": [
              "<matplotlib.legend.Legend at 0x7fc6fd59cc50>"
            ]
          },
          "metadata": {},
          "execution_count": 67
        },
        {
          "output_type": "display_data",
          "data": {
            "text/plain": [
              "<Figure size 432x288 with 1 Axes>"
            ],
            "image/png": "[encoded data removed]"
          },
          "metadata": {
            "needs_background": "light"
          }
        }
      ]
    },
    {
      "cell_type": "code",
      "source": [
        "plt.plot(result_grid['param_gamma'], result_grid['mean_train_score'], label=\"Train\")\n",
        "plt.plot(result_grid['param_gamma'], result_grid['mean_test_score'], label=\"Test\")\n",
        "plt.legend()"
      ],
      "metadata": {
        "colab": {
          "base_uri": "https://localhost:8080/",
          "height": 283
        },
        "id": "sCloOnNPmKKW",
        "outputId": "cb1495b9-4cd1-4760-f5ee-269a9f247f72"
      },
      "execution_count": 68,
      "outputs": [
        {
          "output_type": "execute_result",
          "data": {
            "text/plain": [
              "<matplotlib.legend.Legend at 0x7fc6fd4b8cd0>"
            ]
          },
          "metadata": {},
          "execution_count": 68
        },
        {
          "output_type": "display_data",
          "data": {
            "text/plain": [
              "<Figure size 432x288 with 1 Axes>"
            ],
            "image/png": "[encoded data removed]"
          },
          "metadata": {
            "needs_background": "light"
          }
        }
      ]
    },
    {
      "cell_type": "markdown",
      "source": [
        "#3. Random Search"
      ],
      "metadata": {
        "id": "-Mzx4uR1ezKH"
      }
    },
    {
      "cell_type": "code",
      "source": [
        "param_distribs={'kernel': ['rbf'], \n",
        "                'C': randint(low=0.001, high=100),\n",
        "                'gamma': randint(low=0.001, high=100)}"
      ],
      "metadata": {
        "id": "LcsOQkwomrW9"
      },
      "execution_count": 73,
      "outputs": []
    },
    {
      "cell_type": "code",
      "source": [
        "random_search=RandomizedSearchCV(SVC(), param_distributions=param_distribs, \n",
        "                                 cv=5, return_train_score=True)\n"
      ],
      "metadata": {
        "id": "-TnNgTQqmrUX"
      },
      "execution_count": 74,
      "outputs": []
    },
    {
      "cell_type": "code",
      "source": [
        "random_search.fit(X_train, y_train)"
      ],
      "metadata": {
        "colab": {
          "base_uri": "https://localhost:8080/"
        },
        "id": "aDqcMm3xmrRw",
        "outputId": "a4c05db7-f43e-4852-a2c3-8196cacc3d09"
      },
      "execution_count": 75,
      "outputs": [
        {
          "output_type": "execute_result",
          "data": {
            "text/plain": [
              "RandomizedSearchCV(cv=5, estimator=SVC(),\n",
              "                   param_distributions={'C': <scipy.stats._distn_infrastructure.rv_frozen object at 0x7fc6fd543e90>,\n",
              "                                        'gamma': <scipy.stats._distn_infrastructure.rv_frozen object at 0x7fc6fd48a8d0>,\n",
              "                                        'kernel': ['rbf']},\n",
              "                   return_train_score=True)"
            ]
          },
          "metadata": {},
          "execution_count": 75
        }
      ]
    },
    {
      "cell_type": "code",
      "source": [
        "print(\"Best Parameter:{}\".format(random_search.best_params_))\n",
        "print(\"Best Cross-validity Score: {:.3f}\".format(random_search.best_score_))\n",
        "print(\"Test set Score:{:.3f}\".format(random_search.score(X_test, y_test)))"
      ],
      "metadata": {
        "colab": {
          "base_uri": "https://localhost:8080/"
        },
        "id": "Xxsk52rLmrPi",
        "outputId": "74f6bd18-05d7-4a42-98aa-e0a69345e8fb"
      },
      "execution_count": 76,
      "outputs": [
        {
          "output_type": "stream",
          "name": "stdout",
          "text": [
            "Best Parameter:{'C': 95, 'gamma': 88, 'kernel': 'rbf'}\n",
            "Best Cross-validity Score: 0.665\n",
            "Test set Score:0.755\n"
          ]
        }
      ]
    },
    {
      "cell_type": "code",
      "source": [
        "result_random=random_search.cv_results_\n",
        "result_random=pd.DataFrame(result_random)"
      ],
      "metadata": {
        "id": "mHoSO5PumrNF"
      },
      "execution_count": 77,
      "outputs": []
    },
    {
      "cell_type": "code",
      "source": [
        "plt.plot(result_grid['param_C'], result_grid['mean_train_score'], label='Train')\n",
        "plt.plot(result_grid['param_C'], result_grid['mean_test_score'], label='Test')\n",
        "plt.legend()"
      ],
      "metadata": {
        "colab": {
          "base_uri": "https://localhost:8080/",
          "height": 283
        },
        "id": "K4w1SB_9mrKe",
        "outputId": "696e2f24-7026-4d8c-8af9-639834e4537c"
      },
      "execution_count": 78,
      "outputs": [
        {
          "output_type": "execute_result",
          "data": {
            "text/plain": [
              "<matplotlib.legend.Legend at 0x7fc6fd3ee310>"
            ]
          },
          "metadata": {},
          "execution_count": 78
        },
        {
          "output_type": "display_data",
          "data": {
            "text/plain": [
              "<Figure size 432x288 with 1 Axes>"
            ],
            "image/png": "[encoded data removed]"
          },
          "metadata": {
            "needs_background": "light"
          }
        }
      ]
    },
    {
      "cell_type": "code",
      "source": [
        "plt.plot(result_grid['param_gamma'], result_grid['mean_train_score'], label='Train')\n",
        "plt.plot(result_grid['param_gamma'], result_grid['mean_test_score'], label='Test')\n",
        "plt.legend()"
      ],
      "metadata": {
        "colab": {
          "base_uri": "https://localhost:8080/",
          "height": 283
        },
        "id": "D1jLwG56mrGk",
        "outputId": "9266f320-0a43-40ae-d06f-288b3b620104"
      },
      "execution_count": 79,
      "outputs": [
        {
          "output_type": "execute_result",
          "data": {
            "text/plain": [
              "<matplotlib.legend.Legend at 0x7fc6fd4e6f90>"
            ]
          },
          "metadata": {},
          "execution_count": 79
        },
        {
          "output_type": "display_data",
          "data": {
            "text/plain": [
              "<Figure size 432x288 with 1 Axes>"
            ],
            "image/png": "[encoded data removed]"
          },
          "metadata": {
            "needs_background": "light"
          }
        }
      ]
    },
    {
      "cell_type": "markdown",
      "source": [
        "#4. 모델평가"
      ],
      "metadata": {
        "id": "ocs_YL3nmq2Q"
      }
    },
    {
      "cell_type": "code",
      "source": [
        "svc1=SVC(C=80, gamma=71, kernel='rbf')\n",
        "svc1.fit(X_train, y_train)"
      ],
      "metadata": {
        "colab": {
          "base_uri": "https://localhost:8080/"
        },
        "id": "l8O-TwrPp_P7",
        "outputId": "827b27f7-b43c-45ff-9ebe-e8d0f28dc3b6"
      },
      "execution_count": 80,
      "outputs": [
        {
          "output_type": "execute_result",
          "data": {
            "text/plain": [
              "SVC(C=80, gamma=71)"
            ]
          },
          "metadata": {},
          "execution_count": 80
        }
      ]
    },
    {
      "cell_type": "code",
      "source": [
        "pred_train1=svc1.predict(X_train)"
      ],
      "metadata": {
        "id": "-6nwyksvp_rq"
      },
      "execution_count": 81,
      "outputs": []
    },
    {
      "cell_type": "code",
      "source": [
        "confusion_train1=confusion_matrix(y_train, pred_train1)\n",
        "print(\"훈련데이터 오차행렬:\\n\", confusion_train1)\n",
        "\n"
      ],
      "metadata": {
        "colab": {
          "base_uri": "https://localhost:8080/"
        },
        "id": "jgDvkOPzp_pl",
        "outputId": "9603c5c5-f007-4038-dc0c-427c1acfe744"
      },
      "execution_count": 83,
      "outputs": [
        {
          "output_type": "stream",
          "name": "stdout",
          "text": [
            "훈련데이터 오차행렬:\n",
            " [[ 48   0]\n",
            " [  0 110]]\n"
          ]
        }
      ]
    },
    {
      "cell_type": "code",
      "source": [
        "y_test.shape"
      ],
      "metadata": {
        "colab": {
          "base_uri": "https://localhost:8080/"
        },
        "id": "3cgSzDiArKL3",
        "outputId": "b07f0665-f24d-4eb4-acd6-f8c2b6e1cc1a"
      },
      "execution_count": 87,
      "outputs": [
        {
          "output_type": "execute_result",
          "data": {
            "text/plain": [
              "(53, 1)"
            ]
          },
          "metadata": {},
          "execution_count": 87
        }
      ]
    },
    {
      "cell_type": "code",
      "source": [
        "pred_test1.shape"
      ],
      "metadata": {
        "colab": {
          "base_uri": "https://localhost:8080/"
        },
        "id": "-aVYIP3frMf4",
        "outputId": "8c187001-a501-4f0f-83e1-8810e9e5890d"
      },
      "execution_count": 88,
      "outputs": [
        {
          "output_type": "execute_result",
          "data": {
            "text/plain": [
              "(158,)"
            ]
          },
          "metadata": {},
          "execution_count": 88
        }
      ]
    },
    {
      "cell_type": "code",
      "source": [
        "X_train.shape"
      ],
      "metadata": {
        "colab": {
          "base_uri": "https://localhost:8080/"
        },
        "id": "J0Euyi_ErRN1",
        "outputId": "2bf5ba89-4165-4a33-eed2-b4951cb76314"
      },
      "execution_count": 89,
      "outputs": [
        {
          "output_type": "execute_result",
          "data": {
            "text/plain": [
              "(158, 13)"
            ]
          },
          "metadata": {},
          "execution_count": 89
        }
      ]
    },
    {
      "cell_type": "code",
      "source": [
        "pred_test1=svc1.predict(X_test)\n",
        "confusion_test1=confusion_matrix(y_test,pred_test1)\n",
        "print(\"테스트 데이터 오차행렬:\\n\", confusion_test1)"
      ],
      "metadata": {
        "colab": {
          "base_uri": "https://localhost:8080/"
        },
        "id": "WilksVUAp_mk",
        "outputId": "40aa1178-9b4d-499c-cd04-54f1c892144c"
      },
      "execution_count": 94,
      "outputs": [
        {
          "output_type": "stream",
          "name": "stdout",
          "text": [
            "테스트 데이터 오차행렬:\n",
            " [[ 0 13]\n",
            " [ 0 40]]\n"
          ]
        }
      ]
    },
    {
      "cell_type": "code",
      "source": [
        "f1=f1_score(y_test,pred_test1)\n",
        "print(\"f1 score:\\n\", f1)"
      ],
      "metadata": {
        "colab": {
          "base_uri": "https://localhost:8080/"
        },
        "id": "OEJH1svzp_jm",
        "outputId": "ed6ab9fe-0f31-4d95-be99-6b17a41ac695"
      },
      "execution_count": 95,
      "outputs": [
        {
          "output_type": "stream",
          "name": "stdout",
          "text": [
            "f1 score:\n",
            " 0.8602150537634409\n"
          ]
        }
      ]
    },
    {
      "cell_type": "code",
      "source": [
        "cfreport=classification_report(y_test, pred_test1)\n",
        "print(\"분류 예측 리포트:\\n\", cfreport)"
      ],
      "metadata": {
        "colab": {
          "base_uri": "https://localhost:8080/"
        },
        "id": "wInuhxG2r4IW",
        "outputId": "51961fb0-95a2-4f42-c51d-85b84ae3eb9a"
      },
      "execution_count": 97,
      "outputs": [
        {
          "output_type": "stream",
          "name": "stdout",
          "text": [
            "분류 예측 리포트:\n",
            "               precision    recall  f1-score   support\n",
            "\n",
            "           0       0.00      0.00      0.00        13\n",
            "           1       0.75      1.00      0.86        40\n",
            "\n",
            "    accuracy                           0.75        53\n",
            "   macro avg       0.38      0.50      0.43        53\n",
            "weighted avg       0.57      0.75      0.65        53\n",
            "\n"
          ]
        }
      ]
    },
    {
      "cell_type": "markdown",
      "source": [
        "#5. 다중분류의 적용 "
      ],
      "metadata": {
        "id": "W1hs9N0oSaPB"
      }
    },
    {
      "cell_type": "code",
      "source": [
        "data.columns"
      ],
      "metadata": {
        "colab": {
          "base_uri": "https://localhost:8080/"
        },
        "id": "YMMmYdT5sJmE",
        "outputId": "e365e379-91ad-4ce2-b2c8-e979cd5e5f7e"
      },
      "execution_count": 98,
      "outputs": [
        {
          "output_type": "execute_result",
          "data": {
            "text/plain": [
              "Index(['Unnamed: 0', 'gender_female', 'gender_male', 'region_Chungcheung',\n",
              "       'region_Honam', 'region_Others', 'region_Sudo', 'region_Youngnam',\n",
              "       'edu', 'income', 'age', 'score_gov', 'score_progress',\n",
              "       'score_intention', 'vote', 'parties'],\n",
              "      dtype='object')"
            ]
          },
          "metadata": {},
          "execution_count": 98
        }
      ]
    },
    {
      "cell_type": "code",
      "source": [
        "X1=data[['gender_female', 'gender_male', 'region_Chungcheung',\n",
        "       'region_Honam', 'region_Others', 'region_Sudo', 'region_Youngnam',\n",
        "       'edu', 'income', 'age', 'score_gov', 'score_progress',\n",
        "       'score_intention']]\n",
        "y1=data[['parties']]"
      ],
      "metadata": {
        "id": "9H_1xb-w6Ldq"
      },
      "execution_count": 108,
      "outputs": []
    },
    {
      "cell_type": "code",
      "source": [
        "X_train, X_test, y_train, y_test=train_test_split(X,y1,random_state=42)"
      ],
      "metadata": {
        "id": "IReJA2wHsHlT"
      },
      "execution_count": 109,
      "outputs": []
    },
    {
      "cell_type": "code",
      "source": [
        "parma_grid=[{'kernel':['rbf'], 'C':[0.001,0.01,0.1,1,10,100],\n",
        "             'gamma':[0.001,0.01,0.1,1,10,100]},\n",
        "            {'kernel':['linear'],'C':[0.001,0.01,0.1,1,10,100],\n",
        "             'gamma':[0.001,0.01,0.1,1,10,100]}]\n",
        "grid_search=GridSearchCV(SVC(), param_grid, cv=5)\n",
        "grid_search.fit(X_train,y_train)"
      ],
      "metadata": {
        "colab": {
          "base_uri": "https://localhost:8080/"
        },
        "id": "zUL6Ac8HsHis",
        "outputId": "8557a4ad-7de4-4129-833f-0d283efa7b2a"
      },
      "execution_count": 110,
      "outputs": [
        {
          "output_type": "execute_result",
          "data": {
            "text/plain": [
              "GridSearchCV(cv=5, estimator=SVC(),\n",
              "             param_grid=[{'C': [0.001, 0.01, 0.1, 1, 10, 100],\n",
              "                          'gamma': [0.001, 0.01, 0.1, 1, 10, 100],\n",
              "                          'kernel': ['rbf']},\n",
              "                         {'C': [0.001, 0.01, 0.1, 1, 10, 100],\n",
              "                          'gamma': [0.001, 0.01, 0.1, 1, 10, 100],\n",
              "                          'kernel': ['linear']}])"
            ]
          },
          "metadata": {},
          "execution_count": 110
        }
      ]
    },
    {
      "cell_type": "code",
      "source": [
        "print(\"Best Parameter:{}\".format(grid_search.best_params_))\n",
        "print(\"Best Cross validity Score:{:.3f}\".format(grid_search.best_score_))\n",
        "print(\"Test set score:{:.3f}\".format(grid_search.score(X_test,y_test)))"
      ],
      "metadata": {
        "colab": {
          "base_uri": "https://localhost:8080/"
        },
        "id": "1Ii1ZNQnsHgG",
        "outputId": "dc5d464e-75e7-4ad2-8a2d-001b91f2ed1c"
      },
      "execution_count": 112,
      "outputs": [
        {
          "output_type": "stream",
          "name": "stdout",
          "text": [
            "Best Parameter:{'C': 10, 'gamma': 0.001, 'kernel': 'linear'}\n",
            "Best Cross validity Score:0.571\n",
            "Test set score:0.509\n"
          ]
        }
      ]
    },
    {
      "cell_type": "code",
      "source": [
        "svc2=SVC(C=10, gamma=0.001, kernel='linear')\n",
        "svc2.fit(X_train, y_train)"
      ],
      "metadata": {
        "colab": {
          "base_uri": "https://localhost:8080/"
        },
        "id": "0nRZo09YsHdi",
        "outputId": "3194487b-e5d3-4cd3-bdef-03df861b4145"
      },
      "execution_count": 113,
      "outputs": [
        {
          "output_type": "execute_result",
          "data": {
            "text/plain": [
              "SVC(C=10, gamma=0.001, kernel='linear')"
            ]
          },
          "metadata": {},
          "execution_count": 113
        }
      ]
    },
    {
      "cell_type": "code",
      "source": [
        "pred_train=svc2.predict(X_train)\n",
        "confusion_train=confusion_matrix(y_train, pred_train)\n",
        "print(\"훈련데이터 오차행렬:\\n\", confusion_train)"
      ],
      "metadata": {
        "colab": {
          "base_uri": "https://localhost:8080/"
        },
        "id": "ywUeqlwSsHbE",
        "outputId": "bf8a3a90-e205-4518-bd92-6f88e7ab67ae"
      },
      "execution_count": 114,
      "outputs": [
        {
          "output_type": "stream",
          "name": "stdout",
          "text": [
            "훈련데이터 오차행렬:\n",
            " [[23  2  3  9]\n",
            " [ 3 25  1  8]\n",
            " [ 2  1  6 10]\n",
            " [ 7  4  2 52]]\n"
          ]
        }
      ]
    },
    {
      "cell_type": "code",
      "source": [
        "pred_test=svc2.predict(X_test)\n",
        "confusion_test=confusion_matrix(y_test, pred_test)\n",
        "print(\"테스트 데이터 오차행렬:\\n\", confusion_test)"
      ],
      "metadata": {
        "colab": {
          "base_uri": "https://localhost:8080/"
        },
        "id": "9k005pobudjh",
        "outputId": "3d1bdc74-8639-407a-dbe2-66ec9c092056"
      },
      "execution_count": 115,
      "outputs": [
        {
          "output_type": "stream",
          "name": "stdout",
          "text": [
            "테스트 데이터 오차행렬:\n",
            " [[ 5  2  1  5]\n",
            " [ 2  8  1  5]\n",
            " [ 2  0  1  3]\n",
            " [ 3  2  0 13]]\n"
          ]
        }
      ]
    },
    {
      "cell_type": "code",
      "source": [
        "f1=f1_score(y_test, pred_test, average='micro')\n",
        "f2=f1_score(y_test,pred_test,average='macro')\n",
        "print('macro f1 score:\\n',f2)"
      ],
      "metadata": {
        "colab": {
          "base_uri": "https://localhost:8080/"
        },
        "id": "wrEW2_kOudgL",
        "outputId": "a17ae3fd-d93b-4a0c-d977-18078705504a"
      },
      "execution_count": 116,
      "outputs": [
        {
          "output_type": "stream",
          "name": "stdout",
          "text": [
            "macro f1 score:\n",
            " 0.44613997113997117\n"
          ]
        }
      ]
    },
    {
      "cell_type": "code",
      "source": [
        "cfreport=classification_report(y_test, pred_test)\n",
        "print('분류예측 레포트:\\n', cfreport)"
      ],
      "metadata": {
        "colab": {
          "base_uri": "https://localhost:8080/"
        },
        "id": "vQruSVRfsHY7",
        "outputId": "ea6088a0-8725-4616-dca7-5cc3304e5ee9"
      },
      "execution_count": 117,
      "outputs": [
        {
          "output_type": "stream",
          "name": "stdout",
          "text": [
            "분류예측 레포트:\n",
            "               precision    recall  f1-score   support\n",
            "\n",
            "           1       0.42      0.38      0.40        13\n",
            "           2       0.67      0.50      0.57        16\n",
            "           3       0.33      0.17      0.22         6\n",
            "           4       0.50      0.72      0.59        18\n",
            "\n",
            "    accuracy                           0.51        53\n",
            "   macro avg       0.48      0.44      0.45        53\n",
            "weighted avg       0.51      0.51      0.50        53\n",
            "\n"
          ]
        }
      ]
    },
    {
      "cell_type": "code",
      "source": [],
      "metadata": {
        "id": "1IFfHFgJsHWg"
      },
      "execution_count": null,
      "outputs": []
    },
    {
      "cell_type": "code",
      "source": [],
      "metadata": {
        "id": "EiMvq67isHUI"
      },
      "execution_count": null,
      "outputs": []
    }
  ]
}